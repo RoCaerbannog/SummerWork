{
 "metadata": {
  "name": "Plot Test"
 },
 "nbformat": 3,
 "nbformat_minor": 0,
 "worksheets": [
  {
   "cells": [
    {
     "cell_type": "code",
     "collapsed": false,
     "input": [
      "%pylab inline"
     ],
     "language": "python",
     "metadata": {},
     "outputs": [
      {
       "output_type": "stream",
       "stream": "stdout",
       "text": [
        "\n",
        "Welcome to pylab, a matplotlib-based Python environment [backend: module://IPython.kernel.zmq.pylab.backend_inline].\n",
        "For more information, type 'help(pylab)'.\n"
       ]
      }
     ],
     "prompt_number": 5
    },
    {
     "cell_type": "code",
     "collapsed": false,
     "input": [
      "from matplotlib.patches import Ellipse"
     ],
     "language": "python",
     "metadata": {},
     "outputs": [],
     "prompt_number": 6
    },
    {
     "cell_type": "code",
     "collapsed": false,
     "input": [
      "from LC_VHE_test_v2 import *"
     ],
     "language": "python",
     "metadata": {},
     "outputs": [],
     "prompt_number": 7
    },
    {
     "cell_type": "code",
     "collapsed": false,
     "input": [
      "GRB080916C = take_data(Burst = '080916009', redshift = 4.35, eblModel = 'Dominguez', instrument = 'VERITAS', zenith = 20)"
     ],
     "language": "python",
     "metadata": {},
     "outputs": [
      {
       "output_type": "stream",
       "stream": "stderr",
       "text": [
        "WARNING - Using maximum redshift in EBL table.\n"
       ]
      },
      {
       "output_type": "stream",
       "stream": "stderr",
       "text": [
        "WARNING - Spectrum starts below minimum energy in EBL table.\n"
       ]
      },
      {
       "output_type": "stream",
       "stream": "stderr",
       "text": [
        "WARNING - Spectrum continues beyond maximum energy in EBL table.\n"
       ]
      },
      {
       "output_type": "stream",
       "stream": "stderr",
       "text": [
        "WARNING - Using 659.0 counts/hr as the rate from the Crab Nebula.\n"
       ]
      },
      {
       "output_type": "stream",
       "stream": "stderr",
       "text": [
        "WARNING - Time to detection assumes a Crab Nebula Spectrum.\n"
       ]
      },
      {
       "output_type": "stream",
       "stream": "stderr",
       "text": [
        "INFO - Using Effective_Areas/VERITAS/ea_Nov2010_na_ATM21_vegasv240rc1_7sam_050off_soft-1.summary.csv\n"
       ]
      },
      {
       "output_type": "stream",
       "stream": "stderr",
       "text": [
        "INFO - Using EffectiveArea_Azimuth_0_Zenith_20_Noise_4.07\n"
       ]
      },
      {
       "output_type": "stream",
       "stream": "stderr",
       "text": [
        "INFO - Safe energy range: 177.83 to 25,118.86 GeV\n"
       ]
      },
      {
       "output_type": "stream",
       "stream": "stderr",
       "text": [
        "INFO - dNdE at 1 GeV: 5.19e+01 s^-1 cm^-2 GeV^-1\n"
       ]
      },
      {
       "output_type": "stream",
       "stream": "stderr",
       "text": [
        "INFO - dNdE at 400 GeV: 2.32e-05 s^-1 cm^-2 GeV^-1\n"
       ]
      },
      {
       "output_type": "stream",
       "stream": "stderr",
       "text": [
        "INFO - dNdE at 1 TeV: 2.48e-06 s^-1 cm^-2 GeV^-1\n"
       ]
      },
      {
       "output_type": "stream",
       "stream": "stderr",
       "text": [
        "INFO - tau at min safe E: 5.37\n"
       ]
      },
      {
       "output_type": "stream",
       "stream": "stderr",
       "text": [
        "INFO - tau at max safe E: 3,150.77\n"
       ]
      },
      {
       "output_type": "stream",
       "stream": "stderr",
       "text": [
        "INFO - Predicted counts/hour: 1.84e+07\n"
       ]
      },
      {
       "output_type": "stream",
       "stream": "stderr",
       "text": [
        "INFO - This is approximately 2,793,934.1626% of the Crab Nebula's Flux\n"
       ]
      },
      {
       "output_type": "stream",
       "stream": "stderr",
       "text": [
        "INFO - This will take approximately 0.0107 hours to detect at a 5 sigma level\n"
       ]
      },
      {
       "output_type": "stream",
       "stream": "stderr",
       "text": [
        "WARNING - Using maximum redshift in EBL table.\n"
       ]
      },
      {
       "output_type": "stream",
       "stream": "stderr",
       "text": [
        "WARNING - Spectrum starts below minimum energy in EBL table.\n"
       ]
      },
      {
       "output_type": "stream",
       "stream": "stderr",
       "text": [
        "WARNING - Spectrum continues beyond maximum energy in EBL table.\n"
       ]
      },
      {
       "output_type": "stream",
       "stream": "stderr",
       "text": [
        "WARNING - Using 659.0 counts/hr as the rate from the Crab Nebula.\n"
       ]
      },
      {
       "output_type": "stream",
       "stream": "stderr",
       "text": [
        "WARNING - Time to detection assumes a Crab Nebula Spectrum.\n"
       ]
      },
      {
       "output_type": "stream",
       "stream": "stderr",
       "text": [
        "INFO - Using Effective_Areas/VERITAS/ea_Nov2010_na_ATM21_vegasv240rc1_7sam_050off_soft-1.summary.csv\n"
       ]
      },
      {
       "output_type": "stream",
       "stream": "stderr",
       "text": [
        "INFO - Using EffectiveArea_Azimuth_0_Zenith_20_Noise_4.07\n"
       ]
      },
      {
       "output_type": "stream",
       "stream": "stderr",
       "text": [
        "INFO - Safe energy range: 177.83 to 25,118.86 GeV\n"
       ]
      },
      {
       "output_type": "stream",
       "stream": "stderr",
       "text": [
        "INFO - dNdE at 1 GeV: 8.69e+00 s^-1 cm^-2 GeV^-1\n"
       ]
      },
      {
       "output_type": "stream",
       "stream": "stderr",
       "text": [
        "INFO - dNdE at 400 GeV: 1.54e-05 s^-1 cm^-2 GeV^-1\n"
       ]
      },
      {
       "output_type": "stream",
       "stream": "stderr",
       "text": [
        "INFO - dNdE at 1 TeV: 2.04e-06 s^-1 cm^-2 GeV^-1\n"
       ]
      },
      {
       "output_type": "stream",
       "stream": "stderr",
       "text": [
        "INFO - tau at min safe E: 5.37\n"
       ]
      },
      {
       "output_type": "stream",
       "stream": "stderr",
       "text": [
        "INFO - tau at max safe E: 3,150.77\n"
       ]
      },
      {
       "output_type": "stream",
       "stream": "stderr",
       "text": [
        "INFO - Predicted counts/hour: 1.04e+07\n"
       ]
      },
      {
       "output_type": "stream",
       "stream": "stderr",
       "text": [
        "INFO - This is approximately 1,577,237.3227% of the Crab Nebula's Flux\n"
       ]
      },
      {
       "output_type": "stream",
       "stream": "stderr",
       "text": [
        "INFO - This will take approximately 0.0107 hours to detect at a 5 sigma level\n"
       ]
      },
      {
       "output_type": "stream",
       "stream": "stderr",
       "text": [
        "WARNING - Using maximum redshift in EBL table.\n"
       ]
      },
      {
       "output_type": "stream",
       "stream": "stderr",
       "text": [
        "WARNING - Spectrum starts below minimum energy in EBL table.\n"
       ]
      },
      {
       "output_type": "stream",
       "stream": "stderr",
       "text": [
        "WARNING - Spectrum continues beyond maximum energy in EBL table.\n"
       ]
      },
      {
       "output_type": "stream",
       "stream": "stderr",
       "text": [
        "WARNING - Using 659.0 counts/hr as the rate from the Crab Nebula.\n"
       ]
      },
      {
       "output_type": "stream",
       "stream": "stderr",
       "text": [
        "WARNING - Time to detection assumes a Crab Nebula Spectrum.\n"
       ]
      },
      {
       "output_type": "stream",
       "stream": "stderr",
       "text": [
        "INFO - Using Effective_Areas/VERITAS/ea_Nov2010_na_ATM21_vegasv240rc1_7sam_050off_soft-1.summary.csv\n"
       ]
      },
      {
       "output_type": "stream",
       "stream": "stderr",
       "text": [
        "INFO - Using EffectiveArea_Azimuth_0_Zenith_20_Noise_4.07\n"
       ]
      },
      {
       "output_type": "stream",
       "stream": "stderr",
       "text": [
        "INFO - Safe energy range: 177.83 to 25,118.86 GeV\n"
       ]
      },
      {
       "output_type": "stream",
       "stream": "stderr",
       "text": [
        "INFO - dNdE at 1 GeV: 1.43e+00 s^-1 cm^-2 GeV^-1\n"
       ]
      },
      {
       "output_type": "stream",
       "stream": "stderr",
       "text": [
        "INFO - dNdE at 400 GeV: 1.45e-05 s^-1 cm^-2 GeV^-1\n"
       ]
      },
      {
       "output_type": "stream",
       "stream": "stderr",
       "text": [
        "INFO - dNdE at 1 TeV: 2.49e-06 s^-1 cm^-2 GeV^-1\n"
       ]
      },
      {
       "output_type": "stream",
       "stream": "stderr",
       "text": [
        "INFO - tau at min safe E: 5.37\n"
       ]
      },
      {
       "output_type": "stream",
       "stream": "stderr",
       "text": [
        "INFO - tau at max safe E: 3,150.77\n"
       ]
      },
      {
       "output_type": "stream",
       "stream": "stderr",
       "text": [
        "INFO - Predicted counts/hour: 7.94e+06\n"
       ]
      },
      {
       "output_type": "stream",
       "stream": "stderr",
       "text": [
        "INFO - This is approximately 1,204,305.1328% of the Crab Nebula's Flux\n"
       ]
      },
      {
       "output_type": "stream",
       "stream": "stderr",
       "text": [
        "INFO - This will take approximately 0.0107 hours to detect at a 5 sigma level\n"
       ]
      },
      {
       "output_type": "stream",
       "stream": "stderr",
       "text": [
        "WARNING - Using maximum redshift in EBL table.\n"
       ]
      },
      {
       "output_type": "stream",
       "stream": "stderr",
       "text": [
        "WARNING - Spectrum starts below minimum energy in EBL table.\n"
       ]
      },
      {
       "output_type": "stream",
       "stream": "stderr",
       "text": [
        "WARNING - Spectrum continues beyond maximum energy in EBL table.\n"
       ]
      },
      {
       "output_type": "stream",
       "stream": "stderr",
       "text": [
        "WARNING - Using 659.0 counts/hr as the rate from the Crab Nebula.\n"
       ]
      },
      {
       "output_type": "stream",
       "stream": "stderr",
       "text": [
        "WARNING - Time to detection assumes a Crab Nebula Spectrum.\n"
       ]
      },
      {
       "output_type": "stream",
       "stream": "stderr",
       "text": [
        "INFO - Using Effective_Areas/VERITAS/ea_Nov2010_na_ATM21_vegasv240rc1_7sam_050off_soft-1.summary.csv\n"
       ]
      },
      {
       "output_type": "stream",
       "stream": "stderr",
       "text": [
        "INFO - Using EffectiveArea_Azimuth_0_Zenith_20_Noise_4.07\n"
       ]
      },
      {
       "output_type": "stream",
       "stream": "stderr",
       "text": [
        "INFO - Safe energy range: 177.83 to 25,118.86 GeV\n"
       ]
      },
      {
       "output_type": "stream",
       "stream": "stderr",
       "text": [
        "INFO - dNdE at 1 GeV: 2.01e+00 s^-1 cm^-2 GeV^-1\n"
       ]
      },
      {
       "output_type": "stream",
       "stream": "stderr",
       "text": [
        "INFO - dNdE at 400 GeV: 2.21e-06 s^-1 cm^-2 GeV^-1\n"
       ]
      },
      {
       "output_type": "stream",
       "stream": "stderr",
       "text": [
        "INFO - dNdE at 1 TeV: 2.72e-07 s^-1 cm^-2 GeV^-1\n"
       ]
      },
      {
       "output_type": "stream",
       "stream": "stderr",
       "text": [
        "INFO - tau at min safe E: 5.37\n"
       ]
      },
      {
       "output_type": "stream",
       "stream": "stderr",
       "text": [
        "INFO - tau at max safe E: 3,150.77\n"
       ]
      },
      {
       "output_type": "stream",
       "stream": "stderr",
       "text": [
        "INFO - Predicted counts/hour: 1.58e+06\n"
       ]
      },
      {
       "output_type": "stream",
       "stream": "stderr",
       "text": [
        "INFO - This is approximately 239,324.1314% of the Crab Nebula's Flux\n"
       ]
      },
      {
       "output_type": "stream",
       "stream": "stderr",
       "text": [
        "INFO - This will take approximately 0.0107 hours to detect at a 5 sigma level\n"
       ]
      },
      {
       "output_type": "stream",
       "stream": "stderr",
       "text": [
        "WARNING - Using maximum redshift in EBL table.\n"
       ]
      },
      {
       "output_type": "stream",
       "stream": "stderr",
       "text": [
        "WARNING - Spectrum starts below minimum energy in EBL table.\n"
       ]
      },
      {
       "output_type": "stream",
       "stream": "stderr",
       "text": [
        "WARNING - Spectrum continues beyond maximum energy in EBL table.\n"
       ]
      },
      {
       "output_type": "stream",
       "stream": "stderr",
       "text": [
        "WARNING - Using 659.0 counts/hr as the rate from the Crab Nebula.\n"
       ]
      },
      {
       "output_type": "stream",
       "stream": "stderr",
       "text": [
        "WARNING - Time to detection assumes a Crab Nebula Spectrum.\n"
       ]
      },
      {
       "output_type": "stream",
       "stream": "stderr",
       "text": [
        "INFO - Using Effective_Areas/VERITAS/ea_Nov2010_na_ATM21_vegasv240rc1_7sam_050off_soft-1.summary.csv\n"
       ]
      },
      {
       "output_type": "stream",
       "stream": "stderr",
       "text": [
        "INFO - Using EffectiveArea_Azimuth_0_Zenith_20_Noise_4.07\n"
       ]
      },
      {
       "output_type": "stream",
       "stream": "stderr",
       "text": [
        "INFO - Safe energy range: 177.83 to 25,118.86 GeV\n"
       ]
      },
      {
       "output_type": "stream",
       "stream": "stderr",
       "text": [
        "INFO - dNdE at 1 GeV: 2.21e-01 s^-1 cm^-2 GeV^-1\n"
       ]
      },
      {
       "output_type": "stream",
       "stream": "stderr",
       "text": [
        "INFO - dNdE at 400 GeV: 1.56e-06 s^-1 cm^-2 GeV^-1\n"
       ]
      },
      {
       "output_type": "stream",
       "stream": "stderr",
       "text": [
        "INFO - dNdE at 1 TeV: 2.54e-07 s^-1 cm^-2 GeV^-1\n"
       ]
      },
      {
       "output_type": "stream",
       "stream": "stderr",
       "text": [
        "INFO - tau at min safe E: 5.37\n"
       ]
      },
      {
       "output_type": "stream",
       "stream": "stderr",
       "text": [
        "INFO - tau at max safe E: 3,150.77\n"
       ]
      },
      {
       "output_type": "stream",
       "stream": "stderr",
       "text": [
        "INFO - Predicted counts/hour: 8.90e+05\n"
       ]
      },
      {
       "output_type": "stream",
       "stream": "stderr",
       "text": [
        "INFO - This is approximately 135,024.7456% of the Crab Nebula's Flux\n"
       ]
      },
      {
       "output_type": "stream",
       "stream": "stderr",
       "text": [
        "INFO - This will take approximately 0.0107 hours to detect at a 5 sigma level\n"
       ]
      },
      {
       "output_type": "stream",
       "stream": "stderr",
       "text": [
        "WARNING - Using maximum redshift in EBL table.\n"
       ]
      },
      {
       "output_type": "stream",
       "stream": "stderr",
       "text": [
        "WARNING - Spectrum starts below minimum energy in EBL table.\n"
       ]
      },
      {
       "output_type": "stream",
       "stream": "stderr",
       "text": [
        "WARNING - Spectrum continues beyond maximum energy in EBL table.\n"
       ]
      },
      {
       "output_type": "stream",
       "stream": "stderr",
       "text": [
        "WARNING - Using 659.0 counts/hr as the rate from the Crab Nebula.\n"
       ]
      },
      {
       "output_type": "stream",
       "stream": "stderr",
       "text": [
        "WARNING - Time to detection assumes a Crab Nebula Spectrum.\n"
       ]
      },
      {
       "output_type": "stream",
       "stream": "stderr",
       "text": [
        "INFO - Using Effective_Areas/VERITAS/ea_Nov2010_na_ATM21_vegasv240rc1_7sam_050off_soft-1.summary.csv\n"
       ]
      },
      {
       "output_type": "stream",
       "stream": "stderr",
       "text": [
        "INFO - Using EffectiveArea_Azimuth_0_Zenith_20_Noise_4.07\n"
       ]
      },
      {
       "output_type": "stream",
       "stream": "stderr",
       "text": [
        "INFO - Safe energy range: 177.83 to 25,118.86 GeV\n"
       ]
      },
      {
       "output_type": "stream",
       "stream": "stderr",
       "text": [
        "INFO - dNdE at 1 GeV: 1.49e-01 s^-1 cm^-2 GeV^-1\n"
       ]
      },
      {
       "output_type": "stream",
       "stream": "stderr",
       "text": [
        "INFO - dNdE at 400 GeV: 1.15e-07 s^-1 cm^-2 GeV^-1\n"
       ]
      },
      {
       "output_type": "stream",
       "stream": "stderr",
       "text": [
        "INFO - dNdE at 1 TeV: 1.33e-08 s^-1 cm^-2 GeV^-1\n"
       ]
      },
      {
       "output_type": "stream",
       "stream": "stderr",
       "text": [
        "INFO - tau at min safe E: 5.37\n"
       ]
      },
      {
       "output_type": "stream",
       "stream": "stderr",
       "text": [
        "INFO - tau at max safe E: 3,150.77\n"
       ]
      },
      {
       "output_type": "stream",
       "stream": "stderr",
       "text": [
        "INFO - Predicted counts/hour: 8.52e+04\n"
       ]
      },
      {
       "output_type": "stream",
       "stream": "stderr",
       "text": [
        "INFO - This is approximately 12,933.0975% of the Crab Nebula's Flux\n"
       ]
      },
      {
       "output_type": "stream",
       "stream": "stderr",
       "text": [
        "INFO - This will take approximately 0.0107 hours to detect at a 5 sigma level\n"
       ]
      },
      {
       "output_type": "stream",
       "stream": "stderr",
       "text": [
        "WARNING - Using maximum redshift in EBL table.\n"
       ]
      },
      {
       "output_type": "stream",
       "stream": "stderr",
       "text": [
        "WARNING - Spectrum starts below minimum energy in EBL table.\n"
       ]
      },
      {
       "output_type": "stream",
       "stream": "stderr",
       "text": [
        "WARNING - Spectrum continues beyond maximum energy in EBL table.\n"
       ]
      },
      {
       "output_type": "stream",
       "stream": "stderr",
       "text": [
        "WARNING - Using 659.0 counts/hr as the rate from the Crab Nebula.\n"
       ]
      },
      {
       "output_type": "stream",
       "stream": "stderr",
       "text": [
        "WARNING - Time to detection assumes a Crab Nebula Spectrum.\n"
       ]
      },
      {
       "output_type": "stream",
       "stream": "stderr",
       "text": [
        "INFO - Using Effective_Areas/VERITAS/ea_Nov2010_na_ATM21_vegasv240rc1_7sam_050off_soft-1.summary.csv\n"
       ]
      },
      {
       "output_type": "stream",
       "stream": "stderr",
       "text": [
        "INFO - Using EffectiveArea_Azimuth_0_Zenith_20_Noise_4.07\n"
       ]
      },
      {
       "output_type": "stream",
       "stream": "stderr",
       "text": [
        "INFO - Safe energy range: 177.83 to 25,118.86 GeV\n"
       ]
      },
      {
       "output_type": "stream",
       "stream": "stderr",
       "text": [
        "INFO - dNdE at 1 GeV: 2.10e+02 s^-1 cm^-2 GeV^-1\n"
       ]
      },
      {
       "output_type": "stream",
       "stream": "stderr",
       "text": [
        "INFO - dNdE at 400 GeV: 3.14e-09 s^-1 cm^-2 GeV^-1\n"
       ]
      },
      {
       "output_type": "stream",
       "stream": "stderr",
       "text": [
        "INFO - dNdE at 1 TeV: 6.95e-11 s^-1 cm^-2 GeV^-1\n"
       ]
      },
      {
       "output_type": "stream",
       "stream": "stderr",
       "text": [
        "INFO - tau at min safe E: 5.37\n"
       ]
      },
      {
       "output_type": "stream",
       "stream": "stderr",
       "text": [
        "INFO - tau at max safe E: 3,150.77\n"
       ]
      },
      {
       "output_type": "stream",
       "stream": "stderr",
       "text": [
        "INFO - Predicted counts/hour: 8.59e+03\n"
       ]
      },
      {
       "output_type": "stream",
       "stream": "stderr",
       "text": [
        "INFO - This is approximately 1,304.1178% of the Crab Nebula's Flux\n"
       ]
      },
      {
       "output_type": "stream",
       "stream": "stderr",
       "text": [
        "INFO - This will take approximately 0.0107 hours to detect at a 5 sigma level\n"
       ]
      },
      {
       "output_type": "stream",
       "stream": "stderr",
       "text": [
        "WARNING - Using maximum redshift in EBL table.\n"
       ]
      },
      {
       "output_type": "stream",
       "stream": "stderr",
       "text": [
        "WARNING - Spectrum starts below minimum energy in EBL table.\n"
       ]
      },
      {
       "output_type": "stream",
       "stream": "stderr",
       "text": [
        "WARNING - Spectrum continues beyond maximum energy in EBL table.\n"
       ]
      },
      {
       "output_type": "stream",
       "stream": "stderr",
       "text": [
        "WARNING - Using 659.0 counts/hr as the rate from the Crab Nebula.\n"
       ]
      },
      {
       "output_type": "stream",
       "stream": "stderr",
       "text": [
        "WARNING - Time to detection assumes a Crab Nebula Spectrum.\n"
       ]
      },
      {
       "output_type": "stream",
       "stream": "stderr",
       "text": [
        "INFO - Using Effective_Areas/VERITAS/ea_Nov2010_na_ATM21_vegasv240rc1_7sam_050off_soft-1.summary.csv\n"
       ]
      },
      {
       "output_type": "stream",
       "stream": "stderr",
       "text": [
        "INFO - Using EffectiveArea_Azimuth_0_Zenith_20_Noise_4.07\n"
       ]
      },
      {
       "output_type": "stream",
       "stream": "stderr",
       "text": [
        "INFO - Safe energy range: 177.83 to 25,118.86 GeV\n"
       ]
      },
      {
       "output_type": "stream",
       "stream": "stderr",
       "text": [
        "INFO - dNdE at 1 GeV: 1.25e-02 s^-1 cm^-2 GeV^-1\n"
       ]
      },
      {
       "output_type": "stream",
       "stream": "stderr",
       "text": [
        "INFO - dNdE at 400 GeV: 5.12e-08 s^-1 cm^-2 GeV^-1\n"
       ]
      },
      {
       "output_type": "stream",
       "stream": "stderr",
       "text": [
        "INFO - dNdE at 1 TeV: 7.69e-09 s^-1 cm^-2 GeV^-1\n"
       ]
      },
      {
       "output_type": "stream",
       "stream": "stderr",
       "text": [
        "INFO - tau at min safe E: 5.37\n"
       ]
      },
      {
       "output_type": "stream",
       "stream": "stderr",
       "text": [
        "INFO - tau at max safe E: 3,150.77\n"
       ]
      },
      {
       "output_type": "stream",
       "stream": "stderr",
       "text": [
        "INFO - Predicted counts/hour: 3.12e+04\n"
       ]
      },
      {
       "output_type": "stream",
       "stream": "stderr",
       "text": [
        "INFO - This is approximately 4,737.6059% of the Crab Nebula's Flux\n"
       ]
      },
      {
       "output_type": "stream",
       "stream": "stderr",
       "text": [
        "INFO - This will take approximately 0.0107 hours to detect at a 5 sigma level\n"
       ]
      },
      {
       "output_type": "stream",
       "stream": "stderr",
       "text": [
        "WARNING - Using maximum redshift in EBL table.\n"
       ]
      },
      {
       "output_type": "stream",
       "stream": "stderr",
       "text": [
        "WARNING - Spectrum starts below minimum energy in EBL table.\n"
       ]
      },
      {
       "output_type": "stream",
       "stream": "stderr",
       "text": [
        "WARNING - Spectrum continues beyond maximum energy in EBL table.\n"
       ]
      },
      {
       "output_type": "stream",
       "stream": "stderr",
       "text": [
        "WARNING - Using 659.0 counts/hr as the rate from the Crab Nebula.\n"
       ]
      },
      {
       "output_type": "stream",
       "stream": "stderr",
       "text": [
        "WARNING - Time to detection assumes a Crab Nebula Spectrum.\n"
       ]
      },
      {
       "output_type": "stream",
       "stream": "stderr",
       "text": [
        "INFO - Using Effective_Areas/VERITAS/ea_Nov2010_na_ATM21_vegasv240rc1_7sam_050off_soft-1.summary.csv\n"
       ]
      },
      {
       "output_type": "stream",
       "stream": "stderr",
       "text": [
        "INFO - Using EffectiveArea_Azimuth_0_Zenith_20_Noise_4.07\n"
       ]
      },
      {
       "output_type": "stream",
       "stream": "stderr",
       "text": [
        "INFO - Safe energy range: 177.83 to 25,118.86 GeV\n"
       ]
      },
      {
       "output_type": "stream",
       "stream": "stderr",
       "text": [
        "INFO - dNdE at 1 GeV: 5.81e+01 s^-1 cm^-2 GeV^-1\n"
       ]
      },
      {
       "output_type": "stream",
       "stream": "stderr",
       "text": [
        "INFO - dNdE at 400 GeV: 2.60e-05 s^-1 cm^-2 GeV^-1\n"
       ]
      },
      {
       "output_type": "stream",
       "stream": "stderr",
       "text": [
        "INFO - dNdE at 1 TeV: 2.78e-06 s^-1 cm^-2 GeV^-1\n"
       ]
      },
      {
       "output_type": "stream",
       "stream": "stderr",
       "text": [
        "INFO - tau at min safe E: 5.37\n"
       ]
      },
      {
       "output_type": "stream",
       "stream": "stderr",
       "text": [
        "INFO - tau at max safe E: 3,150.77\n"
       ]
      },
      {
       "output_type": "stream",
       "stream": "stderr",
       "text": [
        "INFO - Predicted counts/hour: 2.06e+07\n"
       ]
      },
      {
       "output_type": "stream",
       "stream": "stderr",
       "text": [
        "INFO - This is approximately 3,126,828.4458% of the Crab Nebula's Flux\n"
       ]
      },
      {
       "output_type": "stream",
       "stream": "stderr",
       "text": [
        "INFO - This will take approximately 0.0107 hours to detect at a 5 sigma level\n"
       ]
      },
      {
       "output_type": "stream",
       "stream": "stderr",
       "text": [
        "WARNING - Using maximum redshift in EBL table.\n"
       ]
      },
      {
       "output_type": "stream",
       "stream": "stderr",
       "text": [
        "WARNING - Spectrum starts below minimum energy in EBL table.\n"
       ]
      },
      {
       "output_type": "stream",
       "stream": "stderr",
       "text": [
        "WARNING - Spectrum continues beyond maximum energy in EBL table.\n"
       ]
      },
      {
       "output_type": "stream",
       "stream": "stderr",
       "text": [
        "WARNING - Using 659.0 counts/hr as the rate from the Crab Nebula.\n"
       ]
      },
      {
       "output_type": "stream",
       "stream": "stderr",
       "text": [
        "WARNING - Time to detection assumes a Crab Nebula Spectrum.\n"
       ]
      },
      {
       "output_type": "stream",
       "stream": "stderr",
       "text": [
        "INFO - Using Effective_Areas/VERITAS/ea_Nov2010_na_ATM21_vegasv240rc1_7sam_050off_soft-1.summary.csv\n"
       ]
      },
      {
       "output_type": "stream",
       "stream": "stderr",
       "text": [
        "INFO - Using EffectiveArea_Azimuth_0_Zenith_20_Noise_4.07\n"
       ]
      },
      {
       "output_type": "stream",
       "stream": "stderr",
       "text": [
        "INFO - Safe energy range: 177.83 to 25,118.86 GeV\n"
       ]
      },
      {
       "output_type": "stream",
       "stream": "stderr",
       "text": [
        "INFO - dNdE at 1 GeV: 1.01e+01 s^-1 cm^-2 GeV^-1\n"
       ]
      },
      {
       "output_type": "stream",
       "stream": "stderr",
       "text": [
        "INFO - dNdE at 400 GeV: 1.80e-05 s^-1 cm^-2 GeV^-1\n"
       ]
      },
      {
       "output_type": "stream",
       "stream": "stderr",
       "text": [
        "INFO - dNdE at 1 TeV: 2.38e-06 s^-1 cm^-2 GeV^-1\n"
       ]
      },
      {
       "output_type": "stream",
       "stream": "stderr",
       "text": [
        "INFO - tau at min safe E: 5.37\n"
       ]
      },
      {
       "output_type": "stream",
       "stream": "stderr",
       "text": [
        "INFO - tau at max safe E: 3,150.77\n"
       ]
      },
      {
       "output_type": "stream",
       "stream": "stderr",
       "text": [
        "INFO - Predicted counts/hour: 1.21e+07\n"
       ]
      },
      {
       "output_type": "stream",
       "stream": "stderr",
       "text": [
        "INFO - This is approximately 1,839,118.2366% of the Crab Nebula's Flux\n"
       ]
      },
      {
       "output_type": "stream",
       "stream": "stderr",
       "text": [
        "INFO - This will take approximately 0.0107 hours to detect at a 5 sigma level\n"
       ]
      },
      {
       "output_type": "stream",
       "stream": "stderr",
       "text": [
        "WARNING - Using maximum redshift in EBL table.\n"
       ]
      },
      {
       "output_type": "stream",
       "stream": "stderr",
       "text": [
        "WARNING - Spectrum starts below minimum energy in EBL table.\n"
       ]
      },
      {
       "output_type": "stream",
       "stream": "stderr",
       "text": [
        "WARNING - Spectrum continues beyond maximum energy in EBL table.\n"
       ]
      },
      {
       "output_type": "stream",
       "stream": "stderr",
       "text": [
        "WARNING - Using 659.0 counts/hr as the rate from the Crab Nebula.\n"
       ]
      },
      {
       "output_type": "stream",
       "stream": "stderr",
       "text": [
        "WARNING - Time to detection assumes a Crab Nebula Spectrum.\n"
       ]
      },
      {
       "output_type": "stream",
       "stream": "stderr",
       "text": [
        "INFO - Using Effective_Areas/VERITAS/ea_Nov2010_na_ATM21_vegasv240rc1_7sam_050off_soft-1.summary.csv\n"
       ]
      },
      {
       "output_type": "stream",
       "stream": "stderr",
       "text": [
        "INFO - Using EffectiveArea_Azimuth_0_Zenith_20_Noise_4.07\n"
       ]
      },
      {
       "output_type": "stream",
       "stream": "stderr",
       "text": [
        "INFO - Safe energy range: 177.83 to 25,118.86 GeV\n"
       ]
      },
      {
       "output_type": "stream",
       "stream": "stderr",
       "text": [
        "INFO - dNdE at 1 GeV: 1.66e+00 s^-1 cm^-2 GeV^-1\n"
       ]
      },
      {
       "output_type": "stream",
       "stream": "stderr",
       "text": [
        "INFO - dNdE at 400 GeV: 1.67e-05 s^-1 cm^-2 GeV^-1\n"
       ]
      },
      {
       "output_type": "stream",
       "stream": "stderr",
       "text": [
        "INFO - dNdE at 1 TeV: 2.88e-06 s^-1 cm^-2 GeV^-1\n"
       ]
      },
      {
       "output_type": "stream",
       "stream": "stderr",
       "text": [
        "INFO - tau at min safe E: 5.37\n"
       ]
      },
      {
       "output_type": "stream",
       "stream": "stderr",
       "text": [
        "INFO - tau at max safe E: 3,150.77\n"
       ]
      },
      {
       "output_type": "stream",
       "stream": "stderr",
       "text": [
        "INFO - Predicted counts/hour: 9.17e+06\n"
       ]
      },
      {
       "output_type": "stream",
       "stream": "stderr",
       "text": [
        "INFO - This is approximately 1,391,420.3105% of the Crab Nebula's Flux\n"
       ]
      },
      {
       "output_type": "stream",
       "stream": "stderr",
       "text": [
        "INFO - This will take approximately 0.0107 hours to detect at a 5 sigma level\n"
       ]
      },
      {
       "output_type": "stream",
       "stream": "stderr",
       "text": [
        "WARNING - Using maximum redshift in EBL table.\n"
       ]
      },
      {
       "output_type": "stream",
       "stream": "stderr",
       "text": [
        "WARNING - Spectrum starts below minimum energy in EBL table.\n"
       ]
      },
      {
       "output_type": "stream",
       "stream": "stderr",
       "text": [
        "WARNING - Spectrum continues beyond maximum energy in EBL table.\n"
       ]
      },
      {
       "output_type": "stream",
       "stream": "stderr",
       "text": [
        "WARNING - Using 659.0 counts/hr as the rate from the Crab Nebula.\n"
       ]
      },
      {
       "output_type": "stream",
       "stream": "stderr",
       "text": [
        "WARNING - Time to detection assumes a Crab Nebula Spectrum.\n"
       ]
      },
      {
       "output_type": "stream",
       "stream": "stderr",
       "text": [
        "INFO - Using Effective_Areas/VERITAS/ea_Nov2010_na_ATM21_vegasv240rc1_7sam_050off_soft-1.summary.csv\n"
       ]
      },
      {
       "output_type": "stream",
       "stream": "stderr",
       "text": [
        "INFO - Using EffectiveArea_Azimuth_0_Zenith_20_Noise_4.07\n"
       ]
      },
      {
       "output_type": "stream",
       "stream": "stderr",
       "text": [
        "INFO - Safe energy range: 177.83 to 25,118.86 GeV\n"
       ]
      },
      {
       "output_type": "stream",
       "stream": "stderr",
       "text": [
        "INFO - dNdE at 1 GeV: 2.46e+00 s^-1 cm^-2 GeV^-1\n"
       ]
      },
      {
       "output_type": "stream",
       "stream": "stderr",
       "text": [
        "INFO - dNdE at 400 GeV: 2.70e-06 s^-1 cm^-2 GeV^-1\n"
       ]
      },
      {
       "output_type": "stream",
       "stream": "stderr",
       "text": [
        "INFO - dNdE at 1 TeV: 3.32e-07 s^-1 cm^-2 GeV^-1\n"
       ]
      },
      {
       "output_type": "stream",
       "stream": "stderr",
       "text": [
        "INFO - tau at min safe E: 5.37\n"
       ]
      },
      {
       "output_type": "stream",
       "stream": "stderr",
       "text": [
        "INFO - tau at max safe E: 3,150.77\n"
       ]
      },
      {
       "output_type": "stream",
       "stream": "stderr",
       "text": [
        "INFO - Predicted counts/hour: 1.93e+06\n"
       ]
      },
      {
       "output_type": "stream",
       "stream": "stderr",
       "text": [
        "INFO - This is approximately 292,278.0340% of the Crab Nebula's Flux\n"
       ]
      },
      {
       "output_type": "stream",
       "stream": "stderr",
       "text": [
        "INFO - This will take approximately 0.0107 hours to detect at a 5 sigma level\n"
       ]
      },
      {
       "output_type": "stream",
       "stream": "stderr",
       "text": [
        "WARNING - Using maximum redshift in EBL table.\n"
       ]
      },
      {
       "output_type": "stream",
       "stream": "stderr",
       "text": [
        "WARNING - Spectrum starts below minimum energy in EBL table.\n"
       ]
      },
      {
       "output_type": "stream",
       "stream": "stderr",
       "text": [
        "WARNING - Spectrum continues beyond maximum energy in EBL table.\n"
       ]
      },
      {
       "output_type": "stream",
       "stream": "stderr",
       "text": [
        "WARNING - Using 659.0 counts/hr as the rate from the Crab Nebula.\n"
       ]
      },
      {
       "output_type": "stream",
       "stream": "stderr",
       "text": [
        "WARNING - Time to detection assumes a Crab Nebula Spectrum.\n"
       ]
      },
      {
       "output_type": "stream",
       "stream": "stderr",
       "text": [
        "INFO - Using Effective_Areas/VERITAS/ea_Nov2010_na_ATM21_vegasv240rc1_7sam_050off_soft-1.summary.csv\n"
       ]
      },
      {
       "output_type": "stream",
       "stream": "stderr",
       "text": [
        "INFO - Using EffectiveArea_Azimuth_0_Zenith_20_Noise_4.07\n"
       ]
      },
      {
       "output_type": "stream",
       "stream": "stderr",
       "text": [
        "INFO - Safe energy range: 177.83 to 25,118.86 GeV\n"
       ]
      },
      {
       "output_type": "stream",
       "stream": "stderr",
       "text": [
        "INFO - dNdE at 1 GeV: 2.67e-01 s^-1 cm^-2 GeV^-1\n"
       ]
      },
      {
       "output_type": "stream",
       "stream": "stderr",
       "text": [
        "INFO - dNdE at 400 GeV: 1.88e-06 s^-1 cm^-2 GeV^-1\n"
       ]
      },
      {
       "output_type": "stream",
       "stream": "stderr",
       "text": [
        "INFO - dNdE at 1 TeV: 3.07e-07 s^-1 cm^-2 GeV^-1\n"
       ]
      },
      {
       "output_type": "stream",
       "stream": "stderr",
       "text": [
        "INFO - tau at min safe E: 5.37\n"
       ]
      },
      {
       "output_type": "stream",
       "stream": "stderr",
       "text": [
        "INFO - tau at max safe E: 3,150.77\n"
       ]
      },
      {
       "output_type": "stream",
       "stream": "stderr",
       "text": [
        "INFO - Predicted counts/hour: 1.08e+06\n"
       ]
      },
      {
       "output_type": "stream",
       "stream": "stderr",
       "text": [
        "INFO - This is approximately 163,490.4340% of the Crab Nebula's Flux\n"
       ]
      },
      {
       "output_type": "stream",
       "stream": "stderr",
       "text": [
        "INFO - This will take approximately 0.0107 hours to detect at a 5 sigma level\n"
       ]
      },
      {
       "output_type": "stream",
       "stream": "stderr",
       "text": [
        "WARNING - Using maximum redshift in EBL table.\n"
       ]
      },
      {
       "output_type": "stream",
       "stream": "stderr",
       "text": [
        "WARNING - Spectrum starts below minimum energy in EBL table.\n"
       ]
      },
      {
       "output_type": "stream",
       "stream": "stderr",
       "text": [
        "WARNING - Spectrum continues beyond maximum energy in EBL table.\n"
       ]
      },
      {
       "output_type": "stream",
       "stream": "stderr",
       "text": [
        "WARNING - Using 659.0 counts/hr as the rate from the Crab Nebula.\n"
       ]
      },
      {
       "output_type": "stream",
       "stream": "stderr",
       "text": [
        "WARNING - Time to detection assumes a Crab Nebula Spectrum.\n"
       ]
      },
      {
       "output_type": "stream",
       "stream": "stderr",
       "text": [
        "INFO - Using Effective_Areas/VERITAS/ea_Nov2010_na_ATM21_vegasv240rc1_7sam_050off_soft-1.summary.csv\n"
       ]
      },
      {
       "output_type": "stream",
       "stream": "stderr",
       "text": [
        "INFO - Using EffectiveArea_Azimuth_0_Zenith_20_Noise_4.07\n"
       ]
      },
      {
       "output_type": "stream",
       "stream": "stderr",
       "text": [
        "INFO - Safe energy range: 177.83 to 25,118.86 GeV\n"
       ]
      },
      {
       "output_type": "stream",
       "stream": "stderr",
       "text": [
        "INFO - dNdE at 1 GeV: 2.33e-01 s^-1 cm^-2 GeV^-1\n"
       ]
      },
      {
       "output_type": "stream",
       "stream": "stderr",
       "text": [
        "INFO - dNdE at 400 GeV: 1.79e-07 s^-1 cm^-2 GeV^-1\n"
       ]
      },
      {
       "output_type": "stream",
       "stream": "stderr",
       "text": [
        "INFO - dNdE at 1 TeV: 2.08e-08 s^-1 cm^-2 GeV^-1\n"
       ]
      },
      {
       "output_type": "stream",
       "stream": "stderr",
       "text": [
        "INFO - tau at min safe E: 5.37\n"
       ]
      },
      {
       "output_type": "stream",
       "stream": "stderr",
       "text": [
        "INFO - tau at max safe E: 3,150.77\n"
       ]
      },
      {
       "output_type": "stream",
       "stream": "stderr",
       "text": [
        "INFO - Predicted counts/hour: 1.33e+05\n"
       ]
      },
      {
       "output_type": "stream",
       "stream": "stderr",
       "text": [
        "INFO - This is approximately 20,171.4810% of the Crab Nebula's Flux\n"
       ]
      },
      {
       "output_type": "stream",
       "stream": "stderr",
       "text": [
        "INFO - This will take approximately 0.0107 hours to detect at a 5 sigma level\n"
       ]
      },
      {
       "output_type": "stream",
       "stream": "stderr",
       "text": [
        "WARNING - Using maximum redshift in EBL table.\n"
       ]
      },
      {
       "output_type": "stream",
       "stream": "stderr",
       "text": [
        "WARNING - Spectrum starts below minimum energy in EBL table.\n"
       ]
      },
      {
       "output_type": "stream",
       "stream": "stderr",
       "text": [
        "WARNING - Spectrum continues beyond maximum energy in EBL table.\n"
       ]
      },
      {
       "output_type": "stream",
       "stream": "stderr",
       "text": [
        "WARNING - Using 659.0 counts/hr as the rate from the Crab Nebula.\n"
       ]
      },
      {
       "output_type": "stream",
       "stream": "stderr",
       "text": [
        "WARNING - Time to detection assumes a Crab Nebula Spectrum.\n"
       ]
      },
      {
       "output_type": "stream",
       "stream": "stderr",
       "text": [
        "INFO - Using Effective_Areas/VERITAS/ea_Nov2010_na_ATM21_vegasv240rc1_7sam_050off_soft-1.summary.csv\n"
       ]
      },
      {
       "output_type": "stream",
       "stream": "stderr",
       "text": [
        "INFO - Using EffectiveArea_Azimuth_0_Zenith_20_Noise_4.07\n"
       ]
      },
      {
       "output_type": "stream",
       "stream": "stderr",
       "text": [
        "INFO - Safe energy range: 177.83 to 25,118.86 GeV\n"
       ]
      },
      {
       "output_type": "stream",
       "stream": "stderr",
       "text": [
        "INFO - dNdE at 1 GeV: 3.43e+02 s^-1 cm^-2 GeV^-1\n"
       ]
      },
      {
       "output_type": "stream",
       "stream": "stderr",
       "text": [
        "INFO - dNdE at 400 GeV: 5.14e-09 s^-1 cm^-2 GeV^-1\n"
       ]
      },
      {
       "output_type": "stream",
       "stream": "stderr",
       "text": [
        "INFO - dNdE at 1 TeV: 1.14e-10 s^-1 cm^-2 GeV^-1\n"
       ]
      },
      {
       "output_type": "stream",
       "stream": "stderr",
       "text": [
        "INFO - tau at min safe E: 5.37\n"
       ]
      },
      {
       "output_type": "stream",
       "stream": "stderr",
       "text": [
        "INFO - tau at max safe E: 3,150.77\n"
       ]
      },
      {
       "output_type": "stream",
       "stream": "stderr",
       "text": [
        "INFO - Predicted counts/hour: 1.40e+04\n"
       ]
      },
      {
       "output_type": "stream",
       "stream": "stderr",
       "text": [
        "INFO - This is approximately 2,129.8912% of the Crab Nebula's Flux\n"
       ]
      },
      {
       "output_type": "stream",
       "stream": "stderr",
       "text": [
        "INFO - This will take approximately 0.0107 hours to detect at a 5 sigma level\n"
       ]
      },
      {
       "output_type": "stream",
       "stream": "stderr",
       "text": [
        "WARNING - Using maximum redshift in EBL table.\n"
       ]
      },
      {
       "output_type": "stream",
       "stream": "stderr",
       "text": [
        "WARNING - Spectrum starts below minimum energy in EBL table.\n"
       ]
      },
      {
       "output_type": "stream",
       "stream": "stderr",
       "text": [
        "WARNING - Spectrum continues beyond maximum energy in EBL table.\n"
       ]
      },
      {
       "output_type": "stream",
       "stream": "stderr",
       "text": [
        "WARNING - Using 659.0 counts/hr as the rate from the Crab Nebula.\n"
       ]
      },
      {
       "output_type": "stream",
       "stream": "stderr",
       "text": [
        "WARNING - Time to detection assumes a Crab Nebula Spectrum.\n"
       ]
      },
      {
       "output_type": "stream",
       "stream": "stderr",
       "text": [
        "INFO - Using Effective_Areas/VERITAS/ea_Nov2010_na_ATM21_vegasv240rc1_7sam_050off_soft-1.summary.csv\n"
       ]
      },
      {
       "output_type": "stream",
       "stream": "stderr",
       "text": [
        "INFO - Using EffectiveArea_Azimuth_0_Zenith_20_Noise_4.07\n"
       ]
      },
      {
       "output_type": "stream",
       "stream": "stderr",
       "text": [
        "INFO - Safe energy range: 177.83 to 25,118.86 GeV\n"
       ]
      },
      {
       "output_type": "stream",
       "stream": "stderr",
       "text": [
        "INFO - dNdE at 1 GeV: 2.07e-02 s^-1 cm^-2 GeV^-1\n"
       ]
      },
      {
       "output_type": "stream",
       "stream": "stderr",
       "text": [
        "INFO - dNdE at 400 GeV: 8.51e-08 s^-1 cm^-2 GeV^-1\n"
       ]
      },
      {
       "output_type": "stream",
       "stream": "stderr",
       "text": [
        "INFO - dNdE at 1 TeV: 1.28e-08 s^-1 cm^-2 GeV^-1\n"
       ]
      },
      {
       "output_type": "stream",
       "stream": "stderr",
       "text": [
        "INFO - tau at min safe E: 5.37\n"
       ]
      },
      {
       "output_type": "stream",
       "stream": "stderr",
       "text": [
        "INFO - tau at max safe E: 3,150.77\n"
       ]
      },
      {
       "output_type": "stream",
       "stream": "stderr",
       "text": [
        "INFO - Predicted counts/hour: 5.18e+04\n"
       ]
      },
      {
       "output_type": "stream",
       "stream": "stderr",
       "text": [
        "INFO - This is approximately 7,867.5044% of the Crab Nebula's Flux\n"
       ]
      },
      {
       "output_type": "stream",
       "stream": "stderr",
       "text": [
        "INFO - This will take approximately 0.0107 hours to detect at a 5 sigma level\n"
       ]
      },
      {
       "output_type": "stream",
       "stream": "stderr",
       "text": [
        "WARNING - Using maximum redshift in EBL table.\n"
       ]
      },
      {
       "output_type": "stream",
       "stream": "stderr",
       "text": [
        "WARNING - Spectrum starts below minimum energy in EBL table.\n"
       ]
      },
      {
       "output_type": "stream",
       "stream": "stderr",
       "text": [
        "WARNING - Spectrum continues beyond maximum energy in EBL table.\n"
       ]
      },
      {
       "output_type": "stream",
       "stream": "stderr",
       "text": [
        "WARNING - Using 659.0 counts/hr as the rate from the Crab Nebula.\n"
       ]
      },
      {
       "output_type": "stream",
       "stream": "stderr",
       "text": [
        "WARNING - Time to detection assumes a Crab Nebula Spectrum.\n"
       ]
      },
      {
       "output_type": "stream",
       "stream": "stderr",
       "text": [
        "INFO - Using Effective_Areas/VERITAS/ea_Nov2010_na_ATM21_vegasv240rc1_7sam_050off_soft-1.summary.csv\n"
       ]
      },
      {
       "output_type": "stream",
       "stream": "stderr",
       "text": [
        "INFO - Using EffectiveArea_Azimuth_0_Zenith_20_Noise_4.07\n"
       ]
      },
      {
       "output_type": "stream",
       "stream": "stderr",
       "text": [
        "INFO - Safe energy range: 177.83 to 25,118.86 GeV\n"
       ]
      },
      {
       "output_type": "stream",
       "stream": "stderr",
       "text": [
        "INFO - dNdE at 1 GeV: 4.57e+01 s^-1 cm^-2 GeV^-1\n"
       ]
      },
      {
       "output_type": "stream",
       "stream": "stderr",
       "text": [
        "INFO - dNdE at 400 GeV: 2.05e-05 s^-1 cm^-2 GeV^-1\n"
       ]
      },
      {
       "output_type": "stream",
       "stream": "stderr",
       "text": [
        "INFO - dNdE at 1 TeV: 2.19e-06 s^-1 cm^-2 GeV^-1\n"
       ]
      },
      {
       "output_type": "stream",
       "stream": "stderr",
       "text": [
        "INFO - tau at min safe E: 5.37\n"
       ]
      },
      {
       "output_type": "stream",
       "stream": "stderr",
       "text": [
        "INFO - tau at max safe E: 3,150.77\n"
       ]
      },
      {
       "output_type": "stream",
       "stream": "stderr",
       "text": [
        "INFO - Predicted counts/hour: 1.62e+07\n"
       ]
      },
      {
       "output_type": "stream",
       "stream": "stderr",
       "text": [
        "INFO - This is approximately 2,461,039.8794% of the Crab Nebula's Flux\n"
       ]
      },
      {
       "output_type": "stream",
       "stream": "stderr",
       "text": [
        "INFO - This will take approximately 0.0107 hours to detect at a 5 sigma level\n"
       ]
      },
      {
       "output_type": "stream",
       "stream": "stderr",
       "text": [
        "WARNING - Using maximum redshift in EBL table.\n"
       ]
      },
      {
       "output_type": "stream",
       "stream": "stderr",
       "text": [
        "WARNING - Spectrum starts below minimum energy in EBL table.\n"
       ]
      },
      {
       "output_type": "stream",
       "stream": "stderr",
       "text": [
        "WARNING - Spectrum continues beyond maximum energy in EBL table.\n"
       ]
      },
      {
       "output_type": "stream",
       "stream": "stderr",
       "text": [
        "WARNING - Using 659.0 counts/hr as the rate from the Crab Nebula.\n"
       ]
      },
      {
       "output_type": "stream",
       "stream": "stderr",
       "text": [
        "WARNING - Time to detection assumes a Crab Nebula Spectrum.\n"
       ]
      },
      {
       "output_type": "stream",
       "stream": "stderr",
       "text": [
        "INFO - Using Effective_Areas/VERITAS/ea_Nov2010_na_ATM21_vegasv240rc1_7sam_050off_soft-1.summary.csv\n"
       ]
      },
      {
       "output_type": "stream",
       "stream": "stderr",
       "text": [
        "INFO - Using EffectiveArea_Azimuth_0_Zenith_20_Noise_4.07\n"
       ]
      },
      {
       "output_type": "stream",
       "stream": "stderr",
       "text": [
        "INFO - Safe energy range: 177.83 to 25,118.86 GeV\n"
       ]
      },
      {
       "output_type": "stream",
       "stream": "stderr",
       "text": [
        "INFO - dNdE at 1 GeV: 7.25e+00 s^-1 cm^-2 GeV^-1\n"
       ]
      },
      {
       "output_type": "stream",
       "stream": "stderr",
       "text": [
        "INFO - dNdE at 400 GeV: 1.29e-05 s^-1 cm^-2 GeV^-1\n"
       ]
      },
      {
       "output_type": "stream",
       "stream": "stderr",
       "text": [
        "INFO - dNdE at 1 TeV: 1.70e-06 s^-1 cm^-2 GeV^-1\n"
       ]
      },
      {
       "output_type": "stream",
       "stream": "stderr",
       "text": [
        "INFO - tau at min safe E: 5.37\n"
       ]
      },
      {
       "output_type": "stream",
       "stream": "stderr",
       "text": [
        "INFO - tau at max safe E: 3,150.77\n"
       ]
      },
      {
       "output_type": "stream",
       "stream": "stderr",
       "text": [
        "INFO - Predicted counts/hour: 8.67e+06\n"
       ]
      },
      {
       "output_type": "stream",
       "stream": "stderr",
       "text": [
        "INFO - This is approximately 1,315,356.4087% of the Crab Nebula's Flux\n"
       ]
      },
      {
       "output_type": "stream",
       "stream": "stderr",
       "text": [
        "INFO - This will take approximately 0.0107 hours to detect at a 5 sigma level\n"
       ]
      },
      {
       "output_type": "stream",
       "stream": "stderr",
       "text": [
        "WARNING - Using maximum redshift in EBL table.\n"
       ]
      },
      {
       "output_type": "stream",
       "stream": "stderr",
       "text": [
        "WARNING - Spectrum starts below minimum energy in EBL table.\n"
       ]
      },
      {
       "output_type": "stream",
       "stream": "stderr",
       "text": [
        "WARNING - Spectrum continues beyond maximum energy in EBL table.\n"
       ]
      },
      {
       "output_type": "stream",
       "stream": "stderr",
       "text": [
        "WARNING - Using 659.0 counts/hr as the rate from the Crab Nebula.\n"
       ]
      },
      {
       "output_type": "stream",
       "stream": "stderr",
       "text": [
        "WARNING - Time to detection assumes a Crab Nebula Spectrum.\n"
       ]
      },
      {
       "output_type": "stream",
       "stream": "stderr",
       "text": [
        "INFO - Using Effective_Areas/VERITAS/ea_Nov2010_na_ATM21_vegasv240rc1_7sam_050off_soft-1.summary.csv\n"
       ]
      },
      {
       "output_type": "stream",
       "stream": "stderr",
       "text": [
        "INFO - Using EffectiveArea_Azimuth_0_Zenith_20_Noise_4.07\n"
       ]
      },
      {
       "output_type": "stream",
       "stream": "stderr",
       "text": [
        "INFO - Safe energy range: 177.83 to 25,118.86 GeV\n"
       ]
      },
      {
       "output_type": "stream",
       "stream": "stderr",
       "text": [
        "INFO - dNdE at 1 GeV: 1.21e+00 s^-1 cm^-2 GeV^-1\n"
       ]
      },
      {
       "output_type": "stream",
       "stream": "stderr",
       "text": [
        "INFO - dNdE at 400 GeV: 1.22e-05 s^-1 cm^-2 GeV^-1\n"
       ]
      },
      {
       "output_type": "stream",
       "stream": "stderr",
       "text": [
        "INFO - dNdE at 1 TeV: 2.11e-06 s^-1 cm^-2 GeV^-1\n"
       ]
      },
      {
       "output_type": "stream",
       "stream": "stderr",
       "text": [
        "INFO - tau at min safe E: 5.37\n"
       ]
      },
      {
       "output_type": "stream",
       "stream": "stderr",
       "text": [
        "INFO - tau at max safe E: 3,150.77\n"
       ]
      },
      {
       "output_type": "stream",
       "stream": "stderr",
       "text": [
        "INFO - Predicted counts/hour: 6.70e+06\n"
       ]
      },
      {
       "output_type": "stream",
       "stream": "stderr",
       "text": [
        "INFO - This is approximately 1,017,189.9552% of the Crab Nebula's Flux\n"
       ]
      },
      {
       "output_type": "stream",
       "stream": "stderr",
       "text": [
        "INFO - This will take approximately 0.0107 hours to detect at a 5 sigma level\n"
       ]
      },
      {
       "output_type": "stream",
       "stream": "stderr",
       "text": [
        "WARNING - Using maximum redshift in EBL table.\n"
       ]
      },
      {
       "output_type": "stream",
       "stream": "stderr",
       "text": [
        "WARNING - Spectrum starts below minimum energy in EBL table.\n"
       ]
      },
      {
       "output_type": "stream",
       "stream": "stderr",
       "text": [
        "WARNING - Spectrum continues beyond maximum energy in EBL table.\n"
       ]
      },
      {
       "output_type": "stream",
       "stream": "stderr",
       "text": [
        "WARNING - Using 659.0 counts/hr as the rate from the Crab Nebula.\n"
       ]
      },
      {
       "output_type": "stream",
       "stream": "stderr",
       "text": [
        "WARNING - Time to detection assumes a Crab Nebula Spectrum.\n"
       ]
      },
      {
       "output_type": "stream",
       "stream": "stderr",
       "text": [
        "INFO - Using Effective_Areas/VERITAS/ea_Nov2010_na_ATM21_vegasv240rc1_7sam_050off_soft-1.summary.csv\n"
       ]
      },
      {
       "output_type": "stream",
       "stream": "stderr",
       "text": [
        "INFO - Using EffectiveArea_Azimuth_0_Zenith_20_Noise_4.07\n"
       ]
      },
      {
       "output_type": "stream",
       "stream": "stderr",
       "text": [
        "INFO - Safe energy range: 177.83 to 25,118.86 GeV\n"
       ]
      },
      {
       "output_type": "stream",
       "stream": "stderr",
       "text": [
        "INFO - dNdE at 1 GeV: 1.57e+00 s^-1 cm^-2 GeV^-1\n"
       ]
      },
      {
       "output_type": "stream",
       "stream": "stderr",
       "text": [
        "INFO - dNdE at 400 GeV: 1.72e-06 s^-1 cm^-2 GeV^-1\n"
       ]
      },
      {
       "output_type": "stream",
       "stream": "stderr",
       "text": [
        "INFO - dNdE at 1 TeV: 2.11e-07 s^-1 cm^-2 GeV^-1\n"
       ]
      },
      {
       "output_type": "stream",
       "stream": "stderr",
       "text": [
        "INFO - tau at min safe E: 5.37\n"
       ]
      },
      {
       "output_type": "stream",
       "stream": "stderr",
       "text": [
        "INFO - tau at max safe E: 3,150.77\n"
       ]
      },
      {
       "output_type": "stream",
       "stream": "stderr",
       "text": [
        "INFO - Predicted counts/hour: 1.23e+06\n"
       ]
      },
      {
       "output_type": "stream",
       "stream": "stderr",
       "text": [
        "INFO - This is approximately 186,370.2287% of the Crab Nebula's Flux\n"
       ]
      },
      {
       "output_type": "stream",
       "stream": "stderr",
       "text": [
        "INFO - This will take approximately 0.0107 hours to detect at a 5 sigma level\n"
       ]
      },
      {
       "output_type": "stream",
       "stream": "stderr",
       "text": [
        "WARNING - Using maximum redshift in EBL table.\n"
       ]
      },
      {
       "output_type": "stream",
       "stream": "stderr",
       "text": [
        "WARNING - Spectrum starts below minimum energy in EBL table.\n"
       ]
      },
      {
       "output_type": "stream",
       "stream": "stderr",
       "text": [
        "WARNING - Spectrum continues beyond maximum energy in EBL table.\n"
       ]
      },
      {
       "output_type": "stream",
       "stream": "stderr",
       "text": [
        "WARNING - Using 659.0 counts/hr as the rate from the Crab Nebula.\n"
       ]
      },
      {
       "output_type": "stream",
       "stream": "stderr",
       "text": [
        "WARNING - Time to detection assumes a Crab Nebula Spectrum.\n"
       ]
      },
      {
       "output_type": "stream",
       "stream": "stderr",
       "text": [
        "INFO - Using Effective_Areas/VERITAS/ea_Nov2010_na_ATM21_vegasv240rc1_7sam_050off_soft-1.summary.csv\n"
       ]
      },
      {
       "output_type": "stream",
       "stream": "stderr",
       "text": [
        "INFO - Using EffectiveArea_Azimuth_0_Zenith_20_Noise_4.07\n"
       ]
      },
      {
       "output_type": "stream",
       "stream": "stderr",
       "text": [
        "INFO - Safe energy range: 177.83 to 25,118.86 GeV\n"
       ]
      },
      {
       "output_type": "stream",
       "stream": "stderr",
       "text": [
        "INFO - dNdE at 1 GeV: 1.74e-01 s^-1 cm^-2 GeV^-1\n"
       ]
      },
      {
       "output_type": "stream",
       "stream": "stderr",
       "text": [
        "INFO - dNdE at 400 GeV: 1.23e-06 s^-1 cm^-2 GeV^-1\n"
       ]
      },
      {
       "output_type": "stream",
       "stream": "stderr",
       "text": [
        "INFO - dNdE at 1 TeV: 2.00e-07 s^-1 cm^-2 GeV^-1\n"
       ]
      },
      {
       "output_type": "stream",
       "stream": "stderr",
       "text": [
        "INFO - tau at min safe E: 5.37\n"
       ]
      },
      {
       "output_type": "stream",
       "stream": "stderr",
       "text": [
        "INFO - tau at max safe E: 3,150.77\n"
       ]
      },
      {
       "output_type": "stream",
       "stream": "stderr",
       "text": [
        "INFO - Predicted counts/hour: 7.02e+05\n"
       ]
      },
      {
       "output_type": "stream",
       "stream": "stderr",
       "text": [
        "INFO - This is approximately 106,559.0572% of the Crab Nebula's Flux\n"
       ]
      },
      {
       "output_type": "stream",
       "stream": "stderr",
       "text": [
        "INFO - This will take approximately 0.0107 hours to detect at a 5 sigma level\n"
       ]
      },
      {
       "output_type": "stream",
       "stream": "stderr",
       "text": [
        "WARNING - Using maximum redshift in EBL table.\n"
       ]
      },
      {
       "output_type": "stream",
       "stream": "stderr",
       "text": [
        "WARNING - Spectrum starts below minimum energy in EBL table.\n"
       ]
      },
      {
       "output_type": "stream",
       "stream": "stderr",
       "text": [
        "WARNING - Spectrum continues beyond maximum energy in EBL table.\n"
       ]
      },
      {
       "output_type": "stream",
       "stream": "stderr",
       "text": [
        "WARNING - Using 659.0 counts/hr as the rate from the Crab Nebula.\n"
       ]
      },
      {
       "output_type": "stream",
       "stream": "stderr",
       "text": [
        "WARNING - Time to detection assumes a Crab Nebula Spectrum.\n"
       ]
      },
      {
       "output_type": "stream",
       "stream": "stderr",
       "text": [
        "INFO - Using Effective_Areas/VERITAS/ea_Nov2010_na_ATM21_vegasv240rc1_7sam_050off_soft-1.summary.csv\n"
       ]
      },
      {
       "output_type": "stream",
       "stream": "stderr",
       "text": [
        "INFO - Using EffectiveArea_Azimuth_0_Zenith_20_Noise_4.07\n"
       ]
      },
      {
       "output_type": "stream",
       "stream": "stderr",
       "text": [
        "INFO - Safe energy range: 177.83 to 25,118.86 GeV\n"
       ]
      },
      {
       "output_type": "stream",
       "stream": "stderr",
       "text": [
        "INFO - dNdE at 1 GeV: 6.57e-02 s^-1 cm^-2 GeV^-1\n"
       ]
      },
      {
       "output_type": "stream",
       "stream": "stderr",
       "text": [
        "INFO - dNdE at 400 GeV: 5.05e-08 s^-1 cm^-2 GeV^-1\n"
       ]
      },
      {
       "output_type": "stream",
       "stream": "stderr",
       "text": [
        "INFO - dNdE at 1 TeV: 5.86e-09 s^-1 cm^-2 GeV^-1\n"
       ]
      },
      {
       "output_type": "stream",
       "stream": "stderr",
       "text": [
        "INFO - tau at min safe E: 5.37\n"
       ]
      },
      {
       "output_type": "stream",
       "stream": "stderr",
       "text": [
        "INFO - tau at max safe E: 3,150.77\n"
       ]
      },
      {
       "output_type": "stream",
       "stream": "stderr",
       "text": [
        "INFO - Predicted counts/hour: 3.75e+04\n"
       ]
      },
      {
       "output_type": "stream",
       "stream": "stderr",
       "text": [
        "INFO - This is approximately 5,694.7139% of the Crab Nebula's Flux\n"
       ]
      },
      {
       "output_type": "stream",
       "stream": "stderr",
       "text": [
        "INFO - This will take approximately 0.0107 hours to detect at a 5 sigma level\n"
       ]
      },
      {
       "output_type": "stream",
       "stream": "stderr",
       "text": [
        "WARNING - Using maximum redshift in EBL table.\n"
       ]
      },
      {
       "output_type": "stream",
       "stream": "stderr",
       "text": [
        "WARNING - Spectrum starts below minimum energy in EBL table.\n"
       ]
      },
      {
       "output_type": "stream",
       "stream": "stderr",
       "text": [
        "WARNING - Spectrum continues beyond maximum energy in EBL table.\n"
       ]
      },
      {
       "output_type": "stream",
       "stream": "stderr",
       "text": [
        "WARNING - Using 659.0 counts/hr as the rate from the Crab Nebula.\n"
       ]
      },
      {
       "output_type": "stream",
       "stream": "stderr",
       "text": [
        "WARNING - Time to detection assumes a Crab Nebula Spectrum.\n"
       ]
      },
      {
       "output_type": "stream",
       "stream": "stderr",
       "text": [
        "INFO - Using Effective_Areas/VERITAS/ea_Nov2010_na_ATM21_vegasv240rc1_7sam_050off_soft-1.summary.csv\n"
       ]
      },
      {
       "output_type": "stream",
       "stream": "stderr",
       "text": [
        "INFO - Using EffectiveArea_Azimuth_0_Zenith_20_Noise_4.07\n"
       ]
      },
      {
       "output_type": "stream",
       "stream": "stderr",
       "text": [
        "INFO - Safe energy range: 177.83 to 25,118.86 GeV\n"
       ]
      },
      {
       "output_type": "stream",
       "stream": "stderr",
       "text": [
        "INFO - dNdE at 1 GeV: 7.70e+01 s^-1 cm^-2 GeV^-1\n"
       ]
      },
      {
       "output_type": "stream",
       "stream": "stderr",
       "text": [
        "INFO - dNdE at 400 GeV: 1.15e-09 s^-1 cm^-2 GeV^-1\n"
       ]
      },
      {
       "output_type": "stream",
       "stream": "stderr",
       "text": [
        "INFO - dNdE at 1 TeV: 2.55e-11 s^-1 cm^-2 GeV^-1\n"
       ]
      },
      {
       "output_type": "stream",
       "stream": "stderr",
       "text": [
        "INFO - tau at min safe E: 5.37\n"
       ]
      },
      {
       "output_type": "stream",
       "stream": "stderr",
       "text": [
        "INFO - tau at max safe E: 3,150.77\n"
       ]
      },
      {
       "output_type": "stream",
       "stream": "stderr",
       "text": [
        "INFO - Predicted counts/hour: 3.15e+03\n"
       ]
      },
      {
       "output_type": "stream",
       "stream": "stderr",
       "text": [
        "INFO - This is approximately 478.3444% of the Crab Nebula's Flux\n"
       ]
      },
      {
       "output_type": "stream",
       "stream": "stderr",
       "text": [
        "INFO - This will take approximately 0.0107 hours to detect at a 5 sigma level\n"
       ]
      },
      {
       "output_type": "stream",
       "stream": "stderr",
       "text": [
        "WARNING - Using maximum redshift in EBL table.\n"
       ]
      },
      {
       "output_type": "stream",
       "stream": "stderr",
       "text": [
        "WARNING - Spectrum starts below minimum energy in EBL table.\n"
       ]
      },
      {
       "output_type": "stream",
       "stream": "stderr",
       "text": [
        "WARNING - Spectrum continues beyond maximum energy in EBL table.\n"
       ]
      },
      {
       "output_type": "stream",
       "stream": "stderr",
       "text": [
        "WARNING - Using 659.0 counts/hr as the rate from the Crab Nebula.\n"
       ]
      },
      {
       "output_type": "stream",
       "stream": "stderr",
       "text": [
        "WARNING - Time to detection assumes a Crab Nebula Spectrum.\n"
       ]
      },
      {
       "output_type": "stream",
       "stream": "stderr",
       "text": [
        "INFO - Using Effective_Areas/VERITAS/ea_Nov2010_na_ATM21_vegasv240rc1_7sam_050off_soft-1.summary.csv\n"
       ]
      },
      {
       "output_type": "stream",
       "stream": "stderr",
       "text": [
        "INFO - Using EffectiveArea_Azimuth_0_Zenith_20_Noise_4.07\n"
       ]
      },
      {
       "output_type": "stream",
       "stream": "stderr",
       "text": [
        "INFO - Safe energy range: 177.83 to 25,118.86 GeV\n"
       ]
      },
      {
       "output_type": "stream",
       "stream": "stderr",
       "text": [
        "INFO - dNdE at 1 GeV: 4.23e-03 s^-1 cm^-2 GeV^-1\n"
       ]
      },
      {
       "output_type": "stream",
       "stream": "stderr",
       "text": [
        "INFO - dNdE at 400 GeV: 1.74e-08 s^-1 cm^-2 GeV^-1\n"
       ]
      },
      {
       "output_type": "stream",
       "stream": "stderr",
       "text": [
        "INFO - dNdE at 1 TeV: 2.61e-09 s^-1 cm^-2 GeV^-1\n"
       ]
      },
      {
       "output_type": "stream",
       "stream": "stderr",
       "text": [
        "INFO - tau at min safe E: 5.37\n"
       ]
      },
      {
       "output_type": "stream",
       "stream": "stderr",
       "text": [
        "INFO - tau at max safe E: 3,150.77\n"
       ]
      },
      {
       "output_type": "stream",
       "stream": "stderr",
       "text": [
        "INFO - Predicted counts/hour: 1.06e+04\n"
       ]
      },
      {
       "output_type": "stream",
       "stream": "stderr",
       "text": [
        "INFO - This is approximately 1,607.7074% of the Crab Nebula's Flux\n"
       ]
      },
      {
       "output_type": "stream",
       "stream": "stderr",
       "text": [
        "INFO - This will take approximately 0.0107 hours to detect at a 5 sigma level\n"
       ]
      },
      {
       "output_type": "stream",
       "stream": "stderr",
       "text": [
        "WARNING - Using maximum redshift in EBL table.\n"
       ]
      },
      {
       "output_type": "stream",
       "stream": "stderr",
       "text": [
        "WARNING - Spectrum starts below minimum energy in EBL table.\n"
       ]
      },
      {
       "output_type": "stream",
       "stream": "stderr",
       "text": [
        "WARNING - Spectrum continues beyond maximum energy in EBL table.\n"
       ]
      },
      {
       "output_type": "stream",
       "stream": "stderr",
       "text": [
        "WARNING - Using 659.0 counts/hr as the rate from the Crab Nebula.\n"
       ]
      },
      {
       "output_type": "stream",
       "stream": "stderr",
       "text": [
        "WARNING - Time to detection assumes a Crab Nebula Spectrum.\n"
       ]
      },
      {
       "output_type": "stream",
       "stream": "stderr",
       "text": [
        "INFO - Using Effective_Areas/VERITAS/ea_Nov2010_na_ATM21_vegasv240rc1_7sam_050off_soft-1.summary.csv\n"
       ]
      },
      {
       "output_type": "stream",
       "stream": "stderr",
       "text": [
        "INFO - Using EffectiveArea_Azimuth_0_Zenith_20_Noise_4.07\n"
       ]
      },
      {
       "output_type": "stream",
       "stream": "stderr",
       "text": [
        "INFO - Safe energy range: 177.83 to 25,118.86 GeV\n"
       ]
      },
      {
       "output_type": "stream",
       "stream": "stderr",
       "text": [
        "INFO - dNdE at 1 GeV: 5.81e+01 s^-1 cm^-2 GeV^-1\n"
       ]
      },
      {
       "output_type": "stream",
       "stream": "stderr",
       "text": [
        "INFO - dNdE at 400 GeV: 6.31e-05 s^-1 cm^-2 GeV^-1\n"
       ]
      },
      {
       "output_type": "stream",
       "stream": "stderr",
       "text": [
        "INFO - dNdE at 1 TeV: 7.72e-06 s^-1 cm^-2 GeV^-1\n"
       ]
      },
      {
       "output_type": "stream",
       "stream": "stderr",
       "text": [
        "INFO - tau at min safe E: 5.37\n"
       ]
      },
      {
       "output_type": "stream",
       "stream": "stderr",
       "text": [
        "INFO - tau at max safe E: 3,150.77\n"
       ]
      },
      {
       "output_type": "stream",
       "stream": "stderr",
       "text": [
        "INFO - Predicted counts/hour: 4.50e+07\n"
       ]
      },
      {
       "output_type": "stream",
       "stream": "stderr",
       "text": [
        "INFO - This is approximately 6,830,369.3811% of the Crab Nebula's Flux\n"
       ]
      },
      {
       "output_type": "stream",
       "stream": "stderr",
       "text": [
        "INFO - This will take approximately 0.0107 hours to detect at a 5 sigma level\n"
       ]
      },
      {
       "output_type": "stream",
       "stream": "stderr",
       "text": [
        "WARNING - Using maximum redshift in EBL table.\n"
       ]
      },
      {
       "output_type": "stream",
       "stream": "stderr",
       "text": [
        "WARNING - Spectrum starts below minimum energy in EBL table.\n"
       ]
      },
      {
       "output_type": "stream",
       "stream": "stderr",
       "text": [
        "WARNING - Spectrum continues beyond maximum energy in EBL table.\n"
       ]
      },
      {
       "output_type": "stream",
       "stream": "stderr",
       "text": [
        "WARNING - Using 659.0 counts/hr as the rate from the Crab Nebula.\n"
       ]
      },
      {
       "output_type": "stream",
       "stream": "stderr",
       "text": [
        "WARNING - Time to detection assumes a Crab Nebula Spectrum.\n"
       ]
      },
      {
       "output_type": "stream",
       "stream": "stderr",
       "text": [
        "INFO - Using Effective_Areas/VERITAS/ea_Nov2010_na_ATM21_vegasv240rc1_7sam_050off_soft-1.summary.csv\n"
       ]
      },
      {
       "output_type": "stream",
       "stream": "stderr",
       "text": [
        "INFO - Using EffectiveArea_Azimuth_0_Zenith_20_Noise_4.07\n"
       ]
      },
      {
       "output_type": "stream",
       "stream": "stderr",
       "text": [
        "INFO - Safe energy range: 177.83 to 25,118.86 GeV\n"
       ]
      },
      {
       "output_type": "stream",
       "stream": "stderr",
       "text": [
        "INFO - dNdE at 1 GeV: 1.01e+01 s^-1 cm^-2 GeV^-1\n"
       ]
      },
      {
       "output_type": "stream",
       "stream": "stderr",
       "text": [
        "INFO - dNdE at 400 GeV: 5.08e-05 s^-1 cm^-2 GeV^-1\n"
       ]
      },
      {
       "output_type": "stream",
       "stream": "stderr",
       "text": [
        "INFO - dNdE at 1 TeV: 7.85e-06 s^-1 cm^-2 GeV^-1\n"
       ]
      },
      {
       "output_type": "stream",
       "stream": "stderr",
       "text": [
        "INFO - tau at min safe E: 5.37\n"
       ]
      },
      {
       "output_type": "stream",
       "stream": "stderr",
       "text": [
        "INFO - tau at max safe E: 3,150.77\n"
       ]
      },
      {
       "output_type": "stream",
       "stream": "stderr",
       "text": [
        "INFO - Predicted counts/hour: 3.02e+07\n"
       ]
      },
      {
       "output_type": "stream",
       "stream": "stderr",
       "text": [
        "INFO - This is approximately 4,586,013.4261% of the Crab Nebula's Flux\n"
       ]
      },
      {
       "output_type": "stream",
       "stream": "stderr",
       "text": [
        "INFO - This will take approximately 0.0107 hours to detect at a 5 sigma level\n"
       ]
      },
      {
       "output_type": "stream",
       "stream": "stderr",
       "text": [
        "WARNING - Using maximum redshift in EBL table.\n"
       ]
      },
      {
       "output_type": "stream",
       "stream": "stderr",
       "text": [
        "WARNING - Spectrum starts below minimum energy in EBL table.\n"
       ]
      },
      {
       "output_type": "stream",
       "stream": "stderr",
       "text": [
        "WARNING - Spectrum continues beyond maximum energy in EBL table.\n"
       ]
      },
      {
       "output_type": "stream",
       "stream": "stderr",
       "text": [
        "WARNING - Using 659.0 counts/hr as the rate from the Crab Nebula.\n"
       ]
      },
      {
       "output_type": "stream",
       "stream": "stderr",
       "text": [
        "WARNING - Time to detection assumes a Crab Nebula Spectrum.\n"
       ]
      },
      {
       "output_type": "stream",
       "stream": "stderr",
       "text": [
        "INFO - Using Effective_Areas/VERITAS/ea_Nov2010_na_ATM21_vegasv240rc1_7sam_050off_soft-1.summary.csv\n"
       ]
      },
      {
       "output_type": "stream",
       "stream": "stderr",
       "text": [
        "INFO - Using EffectiveArea_Azimuth_0_Zenith_20_Noise_4.07\n"
       ]
      },
      {
       "output_type": "stream",
       "stream": "stderr",
       "text": [
        "INFO - Safe energy range: 177.83 to 25,118.86 GeV\n"
       ]
      },
      {
       "output_type": "stream",
       "stream": "stderr",
       "text": [
        "INFO - dNdE at 1 GeV: 1.66e+00 s^-1 cm^-2 GeV^-1\n"
       ]
      },
      {
       "output_type": "stream",
       "stream": "stderr",
       "text": [
        "INFO - dNdE at 400 GeV: 3.52e-05 s^-1 cm^-2 GeV^-1\n"
       ]
      },
      {
       "output_type": "stream",
       "stream": "stderr",
       "text": [
        "INFO - dNdE at 1 TeV: 6.78e-06 s^-1 cm^-2 GeV^-1\n"
       ]
      },
      {
       "output_type": "stream",
       "stream": "stderr",
       "text": [
        "INFO - tau at min safe E: 5.37\n"
       ]
      },
      {
       "output_type": "stream",
       "stream": "stderr",
       "text": [
        "INFO - tau at max safe E: 3,150.77\n"
       ]
      },
      {
       "output_type": "stream",
       "stream": "stderr",
       "text": [
        "INFO - Predicted counts/hour: 1.77e+07\n"
       ]
      },
      {
       "output_type": "stream",
       "stream": "stderr",
       "text": [
        "INFO - This is approximately 2,679,310.6426% of the Crab Nebula's Flux\n"
       ]
      },
      {
       "output_type": "stream",
       "stream": "stderr",
       "text": [
        "INFO - This will take approximately 0.0107 hours to detect at a 5 sigma level\n"
       ]
      },
      {
       "output_type": "stream",
       "stream": "stderr",
       "text": [
        "WARNING - Using maximum redshift in EBL table.\n"
       ]
      },
      {
       "output_type": "stream",
       "stream": "stderr",
       "text": [
        "WARNING - Spectrum starts below minimum energy in EBL table.\n"
       ]
      },
      {
       "output_type": "stream",
       "stream": "stderr",
       "text": [
        "WARNING - Spectrum continues beyond maximum energy in EBL table.\n"
       ]
      },
      {
       "output_type": "stream",
       "stream": "stderr",
       "text": [
        "WARNING - Using 659.0 counts/hr as the rate from the Crab Nebula.\n"
       ]
      },
      {
       "output_type": "stream",
       "stream": "stderr",
       "text": [
        "WARNING - Time to detection assumes a Crab Nebula Spectrum.\n"
       ]
      },
      {
       "output_type": "stream",
       "stream": "stderr",
       "text": [
        "INFO - Using Effective_Areas/VERITAS/ea_Nov2010_na_ATM21_vegasv240rc1_7sam_050off_soft-1.summary.csv\n"
       ]
      },
      {
       "output_type": "stream",
       "stream": "stderr",
       "text": [
        "INFO - Using EffectiveArea_Azimuth_0_Zenith_20_Noise_4.07\n"
       ]
      },
      {
       "output_type": "stream",
       "stream": "stderr",
       "text": [
        "INFO - Safe energy range: 177.83 to 25,118.86 GeV\n"
       ]
      },
      {
       "output_type": "stream",
       "stream": "stderr",
       "text": [
        "INFO - dNdE at 1 GeV: 2.46e+00 s^-1 cm^-2 GeV^-1\n"
       ]
      },
      {
       "output_type": "stream",
       "stream": "stderr",
       "text": [
        "INFO - dNdE at 400 GeV: 1.01e-05 s^-1 cm^-2 GeV^-1\n"
       ]
      },
      {
       "output_type": "stream",
       "stream": "stderr",
       "text": [
        "INFO - dNdE at 1 TeV: 1.52e-06 s^-1 cm^-2 GeV^-1\n"
       ]
      },
      {
       "output_type": "stream",
       "stream": "stderr",
       "text": [
        "INFO - tau at min safe E: 5.37\n"
       ]
      },
      {
       "output_type": "stream",
       "stream": "stderr",
       "text": [
        "INFO - tau at max safe E: 3,150.77\n"
       ]
      },
      {
       "output_type": "stream",
       "stream": "stderr",
       "text": [
        "INFO - Predicted counts/hour: 6.16e+06\n"
       ]
      },
      {
       "output_type": "stream",
       "stream": "stderr",
       "text": [
        "INFO - This is approximately 934,072.4764% of the Crab Nebula's Flux\n"
       ]
      },
      {
       "output_type": "stream",
       "stream": "stderr",
       "text": [
        "INFO - This will take approximately 0.0107 hours to detect at a 5 sigma level\n"
       ]
      },
      {
       "output_type": "stream",
       "stream": "stderr",
       "text": [
        "WARNING - Using maximum redshift in EBL table.\n"
       ]
      },
      {
       "output_type": "stream",
       "stream": "stderr",
       "text": [
        "WARNING - Spectrum starts below minimum energy in EBL table.\n"
       ]
      },
      {
       "output_type": "stream",
       "stream": "stderr",
       "text": [
        "WARNING - Spectrum continues beyond maximum energy in EBL table.\n"
       ]
      },
      {
       "output_type": "stream",
       "stream": "stderr",
       "text": [
        "WARNING - Using 659.0 counts/hr as the rate from the Crab Nebula.\n"
       ]
      },
      {
       "output_type": "stream",
       "stream": "stderr",
       "text": [
        "WARNING - Time to detection assumes a Crab Nebula Spectrum.\n"
       ]
      },
      {
       "output_type": "stream",
       "stream": "stderr",
       "text": [
        "INFO - Using Effective_Areas/VERITAS/ea_Nov2010_na_ATM21_vegasv240rc1_7sam_050off_soft-1.summary.csv\n"
       ]
      },
      {
       "output_type": "stream",
       "stream": "stderr",
       "text": [
        "INFO - Using EffectiveArea_Azimuth_0_Zenith_20_Noise_4.07\n"
       ]
      },
      {
       "output_type": "stream",
       "stream": "stderr",
       "text": [
        "INFO - Safe energy range: 177.83 to 25,118.86 GeV\n"
       ]
      },
      {
       "output_type": "stream",
       "stream": "stderr",
       "text": [
        "INFO - dNdE at 1 GeV: 2.67e-01 s^-1 cm^-2 GeV^-1\n"
       ]
      },
      {
       "output_type": "stream",
       "stream": "stderr",
       "text": [
        "INFO - dNdE at 400 GeV: 5.31e-06 s^-1 cm^-2 GeV^-1\n"
       ]
      },
      {
       "output_type": "stream",
       "stream": "stderr",
       "text": [
        "INFO - dNdE at 1 TeV: 1.01e-06 s^-1 cm^-2 GeV^-1\n"
       ]
      },
      {
       "output_type": "stream",
       "stream": "stderr",
       "text": [
        "INFO - tau at min safe E: 5.37\n"
       ]
      },
      {
       "output_type": "stream",
       "stream": "stderr",
       "text": [
        "INFO - tau at max safe E: 3,150.77\n"
       ]
      },
      {
       "output_type": "stream",
       "stream": "stderr",
       "text": [
        "INFO - Predicted counts/hour: 2.69e+06\n"
       ]
      },
      {
       "output_type": "stream",
       "stream": "stderr",
       "text": [
        "INFO - This is approximately 407,831.2193% of the Crab Nebula's Flux\n"
       ]
      },
      {
       "output_type": "stream",
       "stream": "stderr",
       "text": [
        "INFO - This will take approximately 0.0107 hours to detect at a 5 sigma level\n"
       ]
      },
      {
       "output_type": "stream",
       "stream": "stderr",
       "text": [
        "WARNING - Using maximum redshift in EBL table.\n"
       ]
      },
      {
       "output_type": "stream",
       "stream": "stderr",
       "text": [
        "WARNING - Spectrum starts below minimum energy in EBL table.\n"
       ]
      },
      {
       "output_type": "stream",
       "stream": "stderr",
       "text": [
        "WARNING - Spectrum continues beyond maximum energy in EBL table.\n"
       ]
      },
      {
       "output_type": "stream",
       "stream": "stderr",
       "text": [
        "WARNING - Using 659.0 counts/hr as the rate from the Crab Nebula.\n"
       ]
      },
      {
       "output_type": "stream",
       "stream": "stderr",
       "text": [
        "WARNING - Time to detection assumes a Crab Nebula Spectrum.\n"
       ]
      },
      {
       "output_type": "stream",
       "stream": "stderr",
       "text": [
        "INFO - Using Effective_Areas/VERITAS/ea_Nov2010_na_ATM21_vegasv240rc1_7sam_050off_soft-1.summary.csv\n"
       ]
      },
      {
       "output_type": "stream",
       "stream": "stderr",
       "text": [
        "INFO - Using EffectiveArea_Azimuth_0_Zenith_20_Noise_4.07\n"
       ]
      },
      {
       "output_type": "stream",
       "stream": "stderr",
       "text": [
        "INFO - Safe energy range: 177.83 to 25,118.86 GeV\n"
       ]
      },
      {
       "output_type": "stream",
       "stream": "stderr",
       "text": [
        "INFO - dNdE at 1 GeV: 2.33e-01 s^-1 cm^-2 GeV^-1\n"
       ]
      },
      {
       "output_type": "stream",
       "stream": "stderr",
       "text": [
        "INFO - dNdE at 400 GeV: 4.82e-06 s^-1 cm^-2 GeV^-1\n"
       ]
      },
      {
       "output_type": "stream",
       "stream": "stderr",
       "text": [
        "INFO - dNdE at 1 TeV: 9.27e-07 s^-1 cm^-2 GeV^-1\n"
       ]
      },
      {
       "output_type": "stream",
       "stream": "stderr",
       "text": [
        "INFO - tau at min safe E: 5.37\n"
       ]
      },
      {
       "output_type": "stream",
       "stream": "stderr",
       "text": [
        "INFO - tau at max safe E: 3,150.77\n"
       ]
      },
      {
       "output_type": "stream",
       "stream": "stderr",
       "text": [
        "INFO - Predicted counts/hour: 2.43e+06\n"
       ]
      },
      {
       "output_type": "stream",
       "stream": "stderr",
       "text": [
        "INFO - This is approximately 368,496.8804% of the Crab Nebula's Flux\n"
       ]
      },
      {
       "output_type": "stream",
       "stream": "stderr",
       "text": [
        "INFO - This will take approximately 0.0107 hours to detect at a 5 sigma level\n"
       ]
      },
      {
       "output_type": "stream",
       "stream": "stderr",
       "text": [
        "WARNING - Using maximum redshift in EBL table.\n"
       ]
      },
      {
       "output_type": "stream",
       "stream": "stderr",
       "text": [
        "WARNING - Spectrum starts below minimum energy in EBL table.\n"
       ]
      },
      {
       "output_type": "stream",
       "stream": "stderr",
       "text": [
        "WARNING - Spectrum continues beyond maximum energy in EBL table.\n"
       ]
      },
      {
       "output_type": "stream",
       "stream": "stderr",
       "text": [
        "WARNING - Using 659.0 counts/hr as the rate from the Crab Nebula.\n"
       ]
      },
      {
       "output_type": "stream",
       "stream": "stderr",
       "text": [
        "WARNING - Time to detection assumes a Crab Nebula Spectrum.\n"
       ]
      },
      {
       "output_type": "stream",
       "stream": "stderr",
       "text": [
        "INFO - Using Effective_Areas/VERITAS/ea_Nov2010_na_ATM21_vegasv240rc1_7sam_050off_soft-1.summary.csv\n"
       ]
      },
      {
       "output_type": "stream",
       "stream": "stderr",
       "text": [
        "INFO - Using EffectiveArea_Azimuth_0_Zenith_20_Noise_4.07\n"
       ]
      },
      {
       "output_type": "stream",
       "stream": "stderr",
       "text": [
        "INFO - Safe energy range: 177.83 to 25,118.86 GeV\n"
       ]
      },
      {
       "output_type": "stream",
       "stream": "stderr",
       "text": [
        "INFO - dNdE at 1 GeV: 3.43e+02 s^-1 cm^-2 GeV^-1\n"
       ]
      },
      {
       "output_type": "stream",
       "stream": "stderr",
       "text": [
        "INFO - dNdE at 400 GeV: 1.89e-05 s^-1 cm^-2 GeV^-1\n"
       ]
      },
      {
       "output_type": "stream",
       "stream": "stderr",
       "text": [
        "INFO - dNdE at 1 TeV: 1.46e-06 s^-1 cm^-2 GeV^-1\n"
       ]
      },
      {
       "output_type": "stream",
       "stream": "stderr",
       "text": [
        "INFO - tau at min safe E: 5.37\n"
       ]
      },
      {
       "output_type": "stream",
       "stream": "stderr",
       "text": [
        "INFO - tau at max safe E: 3,150.77\n"
       ]
      },
      {
       "output_type": "stream",
       "stream": "stderr",
       "text": [
        "INFO - Predicted counts/hour: 1.92e+07\n"
       ]
      },
      {
       "output_type": "stream",
       "stream": "stderr",
       "text": [
        "INFO - This is approximately 2,912,466.5620% of the Crab Nebula's Flux\n"
       ]
      },
      {
       "output_type": "stream",
       "stream": "stderr",
       "text": [
        "INFO - This will take approximately 0.0107 hours to detect at a 5 sigma level\n"
       ]
      },
      {
       "output_type": "stream",
       "stream": "stderr",
       "text": [
        "WARNING - Using maximum redshift in EBL table.\n"
       ]
      },
      {
       "output_type": "stream",
       "stream": "stderr",
       "text": [
        "WARNING - Spectrum starts below minimum energy in EBL table.\n"
       ]
      },
      {
       "output_type": "stream",
       "stream": "stderr",
       "text": [
        "WARNING - Spectrum continues beyond maximum energy in EBL table.\n"
       ]
      },
      {
       "output_type": "stream",
       "stream": "stderr",
       "text": [
        "WARNING - Using 659.0 counts/hr as the rate from the Crab Nebula.\n"
       ]
      },
      {
       "output_type": "stream",
       "stream": "stderr",
       "text": [
        "WARNING - Time to detection assumes a Crab Nebula Spectrum.\n"
       ]
      },
      {
       "output_type": "stream",
       "stream": "stderr",
       "text": [
        "INFO - Using Effective_Areas/VERITAS/ea_Nov2010_na_ATM21_vegasv240rc1_7sam_050off_soft-1.summary.csv\n"
       ]
      },
      {
       "output_type": "stream",
       "stream": "stderr",
       "text": [
        "INFO - Using EffectiveArea_Azimuth_0_Zenith_20_Noise_4.07\n"
       ]
      },
      {
       "output_type": "stream",
       "stream": "stderr",
       "text": [
        "INFO - Safe energy range: 177.83 to 25,118.86 GeV\n"
       ]
      },
      {
       "output_type": "stream",
       "stream": "stderr",
       "text": [
        "INFO - dNdE at 1 GeV: 2.07e-02 s^-1 cm^-2 GeV^-1\n"
       ]
      },
      {
       "output_type": "stream",
       "stream": "stderr",
       "text": [
        "INFO - dNdE at 400 GeV: 1.82e-06 s^-1 cm^-2 GeV^-1\n"
       ]
      },
      {
       "output_type": "stream",
       "stream": "stderr",
       "text": [
        "INFO - dNdE at 1 TeV: 4.36e-07 s^-1 cm^-2 GeV^-1\n"
       ]
      },
      {
       "output_type": "stream",
       "stream": "stderr",
       "text": [
        "INFO - tau at min safe E: 5.37\n"
       ]
      },
      {
       "output_type": "stream",
       "stream": "stderr",
       "text": [
        "INFO - tau at max safe E: 3,150.77\n"
       ]
      },
      {
       "output_type": "stream",
       "stream": "stderr",
       "text": [
        "INFO - Predicted counts/hour: 7.72e+05\n"
       ]
      },
      {
       "output_type": "stream",
       "stream": "stderr",
       "text": [
        "INFO - This is approximately 117,116.0434% of the Crab Nebula's Flux\n"
       ]
      },
      {
       "output_type": "stream",
       "stream": "stderr",
       "text": [
        "INFO - This will take approximately 0.0107 hours to detect at a 5 sigma level\n"
       ]
      },
      {
       "output_type": "stream",
       "stream": "stderr",
       "text": [
        "WARNING - Using maximum redshift in EBL table.\n"
       ]
      },
      {
       "output_type": "stream",
       "stream": "stderr",
       "text": [
        "WARNING - Spectrum starts below minimum energy in EBL table.\n"
       ]
      },
      {
       "output_type": "stream",
       "stream": "stderr",
       "text": [
        "WARNING - Spectrum continues beyond maximum energy in EBL table.\n"
       ]
      },
      {
       "output_type": "stream",
       "stream": "stderr",
       "text": [
        "WARNING - Using 659.0 counts/hr as the rate from the Crab Nebula.\n"
       ]
      },
      {
       "output_type": "stream",
       "stream": "stderr",
       "text": [
        "WARNING - Time to detection assumes a Crab Nebula Spectrum.\n"
       ]
      },
      {
       "output_type": "stream",
       "stream": "stderr",
       "text": [
        "INFO - Using Effective_Areas/VERITAS/ea_Nov2010_na_ATM21_vegasv240rc1_7sam_050off_soft-1.summary.csv\n"
       ]
      },
      {
       "output_type": "stream",
       "stream": "stderr",
       "text": [
        "INFO - Using EffectiveArea_Azimuth_0_Zenith_20_Noise_4.07\n"
       ]
      },
      {
       "output_type": "stream",
       "stream": "stderr",
       "text": [
        "INFO - Safe energy range: 177.83 to 25,118.86 GeV\n"
       ]
      },
      {
       "output_type": "stream",
       "stream": "stderr",
       "text": [
        "INFO - dNdE at 1 GeV: 4.57e+01 s^-1 cm^-2 GeV^-1\n"
       ]
      },
      {
       "output_type": "stream",
       "stream": "stderr",
       "text": [
        "INFO - dNdE at 400 GeV: 8.43e-06 s^-1 cm^-2 GeV^-1\n"
       ]
      },
      {
       "output_type": "stream",
       "stream": "stderr",
       "text": [
        "INFO - dNdE at 1 TeV: 7.87e-07 s^-1 cm^-2 GeV^-1\n"
       ]
      },
      {
       "output_type": "stream",
       "stream": "stderr",
       "text": [
        "INFO - tau at min safe E: 5.37\n"
       ]
      },
      {
       "output_type": "stream",
       "stream": "stderr",
       "text": [
        "INFO - tau at max safe E: 3,150.77\n"
       ]
      },
      {
       "output_type": "stream",
       "stream": "stderr",
       "text": [
        "INFO - Predicted counts/hour: 7.43e+06\n"
       ]
      },
      {
       "output_type": "stream",
       "stream": "stderr",
       "text": [
        "INFO - This is approximately 1,126,838.4108% of the Crab Nebula's Flux\n"
       ]
      },
      {
       "output_type": "stream",
       "stream": "stderr",
       "text": [
        "INFO - This will take approximately 0.0107 hours to detect at a 5 sigma level\n"
       ]
      },
      {
       "output_type": "stream",
       "stream": "stderr",
       "text": [
        "WARNING - Using maximum redshift in EBL table.\n"
       ]
      },
      {
       "output_type": "stream",
       "stream": "stderr",
       "text": [
        "WARNING - Spectrum starts below minimum energy in EBL table.\n"
       ]
      },
      {
       "output_type": "stream",
       "stream": "stderr",
       "text": [
        "WARNING - Spectrum continues beyond maximum energy in EBL table.\n"
       ]
      },
      {
       "output_type": "stream",
       "stream": "stderr",
       "text": [
        "WARNING - Using 659.0 counts/hr as the rate from the Crab Nebula.\n"
       ]
      },
      {
       "output_type": "stream",
       "stream": "stderr",
       "text": [
        "WARNING - Time to detection assumes a Crab Nebula Spectrum.\n"
       ]
      },
      {
       "output_type": "stream",
       "stream": "stderr",
       "text": [
        "INFO - Using Effective_Areas/VERITAS/ea_Nov2010_na_ATM21_vegasv240rc1_7sam_050off_soft-1.summary.csv\n"
       ]
      },
      {
       "output_type": "stream",
       "stream": "stderr",
       "text": [
        "INFO - Using EffectiveArea_Azimuth_0_Zenith_20_Noise_4.07\n"
       ]
      },
      {
       "output_type": "stream",
       "stream": "stderr",
       "text": [
        "INFO - Safe energy range: 177.83 to 25,118.86 GeV\n"
       ]
      },
      {
       "output_type": "stream",
       "stream": "stderr",
       "text": [
        "INFO - dNdE at 1 GeV: 7.25e+00 s^-1 cm^-2 GeV^-1\n"
       ]
      },
      {
       "output_type": "stream",
       "stream": "stderr",
       "text": [
        "INFO - dNdE at 400 GeV: 4.57e-06 s^-1 cm^-2 GeV^-1\n"
       ]
      },
      {
       "output_type": "stream",
       "stream": "stderr",
       "text": [
        "INFO - dNdE at 1 TeV: 5.14e-07 s^-1 cm^-2 GeV^-1\n"
       ]
      },
      {
       "output_type": "stream",
       "stream": "stderr",
       "text": [
        "INFO - tau at min safe E: 5.37\n"
       ]
      },
      {
       "output_type": "stream",
       "stream": "stderr",
       "text": [
        "INFO - tau at max safe E: 3,150.77\n"
       ]
      },
      {
       "output_type": "stream",
       "stream": "stderr",
       "text": [
        "INFO - Predicted counts/hour: 3.48e+06\n"
       ]
      },
      {
       "output_type": "stream",
       "stream": "stderr",
       "text": [
        "INFO - This is approximately 527,637.7201% of the Crab Nebula's Flux\n"
       ]
      },
      {
       "output_type": "stream",
       "stream": "stderr",
       "text": [
        "INFO - This will take approximately 0.0107 hours to detect at a 5 sigma level\n"
       ]
      },
      {
       "output_type": "stream",
       "stream": "stderr",
       "text": [
        "WARNING - Using maximum redshift in EBL table.\n"
       ]
      },
      {
       "output_type": "stream",
       "stream": "stderr",
       "text": [
        "WARNING - Spectrum starts below minimum energy in EBL table.\n"
       ]
      },
      {
       "output_type": "stream",
       "stream": "stderr",
       "text": [
        "WARNING - Spectrum continues beyond maximum energy in EBL table.\n"
       ]
      },
      {
       "output_type": "stream",
       "stream": "stderr",
       "text": [
        "WARNING - Using 659.0 counts/hr as the rate from the Crab Nebula.\n"
       ]
      },
      {
       "output_type": "stream",
       "stream": "stderr",
       "text": [
        "WARNING - Time to detection assumes a Crab Nebula Spectrum.\n"
       ]
      },
      {
       "output_type": "stream",
       "stream": "stderr",
       "text": [
        "INFO - Using Effective_Areas/VERITAS/ea_Nov2010_na_ATM21_vegasv240rc1_7sam_050off_soft-1.summary.csv\n"
       ]
      },
      {
       "output_type": "stream",
       "stream": "stderr",
       "text": [
        "INFO - Using EffectiveArea_Azimuth_0_Zenith_20_Noise_4.07\n"
       ]
      },
      {
       "output_type": "stream",
       "stream": "stderr",
       "text": [
        "INFO - Safe energy range: 177.83 to 25,118.86 GeV\n"
       ]
      },
      {
       "output_type": "stream",
       "stream": "stderr",
       "text": [
        "INFO - dNdE at 1 GeV: 1.21e+00 s^-1 cm^-2 GeV^-1\n"
       ]
      },
      {
       "output_type": "stream",
       "stream": "stderr",
       "text": [
        "INFO - dNdE at 400 GeV: 5.82e-06 s^-1 cm^-2 GeV^-1\n"
       ]
      },
      {
       "output_type": "stream",
       "stream": "stderr",
       "text": [
        "INFO - dNdE at 1 TeV: 8.94e-07 s^-1 cm^-2 GeV^-1\n"
       ]
      },
      {
       "output_type": "stream",
       "stream": "stderr",
       "text": [
        "INFO - tau at min safe E: 5.37\n"
       ]
      },
      {
       "output_type": "stream",
       "stream": "stderr",
       "text": [
        "INFO - tau at max safe E: 3,150.77\n"
       ]
      },
      {
       "output_type": "stream",
       "stream": "stderr",
       "text": [
        "INFO - Predicted counts/hour: 3.48e+06\n"
       ]
      },
      {
       "output_type": "stream",
       "stream": "stderr",
       "text": [
        "INFO - This is approximately 528,324.8828% of the Crab Nebula's Flux\n"
       ]
      },
      {
       "output_type": "stream",
       "stream": "stderr",
       "text": [
        "INFO - This will take approximately 0.0107 hours to detect at a 5 sigma level\n"
       ]
      },
      {
       "output_type": "stream",
       "stream": "stderr",
       "text": [
        "WARNING - Using maximum redshift in EBL table.\n"
       ]
      },
      {
       "output_type": "stream",
       "stream": "stderr",
       "text": [
        "WARNING - Spectrum starts below minimum energy in EBL table.\n"
       ]
      },
      {
       "output_type": "stream",
       "stream": "stderr",
       "text": [
        "WARNING - Spectrum continues beyond maximum energy in EBL table.\n"
       ]
      },
      {
       "output_type": "stream",
       "stream": "stderr",
       "text": [
        "WARNING - Using 659.0 counts/hr as the rate from the Crab Nebula.\n"
       ]
      },
      {
       "output_type": "stream",
       "stream": "stderr",
       "text": [
        "WARNING - Time to detection assumes a Crab Nebula Spectrum.\n"
       ]
      },
      {
       "output_type": "stream",
       "stream": "stderr",
       "text": [
        "INFO - Using Effective_Areas/VERITAS/ea_Nov2010_na_ATM21_vegasv240rc1_7sam_050off_soft-1.summary.csv\n"
       ]
      },
      {
       "output_type": "stream",
       "stream": "stderr",
       "text": [
        "INFO - Using EffectiveArea_Azimuth_0_Zenith_20_Noise_4.07\n"
       ]
      },
      {
       "output_type": "stream",
       "stream": "stderr",
       "text": [
        "INFO - Safe energy range: 177.83 to 25,118.86 GeV\n"
       ]
      },
      {
       "output_type": "stream",
       "stream": "stderr",
       "text": [
        "INFO - dNdE at 1 GeV: 1.57e+00 s^-1 cm^-2 GeV^-1\n"
       ]
      },
      {
       "output_type": "stream",
       "stream": "stderr",
       "text": [
        "INFO - dNdE at 400 GeV: 4.61e-07 s^-1 cm^-2 GeV^-1\n"
       ]
      },
      {
       "output_type": "stream",
       "stream": "stderr",
       "text": [
        "INFO - dNdE at 1 TeV: 4.63e-08 s^-1 cm^-2 GeV^-1\n"
       ]
      },
      {
       "output_type": "stream",
       "stream": "stderr",
       "text": [
        "INFO - tau at min safe E: 5.37\n"
       ]
      },
      {
       "output_type": "stream",
       "stream": "stderr",
       "text": [
        "INFO - tau at max safe E: 3,150.77\n"
       ]
      },
      {
       "output_type": "stream",
       "stream": "stderr",
       "text": [
        "INFO - Predicted counts/hour: 3.84e+05\n"
       ]
      },
      {
       "output_type": "stream",
       "stream": "stderr",
       "text": [
        "INFO - This is approximately 58,341.8927% of the Crab Nebula's Flux\n"
       ]
      },
      {
       "output_type": "stream",
       "stream": "stderr",
       "text": [
        "INFO - This will take approximately 0.0107 hours to detect at a 5 sigma level\n"
       ]
      },
      {
       "output_type": "stream",
       "stream": "stderr",
       "text": [
        "WARNING - Using maximum redshift in EBL table.\n"
       ]
      },
      {
       "output_type": "stream",
       "stream": "stderr",
       "text": [
        "WARNING - Spectrum starts below minimum energy in EBL table.\n"
       ]
      },
      {
       "output_type": "stream",
       "stream": "stderr",
       "text": [
        "WARNING - Spectrum continues beyond maximum energy in EBL table.\n"
       ]
      },
      {
       "output_type": "stream",
       "stream": "stderr",
       "text": [
        "WARNING - Using 659.0 counts/hr as the rate from the Crab Nebula.\n"
       ]
      },
      {
       "output_type": "stream",
       "stream": "stderr",
       "text": [
        "WARNING - Time to detection assumes a Crab Nebula Spectrum.\n"
       ]
      },
      {
       "output_type": "stream",
       "stream": "stderr",
       "text": [
        "INFO - Using Effective_Areas/VERITAS/ea_Nov2010_na_ATM21_vegasv240rc1_7sam_050off_soft-1.summary.csv\n"
       ]
      },
      {
       "output_type": "stream",
       "stream": "stderr",
       "text": [
        "INFO - Using EffectiveArea_Azimuth_0_Zenith_20_Noise_4.07\n"
       ]
      },
      {
       "output_type": "stream",
       "stream": "stderr",
       "text": [
        "INFO - Safe energy range: 177.83 to 25,118.86 GeV\n"
       ]
      },
      {
       "output_type": "stream",
       "stream": "stderr",
       "text": [
        "INFO - dNdE at 1 GeV: 1.74e-01 s^-1 cm^-2 GeV^-1\n"
       ]
      },
      {
       "output_type": "stream",
       "stream": "stderr",
       "text": [
        "INFO - dNdE at 400 GeV: 4.36e-07 s^-1 cm^-2 GeV^-1\n"
       ]
      },
      {
       "output_type": "stream",
       "stream": "stderr",
       "text": [
        "INFO - dNdE at 1 TeV: 6.06e-08 s^-1 cm^-2 GeV^-1\n"
       ]
      },
      {
       "output_type": "stream",
       "stream": "stderr",
       "text": [
        "INFO - tau at min safe E: 5.37\n"
       ]
      },
      {
       "output_type": "stream",
       "stream": "stderr",
       "text": [
        "INFO - tau at max safe E: 3,150.77\n"
       ]
      },
      {
       "output_type": "stream",
       "stream": "stderr",
       "text": [
        "INFO - Predicted counts/hour: 2.82e+05\n"
       ]
      },
      {
       "output_type": "stream",
       "stream": "stderr",
       "text": [
        "INFO - This is approximately 42,729.2268% of the Crab Nebula's Flux\n"
       ]
      },
      {
       "output_type": "stream",
       "stream": "stderr",
       "text": [
        "INFO - This will take approximately 0.0107 hours to detect at a 5 sigma level\n"
       ]
      },
      {
       "output_type": "stream",
       "stream": "stderr",
       "text": [
        "WARNING - Using maximum redshift in EBL table.\n"
       ]
      },
      {
       "output_type": "stream",
       "stream": "stderr",
       "text": [
        "WARNING - Spectrum starts below minimum energy in EBL table.\n"
       ]
      },
      {
       "output_type": "stream",
       "stream": "stderr",
       "text": [
        "WARNING - Spectrum continues beyond maximum energy in EBL table.\n"
       ]
      },
      {
       "output_type": "stream",
       "stream": "stderr",
       "text": [
        "WARNING - Using 659.0 counts/hr as the rate from the Crab Nebula.\n"
       ]
      },
      {
       "output_type": "stream",
       "stream": "stderr",
       "text": [
        "WARNING - Time to detection assumes a Crab Nebula Spectrum.\n"
       ]
      },
      {
       "output_type": "stream",
       "stream": "stderr",
       "text": [
        "INFO - Using Effective_Areas/VERITAS/ea_Nov2010_na_ATM21_vegasv240rc1_7sam_050off_soft-1.summary.csv\n"
       ]
      },
      {
       "output_type": "stream",
       "stream": "stderr",
       "text": [
        "INFO - Using EffectiveArea_Azimuth_0_Zenith_20_Noise_4.07\n"
       ]
      },
      {
       "output_type": "stream",
       "stream": "stderr",
       "text": [
        "INFO - Safe energy range: 177.83 to 25,118.86 GeV\n"
       ]
      },
      {
       "output_type": "stream",
       "stream": "stderr",
       "text": [
        "INFO - dNdE at 1 GeV: 6.57e-02 s^-1 cm^-2 GeV^-1\n"
       ]
      },
      {
       "output_type": "stream",
       "stream": "stderr",
       "text": [
        "INFO - dNdE at 400 GeV: 1.87e-09 s^-1 cm^-2 GeV^-1\n"
       ]
      },
      {
       "output_type": "stream",
       "stream": "stderr",
       "text": [
        "INFO - dNdE at 1 TeV: 1.31e-10 s^-1 cm^-2 GeV^-1\n"
       ]
      },
      {
       "output_type": "stream",
       "stream": "stderr",
       "text": [
        "INFO - tau at min safe E: 5.37\n"
       ]
      },
      {
       "output_type": "stream",
       "stream": "stderr",
       "text": [
        "INFO - tau at max safe E: 3,150.77\n"
       ]
      },
      {
       "output_type": "stream",
       "stream": "stderr",
       "text": [
        "INFO - Predicted counts/hour: 2.06e+03\n"
       ]
      },
      {
       "output_type": "stream",
       "stream": "stderr",
       "text": [
        "INFO - This is approximately 312.5665% of the Crab Nebula's Flux\n"
       ]
      },
      {
       "output_type": "stream",
       "stream": "stderr",
       "text": [
        "INFO - This will take approximately 0.0109 hours to detect at a 5 sigma level\n"
       ]
      },
      {
       "output_type": "stream",
       "stream": "stderr",
       "text": [
        "WARNING - Using maximum redshift in EBL table.\n"
       ]
      },
      {
       "output_type": "stream",
       "stream": "stderr",
       "text": [
        "WARNING - Spectrum starts below minimum energy in EBL table.\n"
       ]
      },
      {
       "output_type": "stream",
       "stream": "stderr",
       "text": [
        "WARNING - Spectrum continues beyond maximum energy in EBL table.\n"
       ]
      },
      {
       "output_type": "stream",
       "stream": "stderr",
       "text": [
        "WARNING - Using 659.0 counts/hr as the rate from the Crab Nebula.\n"
       ]
      },
      {
       "output_type": "stream",
       "stream": "stderr",
       "text": [
        "WARNING - Time to detection assumes a Crab Nebula Spectrum.\n"
       ]
      },
      {
       "output_type": "stream",
       "stream": "stderr",
       "text": [
        "INFO - Using Effective_Areas/VERITAS/ea_Nov2010_na_ATM21_vegasv240rc1_7sam_050off_soft-1.summary.csv\n"
       ]
      },
      {
       "output_type": "stream",
       "stream": "stderr",
       "text": [
        "INFO - Using EffectiveArea_Azimuth_0_Zenith_20_Noise_4.07\n"
       ]
      },
      {
       "output_type": "stream",
       "stream": "stderr",
       "text": [
        "INFO - Safe energy range: 177.83 to 25,118.86 GeV\n"
       ]
      },
      {
       "output_type": "stream",
       "stream": "stderr",
       "text": [
        "INFO - dNdE at 1 GeV: 7.70e+01 s^-1 cm^-2 GeV^-1\n"
       ]
      },
      {
       "output_type": "stream",
       "stream": "stderr",
       "text": [
        "INFO - dNdE at 400 GeV: 3.14e-13 s^-1 cm^-2 GeV^-1\n"
       ]
      },
      {
       "output_type": "stream",
       "stream": "stderr",
       "text": [
        "INFO - dNdE at 1 TeV: 1.98e-15 s^-1 cm^-2 GeV^-1\n"
       ]
      },
      {
       "output_type": "stream",
       "stream": "stderr",
       "text": [
        "INFO - tau at min safe E: 5.37\n"
       ]
      },
      {
       "output_type": "stream",
       "stream": "stderr",
       "text": [
        "INFO - tau at max safe E: 3,150.77\n"
       ]
      },
      {
       "output_type": "stream",
       "stream": "stderr",
       "text": [
        "INFO - Predicted counts/hour: 2.33e+00\n"
       ]
      },
      {
       "output_type": "stream",
       "stream": "stderr",
       "text": [
        "INFO - This is approximately 0.3542% of the Crab Nebula's Flux\n"
       ]
      },
      {
       "output_type": "stream",
       "stream": "stderr",
       "text": [
        "INFO - This will take approximately 190.3283 hours to detect at a 5 sigma level\n"
       ]
      },
      {
       "output_type": "stream",
       "stream": "stderr",
       "text": [
        "WARNING - Using maximum redshift in EBL table.\n"
       ]
      },
      {
       "output_type": "stream",
       "stream": "stderr",
       "text": [
        "WARNING - Spectrum starts below minimum energy in EBL table.\n"
       ]
      },
      {
       "output_type": "stream",
       "stream": "stderr",
       "text": [
        "WARNING - Spectrum continues beyond maximum energy in EBL table.\n"
       ]
      },
      {
       "output_type": "stream",
       "stream": "stderr",
       "text": [
        "WARNING - Using 659.0 counts/hr as the rate from the Crab Nebula.\n"
       ]
      },
      {
       "output_type": "stream",
       "stream": "stderr",
       "text": [
        "WARNING - Time to detection assumes a Crab Nebula Spectrum.\n"
       ]
      },
      {
       "output_type": "stream",
       "stream": "stderr",
       "text": [
        "INFO - Using Effective_Areas/VERITAS/ea_Nov2010_na_ATM21_vegasv240rc1_7sam_050off_soft-1.summary.csv\n"
       ]
      },
      {
       "output_type": "stream",
       "stream": "stderr",
       "text": [
        "INFO - Using EffectiveArea_Azimuth_0_Zenith_20_Noise_4.07\n"
       ]
      },
      {
       "output_type": "stream",
       "stream": "stderr",
       "text": [
        "INFO - Safe energy range: 177.83 to 25,118.86 GeV\n"
       ]
      },
      {
       "output_type": "stream",
       "stream": "stderr",
       "text": [
        "INFO - dNdE at 1 GeV: 4.23e-03 s^-1 cm^-2 GeV^-1\n"
       ]
      },
      {
       "output_type": "stream",
       "stream": "stderr",
       "text": [
        "INFO - dNdE at 400 GeV: 8.14e-10 s^-1 cm^-2 GeV^-1\n"
       ]
      },
      {
       "output_type": "stream",
       "stream": "stderr",
       "text": [
        "INFO - dNdE at 1 TeV: 7.65e-11 s^-1 cm^-2 GeV^-1\n"
       ]
      },
      {
       "output_type": "stream",
       "stream": "stderr",
       "text": [
        "INFO - tau at min safe E: 5.37\n"
       ]
      },
      {
       "output_type": "stream",
       "stream": "stderr",
       "text": [
        "INFO - tau at max safe E: 3,150.77\n"
       ]
      },
      {
       "output_type": "stream",
       "stream": "stderr",
       "text": [
        "INFO - Predicted counts/hour: 7.13e+02\n"
       ]
      },
      {
       "output_type": "stream",
       "stream": "stderr",
       "text": [
        "INFO - This is approximately 108.2638% of the Crab Nebula's Flux\n"
       ]
      },
      {
       "output_type": "stream",
       "stream": "stderr",
       "text": [
        "INFO - This will take approximately 0.0313 hours to detect at a 5 sigma level\n"
       ]
      }
     ],
     "prompt_number": 8
    },
    {
     "cell_type": "code",
     "collapsed": false,
     "input": [
      "fig2 = pyplot.figure(figsize=(16,8))\n",
      "fig2ax1 = fig2.add_subplot(111)\n",
      "el = Ellipse((2, -1), 0.5, 0.5)\n",
      "\n",
      "\n",
      "#fig2ax2 = fig2.add_subplot(112)\n",
      "fig2ax1.set_ylabel(r'Integral Flux [cm$^{-2}$ s$^{-1}$ ]')\n",
      "fig2ax1.set_xlabel('Time [s]')\n",
      "fig2ax1.set_xscale('log')\n",
      "fig2ax1.set_yscale('log')\n",
      "msk1 = 2*np.array(GRB080916C.time_err) > np.array(GRB080916C.detTimes)\n",
      "msk2 = 2*np.array(GRB080916C.time_err) < np.array(GRB080916C.detTimes)\n",
      "l1 = fig2ax1.errorbar(np.array(GRB080916C.time)[msk1], np.array(GRB080916C.int_flux)[msk1], xerr = np.array(GRB080916C.time_err)[msk1],\n",
      "        yerr = [np.array(GRB080916C.merror)[msk1], np.array(GRB080916C.perror)[msk1]], fmt='_', color = 'g')\n",
      "l11 = fig2ax1.errorbar(np.array(GRB080916C.time)[msk2], np.array(GRB080916C.int_flux)[msk2], xerr = np.array(GRB080916C.time_err)[msk2],\n",
      "        yerr = [np.array(GRB080916C.merror)[msk2], np.array(GRB080916C.perror)[msk2]], fmt='_', color = 'r')\n",
      "#l2 = fig2ax1.scatter(np.array(self.time)[msk1], np.array(self.int_flux)[msk1], color = 'g')\n",
      "#l22 = fig2ax1.scatter(np.array(self.time)[msk2], np.array(self.int_flux)[msk2], color = 'r')\n",
      "\n",
      "fig2ax1.annotate('dN Plot Time Bin', xy=(740, 0.01),  xycoords='data',\n",
      "                xytext=(60, 80), textcoords='offset points',\n",
      "                size=20,\n",
      "                #bbox=dict(boxstyle=\"round\", fc=\"0.8\"),\n",
      "                arrowprops=dict(arrowstyle=\"simple\",\n",
      "                                fc=\"0.6\", ec=\"none\",\n",
      "                                patchB=el,\n",
      "                                connectionstyle=\"arc3,rad=0.45\"),\n",
      "                )\n",
      "\n",
      "fig2ax2 = fig2ax1.twinx()\n",
      "fig2.legend([l1, l11], ['Detectedable', 'Undetectedable'], 1)\n",
      "#fig2ax1.set_xlim(1,1e6)\n",
      "#fig2ax1.set_ylim(1e-12,1e-2)\n",
      "fig2ax1.axvline(100, color = 'k')"
     ],
     "language": "python",
     "metadata": {},
     "outputs": [
      {
       "output_type": "pyout",
       "prompt_number": 11,
       "text": [
        "<matplotlib.lines.Line2D at 0xb514a20>"
       ]
      },
      {
       "output_type": "display_data",
       "png": "[encoded data removed]",
       "text": [
        "<matplotlib.figure.Figure at 0x21b0e198>"
       ]
      }
     ],
     "prompt_number": 11
    },
    {
     "cell_type": "code",
     "collapsed": false,
     "input": [
      "fig = matplotlib.pyplot.gcf()\n",
      "fig.set_size_inches(18.5,10.5)\n",
      "\n",
      "ax1 = fig.add_subplot(3,1,1)\n",
      "ax2 = fig.add_subplot(3,1,2)\n",
      "ax3 = fig.add_subplot(3,1,3)\n",
      "fig.tight_layout()\n",
      "ax1.set_ylabel(r'LAT Flux [GeV$^{-1}$cm$^{-2}$ s$^{-1}$ ]', fontsize = '20')\n",
      "ax2.set_ylabel(r'Photon Index', fontsize = '20')\n",
      "ax3.set_ylabel(r'Integral Flux [cm$^{-2}$ s$^{-1}$ ]', fontsize = '20')\n",
      "ax3.set_xlabel('Time [s]', fontsize = '30')\n",
      "#ax1.set_title('Sharing both axes')\n",
      "ax1.set_xscale('log')\n",
      "ax1.set_yscale('log')\n",
      "ax2.set_xscale('log')\n",
      "ax3.set_xscale('log')\n",
      "ax3.set_yscale('log')\n",
      "ax3.annotate('Photon Index error ranges from',(0.8, 0.5),\n",
      "                 xycoords=\"axes fraction\", va=\"bottom\", ha=\"center\",\n",
      "                 bbox=dict(boxstyle=\"round, pad=1\", fc=\"w\"))\n",
      "\n",
      "\n",
      "\n",
      "\n",
      "ax1.errorbar(GRB080916C.time, GRB080916C.Flux_GeV, xerr = GRB080916C.time_err, yerr = GRB080916C.Flux_GeV_error, fmt = '_', color = 'k')\n",
      "ax2.errorbar(GRB080916C.time, GRB080916C.PI, xerr = GRB080916C.time_err, yerr = GRB080916C.PI_err, fmt = '_', color = 'k')\n",
      "ax3.errorbar(np.array(GRB080916C.time)[msk1], np.array(GRB080916C.int_flux)[msk1], xerr = np.array(GRB080916C.time_err)[msk1],\n",
      "        yerr = [np.array(GRB080916C.merror)[msk1], np.array(GRB080916C.perror)[msk1]], fmt='_', color = 'g', label = 'Detectable')\n",
      "ax3.errorbar(np.array(GRB080916C.time)[msk2], np.array(GRB080916C.int_flux)[msk2], xerr = np.array(GRB080916C.time_err)[msk2],\n",
      "        yerr = [np.array(GRB080916C.merror)[msk2], np.array(GRB080916C.perror)[msk2]], fmt='_', color = 'r', label = 'Undetectable')\n",
      "ax3.legend( fontsize = '20')\n",
      "\n",
      "# Fine-tune figure; make subplots close to each other and hide x ticks for\n",
      "# all but bottom plot.\n",
      "fig.subplots_adjust(hspace = 0.1)\n",
      "plt.setp([a.get_xticklabels() for a in fig.axes[:-1]], visible=False)"
     ],
     "language": "python",
     "metadata": {},
     "outputs": [
      {
       "output_type": "pyout",
       "prompt_number": 13,
       "text": [
        "[None, None, None, None, None, None, None, None, None, None]"
       ]
      },
      {
       "output_type": "display_data",
       "png": "[encoded data removed]",
       "text": [
        "<matplotlib.figure.Figure at 0x86d72b0>"
       ]
      }
     ],
     "prompt_number": 13
    },
    {
     "cell_type": "code",
     "collapsed": false,
     "input": [
      "fig2 = pyplot.figure(figsize=(16,8))\n",
      "fig2ax1 = fig2.add_subplot(111)\n",
      "fig2ax1.set_ylabel(r'Differential Flux [cm$^{-2}$ s$^{-1}$ GeV$^{-1}$]')\n",
      "fig2ax1.set_xlabel('Energy [GeV]')\n",
      "l1 = fig2ax1.loglog(GRB080916C.myVOT['7'].VS.EBins, GRB080916C.myVOT['7'].VS.dNdE, 'b')\n",
      "l2 = fig2ax1.loglog(GRB080916C.myVOT_PIP['7'].VS.EBins, GRB080916C.myVOT_PIP['7'].VS.dNdE, 'g')\n",
      "l3 = fig2ax1.loglog(GRB080916C.myVOT_PIM['7'].VS.EBins, GRB080916C.myVOT_PIM['7'].VS.dNdE, 'r')\n",
      "\n",
      "\n",
      "fig2ax2 = fig2ax1.twinx()\n",
      "l0 = fig2ax2.loglog((10**GRB080916C.myVOT['7'].VR.EACurve[0:,0])[::2],(GRB080916C.myVOT['7'].VR.EACurve[0:,1])[::2],'ko')\n",
      "fig2ax2.set_ylabel(r'Effective Area [cm$^2$]')\n",
      "fig2ax2.axvline(10**GRB080916C.myVOT['7'].VR.EASummary['minSafeE'],color='k')\n",
      "fig2ax2.axvline(10**GRB080916C.myVOT['7'].VR.EASummary['maxSafeE'],color='k')\n",
      "fig2.legend([l1[0], l2[0], l3[0], l0[0]], ['Nominal value','Positive photon index error','Negative photon index error', 'EA'], 1, fontsize = '20')\n",
      "pyplot.show()"
     ],
     "language": "python",
     "metadata": {},
     "outputs": [
      {
       "output_type": "display_data",
       "png": "[encoded data removed]",
       "text": [
        "<matplotlib.figure.Figure at 0x86f15c0>"
       ]
      }
     ],
     "prompt_number": 14
    },
    {
     "cell_type": "code",
     "collapsed": false,
     "input": [
      "time_bin = range(0,7,1)\n",
      "print time_bin"
     ],
     "language": "python",
     "metadata": {},
     "outputs": [
      {
       "output_type": "stream",
       "stream": "stdout",
       "text": [
        "[0, 1, 2, 3, 4, 5, 6]\n"
       ]
      }
     ],
     "prompt_number": 3
    },
    {
     "cell_type": "code",
     "collapsed": false,
     "input": [
      "myVOT = {}\n",
      "for tb in time_bin:\n",
      "    myVOT['{}'.format(tb)] =  tb + 5"
     ],
     "language": "python",
     "metadata": {},
     "outputs": [],
     "prompt_number": 6
    },
    {
     "cell_type": "code",
     "collapsed": false,
     "input": [
      "print myVOT"
     ],
     "language": "python",
     "metadata": {},
     "outputs": [
      {
       "output_type": "stream",
       "stream": "stdout",
       "text": [
        "{'1': 6, '0': 5, '3': 8, '2': 7, '5': 10, '4': 9, '6': 11}\n"
       ]
      }
     ],
     "prompt_number": 11
    },
    {
     "cell_type": "code",
     "collapsed": false,
     "input": [
      "instrument = 'VERITAS'"
     ],
     "language": "python",
     "metadata": {},
     "outputs": [],
     "prompt_number": 4
    },
    {
     "cell_type": "code",
     "collapsed": false,
     "input": [
      "\n",
      "ZA = {}\n",
      "# In order to prevent running the darn thing over and over again I'm trying to loop in all the zenith angles\n",
      "VERITAS_Zenith_Angle = {0, 20, 30, 35, 40, 45, 50, 55, 60 ,65}\n",
      "HESS_Zenith_Angle = {20, 45, 60}\n",
      "HAWC_Zenith_Angle = {}\n",
      "CTA_Zenith_Angle = {}\n",
      "instruments_ZA = {'VERITAS': VERITAS_Zenith_Angle, 'HESS':  HESS_Zenith_Angle, 'HAWC':HAWC_Zenith_Angle, 'CTA': CTA_Zenith_Angle}\n",
      "\t \t"
     ],
     "language": "python",
     "metadata": {},
     "outputs": [],
     "prompt_number": 5
    },
    {
     "cell_type": "code",
     "collapsed": false,
     "input": [
      "list(instruments_ZA[instrument])"
     ],
     "language": "python",
     "metadata": {},
     "outputs": [
      {
       "output_type": "pyout",
       "prompt_number": 7,
       "text": [
        "[0, 65, 35, 40, 45, 50, 20, 55, 60, 30]"
       ]
      }
     ],
     "prompt_number": 7
    },
    {
     "cell_type": "code",
     "collapsed": false,
     "input": [
      "\n",
      "for za in instruments_ZA[instrument]:\n",
      "    ZA['{}'.format(za)] = za\n",
      "    print ZA[str(za)]"
     ],
     "language": "python",
     "metadata": {},
     "outputs": [
      {
       "output_type": "stream",
       "stream": "stdout",
       "text": [
        "0\n",
        "65\n",
        "35\n",
        "40\n",
        "45\n",
        "50\n",
        "20\n",
        "55\n",
        "60\n",
        "30\n"
       ]
      }
     ],
     "prompt_number": 7
    },
    {
     "cell_type": "code",
     "collapsed": false,
     "input": [
      "print myVOT['0']    "
     ],
     "language": "python",
     "metadata": {},
     "outputs": [
      {
       "output_type": "stream",
       "stream": "stdout",
       "text": [
        "0\n"
       ]
      }
     ],
     "prompt_number": 37
    },
    {
     "cell_type": "code",
     "collapsed": false,
     "input": [
      "print ZA['0']"
     ],
     "language": "python",
     "metadata": {},
     "outputs": [
      {
       "output_type": "stream",
       "stream": "stdout",
       "text": [
        "0\n"
       ]
      }
     ],
     "prompt_number": 8
    },
    {
     "cell_type": "code",
     "collapsed": false,
     "input": [
      "GRB080916C.error(timebin = 1)"
     ],
     "language": "python",
     "metadata": {},
     "outputs": [],
     "prompt_number": 7
    },
    {
     "cell_type": "code",
     "collapsed": false,
     "input": [
      "print GRB080916C.pm_error"
     ],
     "language": "python",
     "metadata": {},
     "outputs": [
      {
       "output_type": "stream",
       "stream": "stdout",
       "text": [
        "66.6589978787\n"
       ]
      }
     ],
     "prompt_number": 16
    },
    {
     "cell_type": "code",
     "collapsed": false,
     "input": [],
     "language": "python",
     "metadata": {},
     "outputs": []
    }
   ],
   "metadata": {}
  }
 ]
}