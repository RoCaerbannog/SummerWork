{
 "metadata": {
  "name": "LAT light curve"
 },
 "nbformat": 3,
 "nbformat_minor": 0,
 "worksheets": [
  {
   "cells": [
    {
     "cell_type": "code",
     "collapsed": false,
     "input": [
      "%pylab inline"
     ],
     "language": "python",
     "metadata": {},
     "outputs": [
      {
       "output_type": "stream",
       "stream": "stdout",
       "text": [
        "\n",
        "Welcome to pylab, a matplotlib-based Python environment [backend: module://IPython.kernel.zmq.pylab.backend_inline].\n",
        "For more information, type 'help(pylab)'.\n"
       ]
      }
     ],
     "prompt_number": 1
    },
    {
     "cell_type": "code",
     "collapsed": false,
     "input": [
      "from LC_lat import *"
     ],
     "language": "python",
     "metadata": {},
     "outputs": [],
     "prompt_number": 2
    },
    {
     "cell_type": "code",
     "collapsed": false,
     "input": [
      "GRB = take_data('130427A', redshift = 0.34, eblModel = 'Dominguez', instrument = 'VERITAS', zenith = 0)"
     ],
     "language": "python",
     "metadata": {},
     "outputs": [
      {
       "output_type": "stream",
       "stream": "stderr",
       "text": [
        "WARNING - Spectrum starts below minimum energy in EBL table.\n"
       ]
      },
      {
       "output_type": "stream",
       "stream": "stderr",
       "text": [
        "WARNING - Spectrum continues beyond maximum energy in EBL table.\n"
       ]
      },
      {
       "output_type": "stream",
       "stream": "stderr",
       "text": [
        "WARNING - Using 659.0 counts/hr as the rate from the Crab Nebula.\n"
       ]
      },
      {
       "output_type": "stream",
       "stream": "stderr",
       "text": [
        "WARNING - Time to detection assumes a Crab Nebula Spectrum.\n"
       ]
      },
      {
       "output_type": "stream",
       "stream": "stderr",
       "text": [
        "INFO - Using Effective_Areas/VERITAS/ea_Nov2010_na_ATM21_vegasv240rc1_7sam_050off_soft-1.summary.csv\n"
       ]
      },
      {
       "output_type": "stream",
       "stream": "stderr",
       "text": [
        "INFO - Using EffectiveArea_Azimuth_0_Zenith_0_Noise_4.07\n"
       ]
      },
      {
       "output_type": "stream",
       "stream": "stderr",
       "text": [
        "INFO - Safe energy range: 125.89 to 19,952.62 GeV\n"
       ]
      },
      {
       "output_type": "stream",
       "stream": "stderr",
       "text": [
        "INFO - dNdE at 1 GeV: 6.37e-05 s^-1 cm^-2 GeV^-1\n"
       ]
      },
      {
       "output_type": "stream",
       "stream": "stderr",
       "text": [
        "INFO - dNdE at 400 GeV: 1.03e-11 s^-1 cm^-2 GeV^-1\n"
       ]
      },
      {
       "output_type": "stream",
       "stream": "stderr",
       "text": [
        "INFO - dNdE at 1 TeV: 9.42e-13 s^-1 cm^-2 GeV^-1\n"
       ]
      },
      {
       "output_type": "stream",
       "stream": "stderr",
       "text": [
        "INFO - tau at min safe E: 0.18\n"
       ]
      },
      {
       "output_type": "stream",
       "stream": "stderr",
       "text": [
        "INFO - tau at max safe E: 95.82\n"
       ]
      },
      {
       "output_type": "stream",
       "stream": "stderr",
       "text": [
        "INFO - Predicted counts/hour: 1.25e+04\n"
       ]
      },
      {
       "output_type": "stream",
       "stream": "stderr",
       "text": [
        "INFO - This is approximately 1,899.2316% of the Crab Nebula's Flux\n"
       ]
      },
      {
       "output_type": "stream",
       "stream": "stderr",
       "text": [
        "INFO - This will take approximately 0.0107 hours to detect at a 5 sigma level\n"
       ]
      },
      {
       "output_type": "stream",
       "stream": "stderr",
       "text": [
        "WARNING - Spectrum starts below minimum energy in EBL table.\n"
       ]
      },
      {
       "output_type": "stream",
       "stream": "stderr",
       "text": [
        "WARNING - Spectrum continues beyond maximum energy in EBL table.\n"
       ]
      },
      {
       "output_type": "stream",
       "stream": "stderr",
       "text": [
        "WARNING - Using 659.0 counts/hr as the rate from the Crab Nebula.\n"
       ]
      },
      {
       "output_type": "stream",
       "stream": "stderr",
       "text": [
        "WARNING - Time to detection assumes a Crab Nebula Spectrum.\n"
       ]
      },
      {
       "output_type": "stream",
       "stream": "stderr",
       "text": [
        "INFO - Using Effective_Areas/VERITAS/ea_Nov2010_na_ATM21_vegasv240rc1_7sam_050off_soft-1.summary.csv\n"
       ]
      },
      {
       "output_type": "stream",
       "stream": "stderr",
       "text": [
        "INFO - Using EffectiveArea_Azimuth_0_Zenith_0_Noise_4.07\n"
       ]
      },
      {
       "output_type": "stream",
       "stream": "stderr",
       "text": [
        "INFO - Safe energy range: 125.89 to 19,952.62 GeV\n"
       ]
      },
      {
       "output_type": "stream",
       "stream": "stderr",
       "text": [
        "INFO - dNdE at 1 GeV: 4.03e-04 s^-1 cm^-2 GeV^-1\n"
       ]
      },
      {
       "output_type": "stream",
       "stream": "stderr",
       "text": [
        "INFO - dNdE at 400 GeV: 3.28e-10 s^-1 cm^-2 GeV^-1\n"
       ]
      },
      {
       "output_type": "stream",
       "stream": "stderr",
       "text": [
        "INFO - dNdE at 1 TeV: 3.84e-11 s^-1 cm^-2 GeV^-1\n"
       ]
      },
      {
       "output_type": "stream",
       "stream": "stderr",
       "text": [
        "INFO - tau at min safe E: 0.18\n"
       ]
      },
      {
       "output_type": "stream",
       "stream": "stderr",
       "text": [
        "INFO - tau at max safe E: 95.82\n"
       ]
      },
      {
       "output_type": "stream",
       "stream": "stderr",
       "text": [
        "INFO - Predicted counts/hour: 3.28e+05\n"
       ]
      },
      {
       "output_type": "stream",
       "stream": "stderr",
       "text": [
        "INFO - This is approximately 49,805.8315% of the Crab Nebula's Flux\n"
       ]
      },
      {
       "output_type": "stream",
       "stream": "stderr",
       "text": [
        "INFO - This will take approximately 0.0107 hours to detect at a 5 sigma level\n"
       ]
      },
      {
       "output_type": "stream",
       "stream": "stderr",
       "text": [
        "WARNING - Spectrum starts below minimum energy in EBL table.\n"
       ]
      },
      {
       "output_type": "stream",
       "stream": "stderr",
       "text": [
        "WARNING - Spectrum continues beyond maximum energy in EBL table.\n"
       ]
      },
      {
       "output_type": "stream",
       "stream": "stderr",
       "text": [
        "WARNING - Using 659.0 counts/hr as the rate from the Crab Nebula.\n"
       ]
      },
      {
       "output_type": "stream",
       "stream": "stderr",
       "text": [
        "WARNING - Time to detection assumes a Crab Nebula Spectrum.\n"
       ]
      },
      {
       "output_type": "stream",
       "stream": "stderr",
       "text": [
        "INFO - Using Effective_Areas/VERITAS/ea_Nov2010_na_ATM21_vegasv240rc1_7sam_050off_soft-1.summary.csv\n"
       ]
      },
      {
       "output_type": "stream",
       "stream": "stderr",
       "text": [
        "INFO - Using EffectiveArea_Azimuth_0_Zenith_0_Noise_4.07\n"
       ]
      },
      {
       "output_type": "stream",
       "stream": "stderr",
       "text": [
        "INFO - Safe energy range: 125.89 to 19,952.62 GeV\n"
       ]
      },
      {
       "output_type": "stream",
       "stream": "stderr",
       "text": [
        "INFO - dNdE at 1 GeV: 1.29e-03 s^-1 cm^-2 GeV^-1\n"
       ]
      },
      {
       "output_type": "stream",
       "stream": "stderr",
       "text": [
        "INFO - dNdE at 400 GeV: 1.70e-09 s^-1 cm^-2 GeV^-1\n"
       ]
      },
      {
       "output_type": "stream",
       "stream": "stderr",
       "text": [
        "INFO - dNdE at 1 TeV: 2.14e-10 s^-1 cm^-2 GeV^-1\n"
       ]
      },
      {
       "output_type": "stream",
       "stream": "stderr",
       "text": [
        "INFO - tau at min safe E: 0.18\n"
       ]
      },
      {
       "output_type": "stream",
       "stream": "stderr",
       "text": [
        "INFO - tau at max safe E: 95.82\n"
       ]
      },
      {
       "output_type": "stream",
       "stream": "stderr",
       "text": [
        "INFO - Predicted counts/hour: 1.61e+06\n"
       ]
      },
      {
       "output_type": "stream",
       "stream": "stderr",
       "text": [
        "INFO - This is approximately 244,070.6936% of the Crab Nebula's Flux\n"
       ]
      },
      {
       "output_type": "stream",
       "stream": "stderr",
       "text": [
        "INFO - This will take approximately 0.0107 hours to detect at a 5 sigma level\n"
       ]
      },
      {
       "output_type": "stream",
       "stream": "stderr",
       "text": [
        "WARNING - Spectrum starts below minimum energy in EBL table.\n"
       ]
      },
      {
       "output_type": "stream",
       "stream": "stderr",
       "text": [
        "WARNING - Spectrum continues beyond maximum energy in EBL table.\n"
       ]
      },
      {
       "output_type": "stream",
       "stream": "stderr",
       "text": [
        "WARNING - Using 659.0 counts/hr as the rate from the Crab Nebula.\n"
       ]
      },
      {
       "output_type": "stream",
       "stream": "stderr",
       "text": [
        "WARNING - Time to detection assumes a Crab Nebula Spectrum.\n"
       ]
      },
      {
       "output_type": "stream",
       "stream": "stderr",
       "text": [
        "INFO - Using Effective_Areas/VERITAS/ea_Nov2010_na_ATM21_vegasv240rc1_7sam_050off_soft-1.summary.csv\n"
       ]
      },
      {
       "output_type": "stream",
       "stream": "stderr",
       "text": [
        "INFO - Using EffectiveArea_Azimuth_0_Zenith_0_Noise_4.07\n"
       ]
      },
      {
       "output_type": "stream",
       "stream": "stderr",
       "text": [
        "INFO - Safe energy range: 125.89 to 19,952.62 GeV\n"
       ]
      },
      {
       "output_type": "stream",
       "stream": "stderr",
       "text": [
        "INFO - dNdE at 1 GeV: 2.20e-03 s^-1 cm^-2 GeV^-1\n"
       ]
      },
      {
       "output_type": "stream",
       "stream": "stderr",
       "text": [
        "INFO - dNdE at 400 GeV: 5.13e-08 s^-1 cm^-2 GeV^-1\n"
       ]
      },
      {
       "output_type": "stream",
       "stream": "stderr",
       "text": [
        "INFO - dNdE at 1 TeV: 1.00e-08 s^-1 cm^-2 GeV^-1\n"
       ]
      },
      {
       "output_type": "stream",
       "stream": "stderr",
       "text": [
        "INFO - tau at min safe E: 0.18\n"
       ]
      },
      {
       "output_type": "stream",
       "stream": "stderr",
       "text": [
        "INFO - tau at max safe E: 95.82\n"
       ]
      },
      {
       "output_type": "stream",
       "stream": "stderr",
       "text": [
        "INFO - Predicted counts/hour: 3.54e+07\n"
       ]
      },
      {
       "output_type": "stream",
       "stream": "stderr",
       "text": [
        "INFO - This is approximately 5,366,898.8558% of the Crab Nebula's Flux\n"
       ]
      },
      {
       "output_type": "stream",
       "stream": "stderr",
       "text": [
        "INFO - This will take approximately 0.0107 hours to detect at a 5 sigma level\n"
       ]
      },
      {
       "output_type": "stream",
       "stream": "stderr",
       "text": [
        "WARNING - Spectrum starts below minimum energy in EBL table.\n"
       ]
      },
      {
       "output_type": "stream",
       "stream": "stderr",
       "text": [
        "WARNING - Spectrum continues beyond maximum energy in EBL table.\n"
       ]
      },
      {
       "output_type": "stream",
       "stream": "stderr",
       "text": [
        "WARNING - Using 659.0 counts/hr as the rate from the Crab Nebula.\n"
       ]
      },
      {
       "output_type": "stream",
       "stream": "stderr",
       "text": [
        "WARNING - Time to detection assumes a Crab Nebula Spectrum.\n"
       ]
      },
      {
       "output_type": "stream",
       "stream": "stderr",
       "text": [
        "INFO - Using Effective_Areas/VERITAS/ea_Nov2010_na_ATM21_vegasv240rc1_7sam_050off_soft-1.summary.csv\n"
       ]
      },
      {
       "output_type": "stream",
       "stream": "stderr",
       "text": [
        "INFO - Using EffectiveArea_Azimuth_0_Zenith_0_Noise_4.07\n"
       ]
      },
      {
       "output_type": "stream",
       "stream": "stderr",
       "text": [
        "INFO - Safe energy range: 125.89 to 19,952.62 GeV\n"
       ]
      },
      {
       "output_type": "stream",
       "stream": "stderr",
       "text": [
        "INFO - dNdE at 1 GeV: 3.07e-03 s^-1 cm^-2 GeV^-1\n"
       ]
      },
      {
       "output_type": "stream",
       "stream": "stderr",
       "text": [
        "INFO - dNdE at 400 GeV: 8.58e-08 s^-1 cm^-2 GeV^-1\n"
       ]
      },
      {
       "output_type": "stream",
       "stream": "stderr",
       "text": [
        "INFO - dNdE at 1 TeV: 1.73e-08 s^-1 cm^-2 GeV^-1\n"
       ]
      },
      {
       "output_type": "stream",
       "stream": "stderr",
       "text": [
        "INFO - tau at min safe E: 0.18\n"
       ]
      },
      {
       "output_type": "stream",
       "stream": "stderr",
       "text": [
        "INFO - tau at max safe E: 95.82\n"
       ]
      },
      {
       "output_type": "stream",
       "stream": "stderr",
       "text": [
        "INFO - Predicted counts/hour: 5.81e+07\n"
       ]
      },
      {
       "output_type": "stream",
       "stream": "stderr",
       "text": [
        "INFO - This is approximately 8,813,922.6583% of the Crab Nebula's Flux\n"
       ]
      },
      {
       "output_type": "stream",
       "stream": "stderr",
       "text": [
        "INFO - This will take approximately 0.0107 hours to detect at a 5 sigma level\n"
       ]
      },
      {
       "output_type": "stream",
       "stream": "stderr",
       "text": [
        "WARNING - Spectrum starts below minimum energy in EBL table.\n"
       ]
      },
      {
       "output_type": "stream",
       "stream": "stderr",
       "text": [
        "WARNING - Spectrum continues beyond maximum energy in EBL table.\n"
       ]
      },
      {
       "output_type": "stream",
       "stream": "stderr",
       "text": [
        "WARNING - Using 659.0 counts/hr as the rate from the Crab Nebula.\n"
       ]
      },
      {
       "output_type": "stream",
       "stream": "stderr",
       "text": [
        "WARNING - Time to detection assumes a Crab Nebula Spectrum.\n"
       ]
      },
      {
       "output_type": "stream",
       "stream": "stderr",
       "text": [
        "INFO - Using Effective_Areas/VERITAS/ea_Nov2010_na_ATM21_vegasv240rc1_7sam_050off_soft-1.summary.csv\n"
       ]
      },
      {
       "output_type": "stream",
       "stream": "stderr",
       "text": [
        "INFO - Using EffectiveArea_Azimuth_0_Zenith_0_Noise_4.07\n"
       ]
      },
      {
       "output_type": "stream",
       "stream": "stderr",
       "text": [
        "INFO - Safe energy range: 125.89 to 19,952.62 GeV\n"
       ]
      },
      {
       "output_type": "stream",
       "stream": "stderr",
       "text": [
        "INFO - dNdE at 1 GeV: 5.08e-04 s^-1 cm^-2 GeV^-1\n"
       ]
      },
      {
       "output_type": "stream",
       "stream": "stderr",
       "text": [
        "INFO - dNdE at 400 GeV: 1.08e-09 s^-1 cm^-2 GeV^-1\n"
       ]
      },
      {
       "output_type": "stream",
       "stream": "stderr",
       "text": [
        "INFO - dNdE at 1 TeV: 1.47e-10 s^-1 cm^-2 GeV^-1\n"
       ]
      },
      {
       "output_type": "stream",
       "stream": "stderr",
       "text": [
        "INFO - tau at min safe E: 0.18\n"
       ]
      },
      {
       "output_type": "stream",
       "stream": "stderr",
       "text": [
        "INFO - tau at max safe E: 95.82\n"
       ]
      },
      {
       "output_type": "stream",
       "stream": "stderr",
       "text": [
        "INFO - Predicted counts/hour: 9.67e+05\n"
       ]
      },
      {
       "output_type": "stream",
       "stream": "stderr",
       "text": [
        "INFO - This is approximately 146,683.4063% of the Crab Nebula's Flux\n"
       ]
      },
      {
       "output_type": "stream",
       "stream": "stderr",
       "text": [
        "INFO - This will take approximately 0.0107 hours to detect at a 5 sigma level\n"
       ]
      },
      {
       "output_type": "stream",
       "stream": "stderr",
       "text": [
        "WARNING - Spectrum starts below minimum energy in EBL table.\n"
       ]
      },
      {
       "output_type": "stream",
       "stream": "stderr",
       "text": [
        "WARNING - Spectrum continues beyond maximum energy in EBL table.\n"
       ]
      },
      {
       "output_type": "stream",
       "stream": "stderr",
       "text": [
        "WARNING - Using 659.0 counts/hr as the rate from the Crab Nebula.\n"
       ]
      },
      {
       "output_type": "stream",
       "stream": "stderr",
       "text": [
        "WARNING - Time to detection assumes a Crab Nebula Spectrum.\n"
       ]
      },
      {
       "output_type": "stream",
       "stream": "stderr",
       "text": [
        "INFO - Using Effective_Areas/VERITAS/ea_Nov2010_na_ATM21_vegasv240rc1_7sam_050off_soft-1.summary.csv\n"
       ]
      },
      {
       "output_type": "stream",
       "stream": "stderr",
       "text": [
        "INFO - Using EffectiveArea_Azimuth_0_Zenith_0_Noise_4.07\n"
       ]
      },
      {
       "output_type": "stream",
       "stream": "stderr",
       "text": [
        "INFO - Safe energy range: 125.89 to 19,952.62 GeV\n"
       ]
      },
      {
       "output_type": "stream",
       "stream": "stderr",
       "text": [
        "INFO - dNdE at 1 GeV: 5.34e-04 s^-1 cm^-2 GeV^-1\n"
       ]
      },
      {
       "output_type": "stream",
       "stream": "stderr",
       "text": [
        "INFO - dNdE at 400 GeV: 2.33e-09 s^-1 cm^-2 GeV^-1\n"
       ]
      },
      {
       "output_type": "stream",
       "stream": "stderr",
       "text": [
        "INFO - dNdE at 1 TeV: 3.53e-10 s^-1 cm^-2 GeV^-1\n"
       ]
      },
      {
       "output_type": "stream",
       "stream": "stderr",
       "text": [
        "INFO - tau at min safe E: 0.18\n"
       ]
      },
      {
       "output_type": "stream",
       "stream": "stderr",
       "text": [
        "INFO - tau at max safe E: 95.82\n"
       ]
      },
      {
       "output_type": "stream",
       "stream": "stderr",
       "text": [
        "INFO - Predicted counts/hour: 1.92e+06\n"
       ]
      },
      {
       "output_type": "stream",
       "stream": "stderr",
       "text": [
        "INFO - This is approximately 291,948.2309% of the Crab Nebula's Flux\n"
       ]
      },
      {
       "output_type": "stream",
       "stream": "stderr",
       "text": [
        "INFO - This will take approximately 0.0107 hours to detect at a 5 sigma level\n"
       ]
      },
      {
       "output_type": "stream",
       "stream": "stderr",
       "text": [
        "WARNING - Spectrum starts below minimum energy in EBL table.\n"
       ]
      },
      {
       "output_type": "stream",
       "stream": "stderr",
       "text": [
        "WARNING - Spectrum continues beyond maximum energy in EBL table.\n"
       ]
      },
      {
       "output_type": "stream",
       "stream": "stderr",
       "text": [
        "WARNING - Using 659.0 counts/hr as the rate from the Crab Nebula.\n"
       ]
      },
      {
       "output_type": "stream",
       "stream": "stderr",
       "text": [
        "WARNING - Time to detection assumes a Crab Nebula Spectrum.\n"
       ]
      },
      {
       "output_type": "stream",
       "stream": "stderr",
       "text": [
        "INFO - Using Effective_Areas/VERITAS/ea_Nov2010_na_ATM21_vegasv240rc1_7sam_050off_soft-1.summary.csv\n"
       ]
      },
      {
       "output_type": "stream",
       "stream": "stderr",
       "text": [
        "INFO - Using EffectiveArea_Azimuth_0_Zenith_0_Noise_4.07\n"
       ]
      },
      {
       "output_type": "stream",
       "stream": "stderr",
       "text": [
        "INFO - Safe energy range: 125.89 to 19,952.62 GeV\n"
       ]
      },
      {
       "output_type": "stream",
       "stream": "stderr",
       "text": [
        "INFO - dNdE at 1 GeV: 5.15e-04 s^-1 cm^-2 GeV^-1\n"
       ]
      },
      {
       "output_type": "stream",
       "stream": "stderr",
       "text": [
        "INFO - dNdE at 400 GeV: 8.39e-09 s^-1 cm^-2 GeV^-1\n"
       ]
      },
      {
       "output_type": "stream",
       "stream": "stderr",
       "text": [
        "INFO - dNdE at 1 TeV: 1.56e-09 s^-1 cm^-2 GeV^-1\n"
       ]
      },
      {
       "output_type": "stream",
       "stream": "stderr",
       "text": [
        "INFO - tau at min safe E: 0.18\n"
       ]
      },
      {
       "output_type": "stream",
       "stream": "stderr",
       "text": [
        "INFO - tau at max safe E: 95.82\n"
       ]
      },
      {
       "output_type": "stream",
       "stream": "stderr",
       "text": [
        "INFO - Predicted counts/hour: 6.01e+06\n"
       ]
      },
      {
       "output_type": "stream",
       "stream": "stderr",
       "text": [
        "INFO - This is approximately 911,580.2093% of the Crab Nebula's Flux\n"
       ]
      },
      {
       "output_type": "stream",
       "stream": "stderr",
       "text": [
        "INFO - This will take approximately 0.0107 hours to detect at a 5 sigma level\n"
       ]
      },
      {
       "output_type": "stream",
       "stream": "stderr",
       "text": [
        "WARNING - Spectrum starts below minimum energy in EBL table.\n"
       ]
      },
      {
       "output_type": "stream",
       "stream": "stderr",
       "text": [
        "WARNING - Spectrum continues beyond maximum energy in EBL table.\n"
       ]
      },
      {
       "output_type": "stream",
       "stream": "stderr",
       "text": [
        "WARNING - Using 659.0 counts/hr as the rate from the Crab Nebula.\n"
       ]
      },
      {
       "output_type": "stream",
       "stream": "stderr",
       "text": [
        "WARNING - Time to detection assumes a Crab Nebula Spectrum.\n"
       ]
      },
      {
       "output_type": "stream",
       "stream": "stderr",
       "text": [
        "INFO - Using Effective_Areas/VERITAS/ea_Nov2010_na_ATM21_vegasv240rc1_7sam_050off_soft-1.summary.csv\n"
       ]
      },
      {
       "output_type": "stream",
       "stream": "stderr",
       "text": [
        "INFO - Using EffectiveArea_Azimuth_0_Zenith_0_Noise_4.07\n"
       ]
      },
      {
       "output_type": "stream",
       "stream": "stderr",
       "text": [
        "INFO - Safe energy range: 125.89 to 19,952.62 GeV\n"
       ]
      },
      {
       "output_type": "stream",
       "stream": "stderr",
       "text": [
        "INFO - dNdE at 1 GeV: 2.10e-04 s^-1 cm^-2 GeV^-1\n"
       ]
      },
      {
       "output_type": "stream",
       "stream": "stderr",
       "text": [
        "INFO - dNdE at 400 GeV: 1.48e-09 s^-1 cm^-2 GeV^-1\n"
       ]
      },
      {
       "output_type": "stream",
       "stream": "stderr",
       "text": [
        "INFO - dNdE at 1 TeV: 2.41e-10 s^-1 cm^-2 GeV^-1\n"
       ]
      },
      {
       "output_type": "stream",
       "stream": "stderr",
       "text": [
        "INFO - tau at min safe E: 0.18\n"
       ]
      },
      {
       "output_type": "stream",
       "stream": "stderr",
       "text": [
        "INFO - tau at max safe E: 95.82\n"
       ]
      },
      {
       "output_type": "stream",
       "stream": "stderr",
       "text": [
        "INFO - Predicted counts/hour: 1.16e+06\n"
       ]
      },
      {
       "output_type": "stream",
       "stream": "stderr",
       "text": [
        "INFO - This is approximately 175,556.9845% of the Crab Nebula's Flux\n"
       ]
      },
      {
       "output_type": "stream",
       "stream": "stderr",
       "text": [
        "INFO - This will take approximately 0.0107 hours to detect at a 5 sigma level\n"
       ]
      },
      {
       "output_type": "stream",
       "stream": "stderr",
       "text": [
        "WARNING - Spectrum starts below minimum energy in EBL table.\n"
       ]
      },
      {
       "output_type": "stream",
       "stream": "stderr",
       "text": [
        "WARNING - Spectrum continues beyond maximum energy in EBL table.\n"
       ]
      },
      {
       "output_type": "stream",
       "stream": "stderr",
       "text": [
        "WARNING - Using 659.0 counts/hr as the rate from the Crab Nebula.\n"
       ]
      },
      {
       "output_type": "stream",
       "stream": "stderr",
       "text": [
        "WARNING - Time to detection assumes a Crab Nebula Spectrum.\n"
       ]
      },
      {
       "output_type": "stream",
       "stream": "stderr",
       "text": [
        "INFO - Using Effective_Areas/VERITAS/ea_Nov2010_na_ATM21_vegasv240rc1_7sam_050off_soft-1.summary.csv\n"
       ]
      },
      {
       "output_type": "stream",
       "stream": "stderr",
       "text": [
        "INFO - Using EffectiveArea_Azimuth_0_Zenith_0_Noise_4.07\n"
       ]
      },
      {
       "output_type": "stream",
       "stream": "stderr",
       "text": [
        "INFO - Safe energy range: 125.89 to 19,952.62 GeV\n"
       ]
      },
      {
       "output_type": "stream",
       "stream": "stderr",
       "text": [
        "INFO - dNdE at 1 GeV: 1.87e-04 s^-1 cm^-2 GeV^-1\n"
       ]
      },
      {
       "output_type": "stream",
       "stream": "stderr",
       "text": [
        "INFO - dNdE at 400 GeV: 9.74e-10 s^-1 cm^-2 GeV^-1\n"
       ]
      },
      {
       "output_type": "stream",
       "stream": "stderr",
       "text": [
        "INFO - dNdE at 1 TeV: 1.52e-10 s^-1 cm^-2 GeV^-1\n"
       ]
      },
      {
       "output_type": "stream",
       "stream": "stderr",
       "text": [
        "INFO - tau at min safe E: 0.18\n"
       ]
      },
      {
       "output_type": "stream",
       "stream": "stderr",
       "text": [
        "INFO - tau at max safe E: 95.82\n"
       ]
      },
      {
       "output_type": "stream",
       "stream": "stderr",
       "text": [
        "INFO - Predicted counts/hour: 7.89e+05\n"
       ]
      },
      {
       "output_type": "stream",
       "stream": "stderr",
       "text": [
        "INFO - This is approximately 119,651.9781% of the Crab Nebula's Flux\n"
       ]
      },
      {
       "output_type": "stream",
       "stream": "stderr",
       "text": [
        "INFO - This will take approximately 0.0107 hours to detect at a 5 sigma level\n"
       ]
      },
      {
       "output_type": "stream",
       "stream": "stderr",
       "text": [
        "WARNING - Spectrum starts below minimum energy in EBL table.\n"
       ]
      },
      {
       "output_type": "stream",
       "stream": "stderr",
       "text": [
        "WARNING - Spectrum continues beyond maximum energy in EBL table.\n"
       ]
      },
      {
       "output_type": "stream",
       "stream": "stderr",
       "text": [
        "WARNING - Using 659.0 counts/hr as the rate from the Crab Nebula.\n"
       ]
      },
      {
       "output_type": "stream",
       "stream": "stderr",
       "text": [
        "WARNING - Time to detection assumes a Crab Nebula Spectrum.\n"
       ]
      },
      {
       "output_type": "stream",
       "stream": "stderr",
       "text": [
        "INFO - Using Effective_Areas/VERITAS/ea_Nov2010_na_ATM21_vegasv240rc1_7sam_050off_soft-1.summary.csv\n"
       ]
      },
      {
       "output_type": "stream",
       "stream": "stderr",
       "text": [
        "INFO - Using EffectiveArea_Azimuth_0_Zenith_0_Noise_4.07\n"
       ]
      },
      {
       "output_type": "stream",
       "stream": "stderr",
       "text": [
        "INFO - Safe energy range: 125.89 to 19,952.62 GeV\n"
       ]
      },
      {
       "output_type": "stream",
       "stream": "stderr",
       "text": [
        "INFO - dNdE at 1 GeV: 7.24e-05 s^-1 cm^-2 GeV^-1\n"
       ]
      },
      {
       "output_type": "stream",
       "stream": "stderr",
       "text": [
        "INFO - dNdE at 400 GeV: 2.13e-11 s^-1 cm^-2 GeV^-1\n"
       ]
      },
      {
       "output_type": "stream",
       "stream": "stderr",
       "text": [
        "INFO - dNdE at 1 TeV: 2.14e-12 s^-1 cm^-2 GeV^-1\n"
       ]
      },
      {
       "output_type": "stream",
       "stream": "stderr",
       "text": [
        "INFO - tau at min safe E: 0.18\n"
       ]
      },
      {
       "output_type": "stream",
       "stream": "stderr",
       "text": [
        "INFO - tau at max safe E: 95.82\n"
       ]
      },
      {
       "output_type": "stream",
       "stream": "stderr",
       "text": [
        "INFO - Predicted counts/hour: 2.41e+04\n"
       ]
      },
      {
       "output_type": "stream",
       "stream": "stderr",
       "text": [
        "INFO - This is approximately 3,653.9981% of the Crab Nebula's Flux\n"
       ]
      },
      {
       "output_type": "stream",
       "stream": "stderr",
       "text": [
        "INFO - This will take approximately 0.0107 hours to detect at a 5 sigma level\n"
       ]
      },
      {
       "output_type": "stream",
       "stream": "stderr",
       "text": [
        "WARNING - Spectrum starts below minimum energy in EBL table.\n"
       ]
      },
      {
       "output_type": "stream",
       "stream": "stderr",
       "text": [
        "WARNING - Spectrum continues beyond maximum energy in EBL table.\n"
       ]
      },
      {
       "output_type": "stream",
       "stream": "stderr",
       "text": [
        "WARNING - Using 659.0 counts/hr as the rate from the Crab Nebula.\n"
       ]
      },
      {
       "output_type": "stream",
       "stream": "stderr",
       "text": [
        "WARNING - Time to detection assumes a Crab Nebula Spectrum.\n"
       ]
      },
      {
       "output_type": "stream",
       "stream": "stderr",
       "text": [
        "INFO - Using Effective_Areas/VERITAS/ea_Nov2010_na_ATM21_vegasv240rc1_7sam_050off_soft-1.summary.csv\n"
       ]
      },
      {
       "output_type": "stream",
       "stream": "stderr",
       "text": [
        "INFO - Using EffectiveArea_Azimuth_0_Zenith_0_Noise_4.07\n"
       ]
      },
      {
       "output_type": "stream",
       "stream": "stderr",
       "text": [
        "INFO - Safe energy range: 125.89 to 19,952.62 GeV\n"
       ]
      },
      {
       "output_type": "stream",
       "stream": "stderr",
       "text": [
        "INFO - dNdE at 1 GeV: 2.68e-04 s^-1 cm^-2 GeV^-1\n"
       ]
      },
      {
       "output_type": "stream",
       "stream": "stderr",
       "text": [
        "INFO - dNdE at 400 GeV: 5.56e-09 s^-1 cm^-2 GeV^-1\n"
       ]
      },
      {
       "output_type": "stream",
       "stream": "stderr",
       "text": [
        "INFO - dNdE at 1 TeV: 1.07e-09 s^-1 cm^-2 GeV^-1\n"
       ]
      },
      {
       "output_type": "stream",
       "stream": "stderr",
       "text": [
        "INFO - tau at min safe E: 0.18\n"
       ]
      },
      {
       "output_type": "stream",
       "stream": "stderr",
       "text": [
        "INFO - tau at max safe E: 95.82\n"
       ]
      },
      {
       "output_type": "stream",
       "stream": "stderr",
       "text": [
        "INFO - Predicted counts/hour: 3.88e+06\n"
       ]
      },
      {
       "output_type": "stream",
       "stream": "stderr",
       "text": [
        "INFO - This is approximately 588,851.1729% of the Crab Nebula's Flux\n"
       ]
      },
      {
       "output_type": "stream",
       "stream": "stderr",
       "text": [
        "INFO - This will take approximately 0.0107 hours to detect at a 5 sigma level\n"
       ]
      },
      {
       "output_type": "stream",
       "stream": "stderr",
       "text": [
        "WARNING - Spectrum starts below minimum energy in EBL table.\n"
       ]
      },
      {
       "output_type": "stream",
       "stream": "stderr",
       "text": [
        "WARNING - Spectrum continues beyond maximum energy in EBL table.\n"
       ]
      },
      {
       "output_type": "stream",
       "stream": "stderr",
       "text": [
        "WARNING - Using 659.0 counts/hr as the rate from the Crab Nebula.\n"
       ]
      },
      {
       "output_type": "stream",
       "stream": "stderr",
       "text": [
        "WARNING - Time to detection assumes a Crab Nebula Spectrum.\n"
       ]
      },
      {
       "output_type": "stream",
       "stream": "stderr",
       "text": [
        "INFO - Using Effective_Areas/VERITAS/ea_Nov2010_na_ATM21_vegasv240rc1_7sam_050off_soft-1.summary.csv\n"
       ]
      },
      {
       "output_type": "stream",
       "stream": "stderr",
       "text": [
        "INFO - Using EffectiveArea_Azimuth_0_Zenith_0_Noise_4.07\n"
       ]
      },
      {
       "output_type": "stream",
       "stream": "stderr",
       "text": [
        "INFO - Safe energy range: 125.89 to 19,952.62 GeV\n"
       ]
      },
      {
       "output_type": "stream",
       "stream": "stderr",
       "text": [
        "INFO - dNdE at 1 GeV: 1.22e-04 s^-1 cm^-2 GeV^-1\n"
       ]
      },
      {
       "output_type": "stream",
       "stream": "stderr",
       "text": [
        "INFO - dNdE at 400 GeV: 5.99e-10 s^-1 cm^-2 GeV^-1\n"
       ]
      },
      {
       "output_type": "stream",
       "stream": "stderr",
       "text": [
        "INFO - dNdE at 1 TeV: 9.23e-11 s^-1 cm^-2 GeV^-1\n"
       ]
      },
      {
       "output_type": "stream",
       "stream": "stderr",
       "text": [
        "INFO - tau at min safe E: 0.18\n"
       ]
      },
      {
       "output_type": "stream",
       "stream": "stderr",
       "text": [
        "INFO - tau at max safe E: 95.82\n"
       ]
      },
      {
       "output_type": "stream",
       "stream": "stderr",
       "text": [
        "INFO - Predicted counts/hour: 4.88e+05\n"
       ]
      },
      {
       "output_type": "stream",
       "stream": "stderr",
       "text": [
        "INFO - This is approximately 73,983.9841% of the Crab Nebula's Flux\n"
       ]
      },
      {
       "output_type": "stream",
       "stream": "stderr",
       "text": [
        "INFO - This will take approximately 0.0107 hours to detect at a 5 sigma level\n"
       ]
      },
      {
       "output_type": "stream",
       "stream": "stderr",
       "text": [
        "WARNING - Spectrum starts below minimum energy in EBL table.\n"
       ]
      },
      {
       "output_type": "stream",
       "stream": "stderr",
       "text": [
        "WARNING - Spectrum continues beyond maximum energy in EBL table.\n"
       ]
      },
      {
       "output_type": "stream",
       "stream": "stderr",
       "text": [
        "WARNING - Using 659.0 counts/hr as the rate from the Crab Nebula.\n"
       ]
      },
      {
       "output_type": "stream",
       "stream": "stderr",
       "text": [
        "WARNING - Time to detection assumes a Crab Nebula Spectrum.\n"
       ]
      },
      {
       "output_type": "stream",
       "stream": "stderr",
       "text": [
        "INFO - Using Effective_Areas/VERITAS/ea_Nov2010_na_ATM21_vegasv240rc1_7sam_050off_soft-1.summary.csv\n"
       ]
      },
      {
       "output_type": "stream",
       "stream": "stderr",
       "text": [
        "INFO - Using EffectiveArea_Azimuth_0_Zenith_0_Noise_4.07\n"
       ]
      },
      {
       "output_type": "stream",
       "stream": "stderr",
       "text": [
        "INFO - Safe energy range: 125.89 to 19,952.62 GeV\n"
       ]
      },
      {
       "output_type": "stream",
       "stream": "stderr",
       "text": [
        "INFO - dNdE at 1 GeV: 7.24e-05 s^-1 cm^-2 GeV^-1\n"
       ]
      },
      {
       "output_type": "stream",
       "stream": "stderr",
       "text": [
        "INFO - dNdE at 400 GeV: 7.06e-11 s^-1 cm^-2 GeV^-1\n"
       ]
      },
      {
       "output_type": "stream",
       "stream": "stderr",
       "text": [
        "INFO - dNdE at 1 TeV: 8.51e-12 s^-1 cm^-2 GeV^-1\n"
       ]
      },
      {
       "output_type": "stream",
       "stream": "stderr",
       "text": [
        "INFO - tau at min safe E: 0.18\n"
       ]
      },
      {
       "output_type": "stream",
       "stream": "stderr",
       "text": [
        "INFO - tau at max safe E: 95.82\n"
       ]
      },
      {
       "output_type": "stream",
       "stream": "stderr",
       "text": [
        "INFO - Predicted counts/hour: 6.92e+04\n"
       ]
      },
      {
       "output_type": "stream",
       "stream": "stderr",
       "text": [
        "INFO - This is approximately 10,497.0780% of the Crab Nebula's Flux\n"
       ]
      },
      {
       "output_type": "stream",
       "stream": "stderr",
       "text": [
        "INFO - This will take approximately 0.0107 hours to detect at a 5 sigma level\n"
       ]
      },
      {
       "output_type": "stream",
       "stream": "stderr",
       "text": [
        "WARNING - Spectrum starts below minimum energy in EBL table.\n"
       ]
      },
      {
       "output_type": "stream",
       "stream": "stderr",
       "text": [
        "WARNING - Spectrum continues beyond maximum energy in EBL table.\n"
       ]
      },
      {
       "output_type": "stream",
       "stream": "stderr",
       "text": [
        "WARNING - Using 659.0 counts/hr as the rate from the Crab Nebula.\n"
       ]
      },
      {
       "output_type": "stream",
       "stream": "stderr",
       "text": [
        "WARNING - Time to detection assumes a Crab Nebula Spectrum.\n"
       ]
      },
      {
       "output_type": "stream",
       "stream": "stderr",
       "text": [
        "INFO - Using Effective_Areas/VERITAS/ea_Nov2010_na_ATM21_vegasv240rc1_7sam_050off_soft-1.summary.csv\n"
       ]
      },
      {
       "output_type": "stream",
       "stream": "stderr",
       "text": [
        "INFO - Using EffectiveArea_Azimuth_0_Zenith_0_Noise_4.07\n"
       ]
      },
      {
       "output_type": "stream",
       "stream": "stderr",
       "text": [
        "INFO - Safe energy range: 125.89 to 19,952.62 GeV\n"
       ]
      },
      {
       "output_type": "stream",
       "stream": "stderr",
       "text": [
        "INFO - dNdE at 1 GeV: 4.14e-05 s^-1 cm^-2 GeV^-1\n"
       ]
      },
      {
       "output_type": "stream",
       "stream": "stderr",
       "text": [
        "INFO - dNdE at 400 GeV: 3.18e-11 s^-1 cm^-2 GeV^-1\n"
       ]
      },
      {
       "output_type": "stream",
       "stream": "stderr",
       "text": [
        "INFO - dNdE at 1 TeV: 3.69e-12 s^-1 cm^-2 GeV^-1\n"
       ]
      },
      {
       "output_type": "stream",
       "stream": "stderr",
       "text": [
        "INFO - tau at min safe E: 0.18\n"
       ]
      },
      {
       "output_type": "stream",
       "stream": "stderr",
       "text": [
        "INFO - tau at max safe E: 95.82\n"
       ]
      },
      {
       "output_type": "stream",
       "stream": "stderr",
       "text": [
        "INFO - Predicted counts/hour: 3.20e+04\n"
       ]
      },
      {
       "output_type": "stream",
       "stream": "stderr",
       "text": [
        "INFO - This is approximately 4,863.3654% of the Crab Nebula's Flux\n"
       ]
      },
      {
       "output_type": "stream",
       "stream": "stderr",
       "text": [
        "INFO - This will take approximately 0.0107 hours to detect at a 5 sigma level\n"
       ]
      },
      {
       "output_type": "stream",
       "stream": "stderr",
       "text": [
        "WARNING - Spectrum starts below minimum energy in EBL table.\n"
       ]
      },
      {
       "output_type": "stream",
       "stream": "stderr",
       "text": [
        "WARNING - Spectrum continues beyond maximum energy in EBL table.\n"
       ]
      },
      {
       "output_type": "stream",
       "stream": "stderr",
       "text": [
        "WARNING - Using 659.0 counts/hr as the rate from the Crab Nebula.\n"
       ]
      },
      {
       "output_type": "stream",
       "stream": "stderr",
       "text": [
        "WARNING - Time to detection assumes a Crab Nebula Spectrum.\n"
       ]
      },
      {
       "output_type": "stream",
       "stream": "stderr",
       "text": [
        "INFO - Using Effective_Areas/VERITAS/ea_Nov2010_na_ATM21_vegasv240rc1_7sam_050off_soft-1.summary.csv\n"
       ]
      },
      {
       "output_type": "stream",
       "stream": "stderr",
       "text": [
        "INFO - Using EffectiveArea_Azimuth_0_Zenith_0_Noise_4.07\n"
       ]
      },
      {
       "output_type": "stream",
       "stream": "stderr",
       "text": [
        "INFO - Safe energy range: 125.89 to 19,952.62 GeV\n"
       ]
      },
      {
       "output_type": "stream",
       "stream": "stderr",
       "text": [
        "INFO - dNdE at 1 GeV: 4.71e-05 s^-1 cm^-2 GeV^-1\n"
       ]
      },
      {
       "output_type": "stream",
       "stream": "stderr",
       "text": [
        "INFO - dNdE at 400 GeV: 1.94e-10 s^-1 cm^-2 GeV^-1\n"
       ]
      },
      {
       "output_type": "stream",
       "stream": "stderr",
       "text": [
        "INFO - dNdE at 1 TeV: 2.91e-11 s^-1 cm^-2 GeV^-1\n"
       ]
      },
      {
       "output_type": "stream",
       "stream": "stderr",
       "text": [
        "INFO - tau at min safe E: 0.18\n"
       ]
      },
      {
       "output_type": "stream",
       "stream": "stderr",
       "text": [
        "INFO - tau at max safe E: 95.82\n"
       ]
      },
      {
       "output_type": "stream",
       "stream": "stderr",
       "text": [
        "INFO - Predicted counts/hour: 1.61e+05\n"
       ]
      },
      {
       "output_type": "stream",
       "stream": "stderr",
       "text": [
        "INFO - This is approximately 24,414.8206% of the Crab Nebula's Flux\n"
       ]
      },
      {
       "output_type": "stream",
       "stream": "stderr",
       "text": [
        "INFO - This will take approximately 0.0107 hours to detect at a 5 sigma level\n"
       ]
      },
      {
       "output_type": "stream",
       "stream": "stderr",
       "text": [
        "WARNING - Spectrum starts below minimum energy in EBL table.\n"
       ]
      },
      {
       "output_type": "stream",
       "stream": "stderr",
       "text": [
        "WARNING - Spectrum continues beyond maximum energy in EBL table.\n"
       ]
      },
      {
       "output_type": "stream",
       "stream": "stderr",
       "text": [
        "WARNING - Using 659.0 counts/hr as the rate from the Crab Nebula.\n"
       ]
      },
      {
       "output_type": "stream",
       "stream": "stderr",
       "text": [
        "WARNING - Time to detection assumes a Crab Nebula Spectrum.\n"
       ]
      },
      {
       "output_type": "stream",
       "stream": "stderr",
       "text": [
        "INFO - Using Effective_Areas/VERITAS/ea_Nov2010_na_ATM21_vegasv240rc1_7sam_050off_soft-1.summary.csv\n"
       ]
      },
      {
       "output_type": "stream",
       "stream": "stderr",
       "text": [
        "INFO - Using EffectiveArea_Azimuth_0_Zenith_0_Noise_4.07\n"
       ]
      },
      {
       "output_type": "stream",
       "stream": "stderr",
       "text": [
        "INFO - Safe energy range: 125.89 to 19,952.62 GeV\n"
       ]
      },
      {
       "output_type": "stream",
       "stream": "stderr",
       "text": [
        "INFO - dNdE at 1 GeV: 1.81e-05 s^-1 cm^-2 GeV^-1\n"
       ]
      },
      {
       "output_type": "stream",
       "stream": "stderr",
       "text": [
        "INFO - dNdE at 400 GeV: 4.57e-13 s^-1 cm^-2 GeV^-1\n"
       ]
      },
      {
       "output_type": "stream",
       "stream": "stderr",
       "text": [
        "INFO - dNdE at 1 TeV: 3.15e-14 s^-1 cm^-2 GeV^-1\n"
       ]
      },
      {
       "output_type": "stream",
       "stream": "stderr",
       "text": [
        "INFO - tau at min safe E: 0.18\n"
       ]
      },
      {
       "output_type": "stream",
       "stream": "stderr",
       "text": [
        "INFO - tau at max safe E: 95.82\n"
       ]
      },
      {
       "output_type": "stream",
       "stream": "stderr",
       "text": [
        "INFO - Predicted counts/hour: 7.02e+02\n"
       ]
      },
      {
       "output_type": "stream",
       "stream": "stderr",
       "text": [
        "INFO - This is approximately 106.5861% of the Crab Nebula's Flux\n"
       ]
      },
      {
       "output_type": "stream",
       "stream": "stderr",
       "text": [
        "INFO - This will take approximately 0.0317 hours to detect at a 5 sigma level\n"
       ]
      },
      {
       "output_type": "stream",
       "stream": "stderr",
       "text": [
        "WARNING - Spectrum starts below minimum energy in EBL table.\n"
       ]
      },
      {
       "output_type": "stream",
       "stream": "stderr",
       "text": [
        "WARNING - Spectrum continues beyond maximum energy in EBL table.\n"
       ]
      },
      {
       "output_type": "stream",
       "stream": "stderr",
       "text": [
        "WARNING - Using 659.0 counts/hr as the rate from the Crab Nebula.\n"
       ]
      },
      {
       "output_type": "stream",
       "stream": "stderr",
       "text": [
        "WARNING - Time to detection assumes a Crab Nebula Spectrum.\n"
       ]
      },
      {
       "output_type": "stream",
       "stream": "stderr",
       "text": [
        "INFO - Using Effective_Areas/VERITAS/ea_Nov2010_na_ATM21_vegasv240rc1_7sam_050off_soft-1.summary.csv\n"
       ]
      },
      {
       "output_type": "stream",
       "stream": "stderr",
       "text": [
        "INFO - Using EffectiveArea_Azimuth_0_Zenith_0_Noise_4.07\n"
       ]
      },
      {
       "output_type": "stream",
       "stream": "stderr",
       "text": [
        "INFO - Safe energy range: 125.89 to 19,952.62 GeV\n"
       ]
      },
      {
       "output_type": "stream",
       "stream": "stderr",
       "text": [
        "INFO - dNdE at 1 GeV: 4.52e-05 s^-1 cm^-2 GeV^-1\n"
       ]
      },
      {
       "output_type": "stream",
       "stream": "stderr",
       "text": [
        "INFO - dNdE at 400 GeV: 1.08e-10 s^-1 cm^-2 GeV^-1\n"
       ]
      },
      {
       "output_type": "stream",
       "stream": "stderr",
       "text": [
        "INFO - dNdE at 1 TeV: 1.50e-11 s^-1 cm^-2 GeV^-1\n"
       ]
      },
      {
       "output_type": "stream",
       "stream": "stderr",
       "text": [
        "INFO - tau at min safe E: 0.18\n"
       ]
      },
      {
       "output_type": "stream",
       "stream": "stderr",
       "text": [
        "INFO - tau at max safe E: 95.82\n"
       ]
      },
      {
       "output_type": "stream",
       "stream": "stderr",
       "text": [
        "INFO - Predicted counts/hour: 9.56e+04\n"
       ]
      },
      {
       "output_type": "stream",
       "stream": "stderr",
       "text": [
        "INFO - This is approximately 14,508.0868% of the Crab Nebula's Flux\n"
       ]
      },
      {
       "output_type": "stream",
       "stream": "stderr",
       "text": [
        "INFO - This will take approximately 0.0107 hours to detect at a 5 sigma level\n"
       ]
      },
      {
       "output_type": "stream",
       "stream": "stderr",
       "text": [
        "WARNING - Spectrum starts below minimum energy in EBL table.\n"
       ]
      },
      {
       "output_type": "stream",
       "stream": "stderr",
       "text": [
        "WARNING - Spectrum continues beyond maximum energy in EBL table.\n"
       ]
      },
      {
       "output_type": "stream",
       "stream": "stderr",
       "text": [
        "WARNING - Using 659.0 counts/hr as the rate from the Crab Nebula.\n"
       ]
      },
      {
       "output_type": "stream",
       "stream": "stderr",
       "text": [
        "WARNING - Time to detection assumes a Crab Nebula Spectrum.\n"
       ]
      },
      {
       "output_type": "stream",
       "stream": "stderr",
       "text": [
        "INFO - Using Effective_Areas/VERITAS/ea_Nov2010_na_ATM21_vegasv240rc1_7sam_050off_soft-1.summary.csv\n"
       ]
      },
      {
       "output_type": "stream",
       "stream": "stderr",
       "text": [
        "INFO - Using EffectiveArea_Azimuth_0_Zenith_0_Noise_4.07\n"
       ]
      },
      {
       "output_type": "stream",
       "stream": "stderr",
       "text": [
        "INFO - Safe energy range: 125.89 to 19,952.62 GeV\n"
       ]
      },
      {
       "output_type": "stream",
       "stream": "stderr",
       "text": [
        "INFO - dNdE at 1 GeV: 8.49e-06 s^-1 cm^-2 GeV^-1\n"
       ]
      },
      {
       "output_type": "stream",
       "stream": "stderr",
       "text": [
        "INFO - dNdE at 400 GeV: 7.16e-11 s^-1 cm^-2 GeV^-1\n"
       ]
      },
      {
       "output_type": "stream",
       "stream": "stderr",
       "text": [
        "INFO - dNdE at 1 TeV: 1.20e-11 s^-1 cm^-2 GeV^-1\n"
       ]
      },
      {
       "output_type": "stream",
       "stream": "stderr",
       "text": [
        "INFO - tau at min safe E: 0.18\n"
       ]
      },
      {
       "output_type": "stream",
       "stream": "stderr",
       "text": [
        "INFO - tau at max safe E: 95.82\n"
       ]
      },
      {
       "output_type": "stream",
       "stream": "stderr",
       "text": [
        "INFO - Predicted counts/hour: 5.50e+04\n"
       ]
      },
      {
       "output_type": "stream",
       "stream": "stderr",
       "text": [
        "INFO - This is approximately 8,340.6296% of the Crab Nebula's Flux\n"
       ]
      },
      {
       "output_type": "stream",
       "stream": "stderr",
       "text": [
        "INFO - This will take approximately 0.0107 hours to detect at a 5 sigma level\n"
       ]
      },
      {
       "output_type": "stream",
       "stream": "stderr",
       "text": [
        "WARNING - Spectrum starts below minimum energy in EBL table.\n"
       ]
      },
      {
       "output_type": "stream",
       "stream": "stderr",
       "text": [
        "WARNING - Spectrum continues beyond maximum energy in EBL table.\n"
       ]
      },
      {
       "output_type": "stream",
       "stream": "stderr",
       "text": [
        "WARNING - Using 659.0 counts/hr as the rate from the Crab Nebula.\n"
       ]
      },
      {
       "output_type": "stream",
       "stream": "stderr",
       "text": [
        "WARNING - Time to detection assumes a Crab Nebula Spectrum.\n"
       ]
      },
      {
       "output_type": "stream",
       "stream": "stderr",
       "text": [
        "INFO - Using Effective_Areas/VERITAS/ea_Nov2010_na_ATM21_vegasv240rc1_7sam_050off_soft-1.summary.csv\n"
       ]
      },
      {
       "output_type": "stream",
       "stream": "stderr",
       "text": [
        "INFO - Using EffectiveArea_Azimuth_0_Zenith_0_Noise_4.07\n"
       ]
      },
      {
       "output_type": "stream",
       "stream": "stderr",
       "text": [
        "INFO - Safe energy range: 125.89 to 19,952.62 GeV\n"
       ]
      },
      {
       "output_type": "stream",
       "stream": "stderr",
       "text": [
        "INFO - dNdE at 1 GeV: 4.32e-06 s^-1 cm^-2 GeV^-1\n"
       ]
      },
      {
       "output_type": "stream",
       "stream": "stderr",
       "text": [
        "INFO - dNdE at 400 GeV: 6.63e-11 s^-1 cm^-2 GeV^-1\n"
       ]
      },
      {
       "output_type": "stream",
       "stream": "stderr",
       "text": [
        "INFO - dNdE at 1 TeV: 1.22e-11 s^-1 cm^-2 GeV^-1\n"
       ]
      },
      {
       "output_type": "stream",
       "stream": "stderr",
       "text": [
        "INFO - tau at min safe E: 0.18\n"
       ]
      },
      {
       "output_type": "stream",
       "stream": "stderr",
       "text": [
        "INFO - tau at max safe E: 95.82\n"
       ]
      },
      {
       "output_type": "stream",
       "stream": "stderr",
       "text": [
        "INFO - Predicted counts/hour: 4.78e+04\n"
       ]
      },
      {
       "output_type": "stream",
       "stream": "stderr",
       "text": [
        "INFO - This is approximately 7,247.1418% of the Crab Nebula's Flux\n"
       ]
      },
      {
       "output_type": "stream",
       "stream": "stderr",
       "text": [
        "INFO - This will take approximately 0.0107 hours to detect at a 5 sigma level\n"
       ]
      },
      {
       "output_type": "stream",
       "stream": "stderr",
       "text": [
        "WARNING - Spectrum starts below minimum energy in EBL table.\n"
       ]
      },
      {
       "output_type": "stream",
       "stream": "stderr",
       "text": [
        "WARNING - Spectrum continues beyond maximum energy in EBL table.\n"
       ]
      },
      {
       "output_type": "stream",
       "stream": "stderr",
       "text": [
        "WARNING - Using 659.0 counts/hr as the rate from the Crab Nebula.\n"
       ]
      },
      {
       "output_type": "stream",
       "stream": "stderr",
       "text": [
        "WARNING - Time to detection assumes a Crab Nebula Spectrum.\n"
       ]
      },
      {
       "output_type": "stream",
       "stream": "stderr",
       "text": [
        "INFO - Using Effective_Areas/VERITAS/ea_Nov2010_na_ATM21_vegasv240rc1_7sam_050off_soft-1.summary.csv\n"
       ]
      },
      {
       "output_type": "stream",
       "stream": "stderr",
       "text": [
        "INFO - Using EffectiveArea_Azimuth_0_Zenith_0_Noise_4.07\n"
       ]
      },
      {
       "output_type": "stream",
       "stream": "stderr",
       "text": [
        "INFO - Safe energy range: 125.89 to 19,952.62 GeV\n"
       ]
      },
      {
       "output_type": "stream",
       "stream": "stderr",
       "text": [
        "INFO - dNdE at 1 GeV: 2.99e-06 s^-1 cm^-2 GeV^-1\n"
       ]
      },
      {
       "output_type": "stream",
       "stream": "stderr",
       "text": [
        "INFO - dNdE at 400 GeV: 1.38e-11 s^-1 cm^-2 GeV^-1\n"
       ]
      },
      {
       "output_type": "stream",
       "stream": "stderr",
       "text": [
        "INFO - dNdE at 1 TeV: 2.12e-12 s^-1 cm^-2 GeV^-1\n"
       ]
      },
      {
       "output_type": "stream",
       "stream": "stderr",
       "text": [
        "INFO - tau at min safe E: 0.18\n"
       ]
      },
      {
       "output_type": "stream",
       "stream": "stderr",
       "text": [
        "INFO - tau at max safe E: 95.82\n"
       ]
      },
      {
       "output_type": "stream",
       "stream": "stderr",
       "text": [
        "INFO - Predicted counts/hour: 1.14e+04\n"
       ]
      },
      {
       "output_type": "stream",
       "stream": "stderr",
       "text": [
        "INFO - This is approximately 1,723.0574% of the Crab Nebula's Flux\n"
       ]
      },
      {
       "output_type": "stream",
       "stream": "stderr",
       "text": [
        "INFO - This will take approximately 0.0107 hours to detect at a 5 sigma level\n"
       ]
      },
      {
       "output_type": "stream",
       "stream": "stderr",
       "text": [
        "WARNING - Spectrum starts below minimum energy in EBL table.\n"
       ]
      },
      {
       "output_type": "stream",
       "stream": "stderr",
       "text": [
        "WARNING - Spectrum continues beyond maximum energy in EBL table.\n"
       ]
      },
      {
       "output_type": "stream",
       "stream": "stderr",
       "text": [
        "WARNING - Using 659.0 counts/hr as the rate from the Crab Nebula.\n"
       ]
      },
      {
       "output_type": "stream",
       "stream": "stderr",
       "text": [
        "WARNING - Time to detection assumes a Crab Nebula Spectrum.\n"
       ]
      },
      {
       "output_type": "stream",
       "stream": "stderr",
       "text": [
        "INFO - Using Effective_Areas/VERITAS/ea_Nov2010_na_ATM21_vegasv240rc1_7sam_050off_soft-1.summary.csv\n"
       ]
      },
      {
       "output_type": "stream",
       "stream": "stderr",
       "text": [
        "INFO - Using EffectiveArea_Azimuth_0_Zenith_0_Noise_4.07\n"
       ]
      },
      {
       "output_type": "stream",
       "stream": "stderr",
       "text": [
        "INFO - Safe energy range: 125.89 to 19,952.62 GeV\n"
       ]
      },
      {
       "output_type": "stream",
       "stream": "stderr",
       "text": [
        "INFO - dNdE at 1 GeV: 4.56e-07 s^-1 cm^-2 GeV^-1\n"
       ]
      },
      {
       "output_type": "stream",
       "stream": "stderr",
       "text": [
        "INFO - dNdE at 400 GeV: 4.19e-13 s^-1 cm^-2 GeV^-1\n"
       ]
      },
      {
       "output_type": "stream",
       "stream": "stderr",
       "text": [
        "INFO - dNdE at 1 TeV: 5.00e-14 s^-1 cm^-2 GeV^-1\n"
       ]
      },
      {
       "output_type": "stream",
       "stream": "stderr",
       "text": [
        "INFO - tau at min safe E: 0.18\n"
       ]
      },
      {
       "output_type": "stream",
       "stream": "stderr",
       "text": [
        "INFO - tau at max safe E: 95.82\n"
       ]
      },
      {
       "output_type": "stream",
       "stream": "stderr",
       "text": [
        "INFO - Predicted counts/hour: 4.13e+02\n"
       ]
      },
      {
       "output_type": "stream",
       "stream": "stderr",
       "text": [
        "INFO - This is approximately 62.6562% of the Crab Nebula's Flux\n"
       ]
      },
      {
       "output_type": "stream",
       "stream": "stderr",
       "text": [
        "INFO - This will take approximately 0.0545 hours to detect at a 5 sigma level\n"
       ]
      },
      {
       "output_type": "stream",
       "stream": "stderr",
       "text": [
        "WARNING - Spectrum starts below minimum energy in EBL table.\n"
       ]
      },
      {
       "output_type": "stream",
       "stream": "stderr",
       "text": [
        "WARNING - Spectrum continues beyond maximum energy in EBL table.\n"
       ]
      },
      {
       "output_type": "stream",
       "stream": "stderr",
       "text": [
        "WARNING - Using 659.0 counts/hr as the rate from the Crab Nebula.\n"
       ]
      },
      {
       "output_type": "stream",
       "stream": "stderr",
       "text": [
        "WARNING - Time to detection assumes a Crab Nebula Spectrum.\n"
       ]
      },
      {
       "output_type": "stream",
       "stream": "stderr",
       "text": [
        "INFO - Using Effective_Areas/VERITAS/ea_Nov2010_na_ATM21_vegasv240rc1_7sam_050off_soft-1.summary.csv\n"
       ]
      },
      {
       "output_type": "stream",
       "stream": "stderr",
       "text": [
        "INFO - Using EffectiveArea_Azimuth_0_Zenith_0_Noise_4.07\n"
       ]
      },
      {
       "output_type": "stream",
       "stream": "stderr",
       "text": [
        "INFO - Safe energy range: 125.89 to 19,952.62 GeV\n"
       ]
      },
      {
       "output_type": "stream",
       "stream": "stderr",
       "text": [
        "INFO - dNdE at 1 GeV: 2.30e-07 s^-1 cm^-2 GeV^-1\n"
       ]
      },
      {
       "output_type": "stream",
       "stream": "stderr",
       "text": [
        "INFO - dNdE at 400 GeV: 6.05e-12 s^-1 cm^-2 GeV^-1\n"
       ]
      },
      {
       "output_type": "stream",
       "stream": "stderr",
       "text": [
        "INFO - dNdE at 1 TeV: 1.21e-12 s^-1 cm^-2 GeV^-1\n"
       ]
      },
      {
       "output_type": "stream",
       "stream": "stderr",
       "text": [
        "INFO - tau at min safe E: 0.18\n"
       ]
      },
      {
       "output_type": "stream",
       "stream": "stderr",
       "text": [
        "INFO - tau at max safe E: 95.82\n"
       ]
      },
      {
       "output_type": "stream",
       "stream": "stderr",
       "text": [
        "INFO - Predicted counts/hour: 4.12e+03\n"
       ]
      },
      {
       "output_type": "stream",
       "stream": "stderr",
       "text": [
        "INFO - This is approximately 624.7454% of the Crab Nebula's Flux\n"
       ]
      },
      {
       "output_type": "stream",
       "stream": "stderr",
       "text": [
        "INFO - This will take approximately 0.0107 hours to detect at a 5 sigma level\n"
       ]
      },
      {
       "output_type": "stream",
       "stream": "stderr",
       "text": [
        "WARNING - Spectrum starts below minimum energy in EBL table.\n"
       ]
      },
      {
       "output_type": "stream",
       "stream": "stderr",
       "text": [
        "WARNING - Spectrum continues beyond maximum energy in EBL table.\n"
       ]
      },
      {
       "output_type": "stream",
       "stream": "stderr",
       "text": [
        "WARNING - Using 659.0 counts/hr as the rate from the Crab Nebula.\n"
       ]
      },
      {
       "output_type": "stream",
       "stream": "stderr",
       "text": [
        "WARNING - Time to detection assumes a Crab Nebula Spectrum.\n"
       ]
      },
      {
       "output_type": "stream",
       "stream": "stderr",
       "text": [
        "INFO - Using Effective_Areas/VERITAS/ea_Nov2010_na_ATM21_vegasv240rc1_7sam_050off_soft-1.summary.csv\n"
       ]
      },
      {
       "output_type": "stream",
       "stream": "stderr",
       "text": [
        "INFO - Using EffectiveArea_Azimuth_0_Zenith_0_Noise_4.07\n"
       ]
      },
      {
       "output_type": "stream",
       "stream": "stderr",
       "text": [
        "INFO - Safe energy range: 125.89 to 19,952.62 GeV\n"
       ]
      },
      {
       "output_type": "stream",
       "stream": "stderr",
       "text": [
        "INFO - dNdE at 1 GeV: 1.14e-04 s^-1 cm^-2 GeV^-1\n"
       ]
      },
      {
       "output_type": "stream",
       "stream": "stderr",
       "text": [
        "INFO - dNdE at 400 GeV: 1.84e-11 s^-1 cm^-2 GeV^-1\n"
       ]
      },
      {
       "output_type": "stream",
       "stream": "stderr",
       "text": [
        "INFO - dNdE at 1 TeV: 1.68e-12 s^-1 cm^-2 GeV^-1\n"
       ]
      },
      {
       "output_type": "stream",
       "stream": "stderr",
       "text": [
        "INFO - tau at min safe E: 0.18\n"
       ]
      },
      {
       "output_type": "stream",
       "stream": "stderr",
       "text": [
        "INFO - tau at max safe E: 95.82\n"
       ]
      },
      {
       "output_type": "stream",
       "stream": "stderr",
       "text": [
        "INFO - Predicted counts/hour: 2.23e+04\n"
       ]
      },
      {
       "output_type": "stream",
       "stream": "stderr",
       "text": [
        "INFO - This is approximately 3,388.8249% of the Crab Nebula's Flux\n"
       ]
      },
      {
       "output_type": "stream",
       "stream": "stderr",
       "text": [
        "INFO - This will take approximately 0.0107 hours to detect at a 5 sigma level\n"
       ]
      },
      {
       "output_type": "stream",
       "stream": "stderr",
       "text": [
        "WARNING - Spectrum starts below minimum energy in EBL table.\n"
       ]
      },
      {
       "output_type": "stream",
       "stream": "stderr",
       "text": [
        "WARNING - Spectrum continues beyond maximum energy in EBL table.\n"
       ]
      },
      {
       "output_type": "stream",
       "stream": "stderr",
       "text": [
        "WARNING - Using 659.0 counts/hr as the rate from the Crab Nebula.\n"
       ]
      },
      {
       "output_type": "stream",
       "stream": "stderr",
       "text": [
        "WARNING - Time to detection assumes a Crab Nebula Spectrum.\n"
       ]
      },
      {
       "output_type": "stream",
       "stream": "stderr",
       "text": [
        "INFO - Using Effective_Areas/VERITAS/ea_Nov2010_na_ATM21_vegasv240rc1_7sam_050off_soft-1.summary.csv\n"
       ]
      },
      {
       "output_type": "stream",
       "stream": "stderr",
       "text": [
        "INFO - Using EffectiveArea_Azimuth_0_Zenith_0_Noise_4.07\n"
       ]
      },
      {
       "output_type": "stream",
       "stream": "stderr",
       "text": [
        "INFO - Safe energy range: 125.89 to 19,952.62 GeV\n"
       ]
      },
      {
       "output_type": "stream",
       "stream": "stderr",
       "text": [
        "INFO - dNdE at 1 GeV: 5.80e-04 s^-1 cm^-2 GeV^-1\n"
       ]
      },
      {
       "output_type": "stream",
       "stream": "stderr",
       "text": [
        "INFO - dNdE at 400 GeV: 4.73e-10 s^-1 cm^-2 GeV^-1\n"
       ]
      },
      {
       "output_type": "stream",
       "stream": "stderr",
       "text": [
        "INFO - dNdE at 1 TeV: 5.54e-11 s^-1 cm^-2 GeV^-1\n"
       ]
      },
      {
       "output_type": "stream",
       "stream": "stderr",
       "text": [
        "INFO - tau at min safe E: 0.18\n"
       ]
      },
      {
       "output_type": "stream",
       "stream": "stderr",
       "text": [
        "INFO - tau at max safe E: 95.82\n"
       ]
      },
      {
       "output_type": "stream",
       "stream": "stderr",
       "text": [
        "INFO - Predicted counts/hour: 4.73e+05\n"
       ]
      },
      {
       "output_type": "stream",
       "stream": "stderr",
       "text": [
        "INFO - This is approximately 71,813.0594% of the Crab Nebula's Flux\n"
       ]
      },
      {
       "output_type": "stream",
       "stream": "stderr",
       "text": [
        "INFO - This will take approximately 0.0107 hours to detect at a 5 sigma level\n"
       ]
      },
      {
       "output_type": "stream",
       "stream": "stderr",
       "text": [
        "WARNING - Spectrum starts below minimum energy in EBL table.\n"
       ]
      },
      {
       "output_type": "stream",
       "stream": "stderr",
       "text": [
        "WARNING - Spectrum continues beyond maximum energy in EBL table.\n"
       ]
      },
      {
       "output_type": "stream",
       "stream": "stderr",
       "text": [
        "WARNING - Using 659.0 counts/hr as the rate from the Crab Nebula.\n"
       ]
      },
      {
       "output_type": "stream",
       "stream": "stderr",
       "text": [
        "WARNING - Time to detection assumes a Crab Nebula Spectrum.\n"
       ]
      },
      {
       "output_type": "stream",
       "stream": "stderr",
       "text": [
        "INFO - Using Effective_Areas/VERITAS/ea_Nov2010_na_ATM21_vegasv240rc1_7sam_050off_soft-1.summary.csv\n"
       ]
      },
      {
       "output_type": "stream",
       "stream": "stderr",
       "text": [
        "INFO - Using EffectiveArea_Azimuth_0_Zenith_0_Noise_4.07\n"
       ]
      },
      {
       "output_type": "stream",
       "stream": "stderr",
       "text": [
        "INFO - Safe energy range: 125.89 to 19,952.62 GeV\n"
       ]
      },
      {
       "output_type": "stream",
       "stream": "stderr",
       "text": [
        "INFO - dNdE at 1 GeV: 2.05e-03 s^-1 cm^-2 GeV^-1\n"
       ]
      },
      {
       "output_type": "stream",
       "stream": "stderr",
       "text": [
        "INFO - dNdE at 400 GeV: 2.70e-09 s^-1 cm^-2 GeV^-1\n"
       ]
      },
      {
       "output_type": "stream",
       "stream": "stderr",
       "text": [
        "INFO - dNdE at 1 TeV: 3.41e-10 s^-1 cm^-2 GeV^-1\n"
       ]
      },
      {
       "output_type": "stream",
       "stream": "stderr",
       "text": [
        "INFO - tau at min safe E: 0.18\n"
       ]
      },
      {
       "output_type": "stream",
       "stream": "stderr",
       "text": [
        "INFO - tau at max safe E: 95.82\n"
       ]
      },
      {
       "output_type": "stream",
       "stream": "stderr",
       "text": [
        "INFO - Predicted counts/hour: 2.56e+06\n"
       ]
      },
      {
       "output_type": "stream",
       "stream": "stderr",
       "text": [
        "INFO - This is approximately 387,919.1217% of the Crab Nebula's Flux\n"
       ]
      },
      {
       "output_type": "stream",
       "stream": "stderr",
       "text": [
        "INFO - This will take approximately 0.0107 hours to detect at a 5 sigma level\n"
       ]
      },
      {
       "output_type": "stream",
       "stream": "stderr",
       "text": [
        "WARNING - Spectrum starts below minimum energy in EBL table.\n"
       ]
      },
      {
       "output_type": "stream",
       "stream": "stderr",
       "text": [
        "WARNING - Spectrum continues beyond maximum energy in EBL table.\n"
       ]
      },
      {
       "output_type": "stream",
       "stream": "stderr",
       "text": [
        "WARNING - Using 659.0 counts/hr as the rate from the Crab Nebula.\n"
       ]
      },
      {
       "output_type": "stream",
       "stream": "stderr",
       "text": [
        "WARNING - Time to detection assumes a Crab Nebula Spectrum.\n"
       ]
      },
      {
       "output_type": "stream",
       "stream": "stderr",
       "text": [
        "INFO - Using Effective_Areas/VERITAS/ea_Nov2010_na_ATM21_vegasv240rc1_7sam_050off_soft-1.summary.csv\n"
       ]
      },
      {
       "output_type": "stream",
       "stream": "stderr",
       "text": [
        "INFO - Using EffectiveArea_Azimuth_0_Zenith_0_Noise_4.07\n"
       ]
      },
      {
       "output_type": "stream",
       "stream": "stderr",
       "text": [
        "INFO - Safe energy range: 125.89 to 19,952.62 GeV\n"
       ]
      },
      {
       "output_type": "stream",
       "stream": "stderr",
       "text": [
        "INFO - dNdE at 1 GeV: 4.03e-03 s^-1 cm^-2 GeV^-1\n"
       ]
      },
      {
       "output_type": "stream",
       "stream": "stderr",
       "text": [
        "INFO - dNdE at 400 GeV: 9.40e-08 s^-1 cm^-2 GeV^-1\n"
       ]
      },
      {
       "output_type": "stream",
       "stream": "stderr",
       "text": [
        "INFO - dNdE at 1 TeV: 1.84e-08 s^-1 cm^-2 GeV^-1\n"
       ]
      },
      {
       "output_type": "stream",
       "stream": "stderr",
       "text": [
        "INFO - tau at min safe E: 0.18\n"
       ]
      },
      {
       "output_type": "stream",
       "stream": "stderr",
       "text": [
        "INFO - tau at max safe E: 95.82\n"
       ]
      },
      {
       "output_type": "stream",
       "stream": "stderr",
       "text": [
        "INFO - Predicted counts/hour: 6.48e+07\n"
       ]
      },
      {
       "output_type": "stream",
       "stream": "stderr",
       "text": [
        "INFO - This is approximately 9,834,232.2784% of the Crab Nebula's Flux\n"
       ]
      },
      {
       "output_type": "stream",
       "stream": "stderr",
       "text": [
        "INFO - This will take approximately 0.0107 hours to detect at a 5 sigma level\n"
       ]
      },
      {
       "output_type": "stream",
       "stream": "stderr",
       "text": [
        "WARNING - Spectrum starts below minimum energy in EBL table.\n"
       ]
      },
      {
       "output_type": "stream",
       "stream": "stderr",
       "text": [
        "WARNING - Spectrum continues beyond maximum energy in EBL table.\n"
       ]
      },
      {
       "output_type": "stream",
       "stream": "stderr",
       "text": [
        "WARNING - Using 659.0 counts/hr as the rate from the Crab Nebula.\n"
       ]
      },
      {
       "output_type": "stream",
       "stream": "stderr",
       "text": [
        "WARNING - Time to detection assumes a Crab Nebula Spectrum.\n"
       ]
      },
      {
       "output_type": "stream",
       "stream": "stderr",
       "text": [
        "INFO - Using Effective_Areas/VERITAS/ea_Nov2010_na_ATM21_vegasv240rc1_7sam_050off_soft-1.summary.csv\n"
       ]
      },
      {
       "output_type": "stream",
       "stream": "stderr",
       "text": [
        "INFO - Using EffectiveArea_Azimuth_0_Zenith_0_Noise_4.07\n"
       ]
      },
      {
       "output_type": "stream",
       "stream": "stderr",
       "text": [
        "INFO - Safe energy range: 125.89 to 19,952.62 GeV\n"
       ]
      },
      {
       "output_type": "stream",
       "stream": "stderr",
       "text": [
        "INFO - dNdE at 1 GeV: 5.19e-03 s^-1 cm^-2 GeV^-1\n"
       ]
      },
      {
       "output_type": "stream",
       "stream": "stderr",
       "text": [
        "INFO - dNdE at 400 GeV: 1.45e-07 s^-1 cm^-2 GeV^-1\n"
       ]
      },
      {
       "output_type": "stream",
       "stream": "stderr",
       "text": [
        "INFO - dNdE at 1 TeV: 2.92e-08 s^-1 cm^-2 GeV^-1\n"
       ]
      },
      {
       "output_type": "stream",
       "stream": "stderr",
       "text": [
        "INFO - tau at min safe E: 0.18\n"
       ]
      },
      {
       "output_type": "stream",
       "stream": "stderr",
       "text": [
        "INFO - tau at max safe E: 95.82\n"
       ]
      },
      {
       "output_type": "stream",
       "stream": "stderr",
       "text": [
        "INFO - Predicted counts/hour: 9.82e+07\n"
       ]
      },
      {
       "output_type": "stream",
       "stream": "stderr",
       "text": [
        "INFO - This is approximately 14,904,844.8205% of the Crab Nebula's Flux\n"
       ]
      },
      {
       "output_type": "stream",
       "stream": "stderr",
       "text": [
        "INFO - This will take approximately 0.0107 hours to detect at a 5 sigma level\n"
       ]
      },
      {
       "output_type": "stream",
       "stream": "stderr",
       "text": [
        "WARNING - Spectrum starts below minimum energy in EBL table.\n"
       ]
      },
      {
       "output_type": "stream",
       "stream": "stderr",
       "text": [
        "WARNING - Spectrum continues beyond maximum energy in EBL table.\n"
       ]
      },
      {
       "output_type": "stream",
       "stream": "stderr",
       "text": [
        "WARNING - Using 659.0 counts/hr as the rate from the Crab Nebula.\n"
       ]
      },
      {
       "output_type": "stream",
       "stream": "stderr",
       "text": [
        "WARNING - Time to detection assumes a Crab Nebula Spectrum.\n"
       ]
      },
      {
       "output_type": "stream",
       "stream": "stderr",
       "text": [
        "INFO - Using Effective_Areas/VERITAS/ea_Nov2010_na_ATM21_vegasv240rc1_7sam_050off_soft-1.summary.csv\n"
       ]
      },
      {
       "output_type": "stream",
       "stream": "stderr",
       "text": [
        "INFO - Using EffectiveArea_Azimuth_0_Zenith_0_Noise_4.07\n"
       ]
      },
      {
       "output_type": "stream",
       "stream": "stderr",
       "text": [
        "INFO - Safe energy range: 125.89 to 19,952.62 GeV\n"
       ]
      },
      {
       "output_type": "stream",
       "stream": "stderr",
       "text": [
        "INFO - dNdE at 1 GeV: 6.87e-04 s^-1 cm^-2 GeV^-1\n"
       ]
      },
      {
       "output_type": "stream",
       "stream": "stderr",
       "text": [
        "INFO - dNdE at 400 GeV: 1.46e-09 s^-1 cm^-2 GeV^-1\n"
       ]
      },
      {
       "output_type": "stream",
       "stream": "stderr",
       "text": [
        "INFO - dNdE at 1 TeV: 1.98e-10 s^-1 cm^-2 GeV^-1\n"
       ]
      },
      {
       "output_type": "stream",
       "stream": "stderr",
       "text": [
        "INFO - tau at min safe E: 0.18\n"
       ]
      },
      {
       "output_type": "stream",
       "stream": "stderr",
       "text": [
        "INFO - tau at max safe E: 95.82\n"
       ]
      },
      {
       "output_type": "stream",
       "stream": "stderr",
       "text": [
        "INFO - Predicted counts/hour: 1.31e+06\n"
       ]
      },
      {
       "output_type": "stream",
       "stream": "stderr",
       "text": [
        "INFO - This is approximately 198,220.8193% of the Crab Nebula's Flux\n"
       ]
      },
      {
       "output_type": "stream",
       "stream": "stderr",
       "text": [
        "INFO - This will take approximately 0.0107 hours to detect at a 5 sigma level\n"
       ]
      },
      {
       "output_type": "stream",
       "stream": "stderr",
       "text": [
        "WARNING - Spectrum starts below minimum energy in EBL table.\n"
       ]
      },
      {
       "output_type": "stream",
       "stream": "stderr",
       "text": [
        "WARNING - Spectrum continues beyond maximum energy in EBL table.\n"
       ]
      },
      {
       "output_type": "stream",
       "stream": "stderr",
       "text": [
        "WARNING - Using 659.0 counts/hr as the rate from the Crab Nebula.\n"
       ]
      },
      {
       "output_type": "stream",
       "stream": "stderr",
       "text": [
        "WARNING - Time to detection assumes a Crab Nebula Spectrum.\n"
       ]
      },
      {
       "output_type": "stream",
       "stream": "stderr",
       "text": [
        "INFO - Using Effective_Areas/VERITAS/ea_Nov2010_na_ATM21_vegasv240rc1_7sam_050off_soft-1.summary.csv\n"
       ]
      },
      {
       "output_type": "stream",
       "stream": "stderr",
       "text": [
        "INFO - Using EffectiveArea_Azimuth_0_Zenith_0_Noise_4.07\n"
       ]
      },
      {
       "output_type": "stream",
       "stream": "stderr",
       "text": [
        "INFO - Safe energy range: 125.89 to 19,952.62 GeV\n"
       ]
      },
      {
       "output_type": "stream",
       "stream": "stderr",
       "text": [
        "INFO - dNdE at 1 GeV: 7.99e-04 s^-1 cm^-2 GeV^-1\n"
       ]
      },
      {
       "output_type": "stream",
       "stream": "stderr",
       "text": [
        "INFO - dNdE at 400 GeV: 3.49e-09 s^-1 cm^-2 GeV^-1\n"
       ]
      },
      {
       "output_type": "stream",
       "stream": "stderr",
       "text": [
        "INFO - dNdE at 1 TeV: 5.28e-10 s^-1 cm^-2 GeV^-1\n"
       ]
      },
      {
       "output_type": "stream",
       "stream": "stderr",
       "text": [
        "INFO - tau at min safe E: 0.18\n"
       ]
      },
      {
       "output_type": "stream",
       "stream": "stderr",
       "text": [
        "INFO - tau at max safe E: 95.82\n"
       ]
      },
      {
       "output_type": "stream",
       "stream": "stderr",
       "text": [
        "INFO - Predicted counts/hour: 2.88e+06\n"
       ]
      },
      {
       "output_type": "stream",
       "stream": "stderr",
       "text": [
        "INFO - This is approximately 436,558.1023% of the Crab Nebula's Flux\n"
       ]
      },
      {
       "output_type": "stream",
       "stream": "stderr",
       "text": [
        "INFO - This will take approximately 0.0107 hours to detect at a 5 sigma level\n"
       ]
      },
      {
       "output_type": "stream",
       "stream": "stderr",
       "text": [
        "WARNING - Spectrum starts below minimum energy in EBL table.\n"
       ]
      },
      {
       "output_type": "stream",
       "stream": "stderr",
       "text": [
        "WARNING - Spectrum continues beyond maximum energy in EBL table.\n"
       ]
      },
      {
       "output_type": "stream",
       "stream": "stderr",
       "text": [
        "WARNING - Using 659.0 counts/hr as the rate from the Crab Nebula.\n"
       ]
      },
      {
       "output_type": "stream",
       "stream": "stderr",
       "text": [
        "WARNING - Time to detection assumes a Crab Nebula Spectrum.\n"
       ]
      },
      {
       "output_type": "stream",
       "stream": "stderr",
       "text": [
        "INFO - Using Effective_Areas/VERITAS/ea_Nov2010_na_ATM21_vegasv240rc1_7sam_050off_soft-1.summary.csv\n"
       ]
      },
      {
       "output_type": "stream",
       "stream": "stderr",
       "text": [
        "INFO - Using EffectiveArea_Azimuth_0_Zenith_0_Noise_4.07\n"
       ]
      },
      {
       "output_type": "stream",
       "stream": "stderr",
       "text": [
        "INFO - Safe energy range: 125.89 to 19,952.62 GeV\n"
       ]
      },
      {
       "output_type": "stream",
       "stream": "stderr",
       "text": [
        "INFO - dNdE at 1 GeV: 7.36e-04 s^-1 cm^-2 GeV^-1\n"
       ]
      },
      {
       "output_type": "stream",
       "stream": "stderr",
       "text": [
        "INFO - dNdE at 400 GeV: 1.20e-08 s^-1 cm^-2 GeV^-1\n"
       ]
      },
      {
       "output_type": "stream",
       "stream": "stderr",
       "text": [
        "INFO - dNdE at 1 TeV: 2.22e-09 s^-1 cm^-2 GeV^-1\n"
       ]
      },
      {
       "output_type": "stream",
       "stream": "stderr",
       "text": [
        "INFO - tau at min safe E: 0.18\n"
       ]
      },
      {
       "output_type": "stream",
       "stream": "stderr",
       "text": [
        "INFO - tau at max safe E: 95.82\n"
       ]
      },
      {
       "output_type": "stream",
       "stream": "stderr",
       "text": [
        "INFO - Predicted counts/hour: 8.59e+06\n"
       ]
      },
      {
       "output_type": "stream",
       "stream": "stderr",
       "text": [
        "INFO - This is approximately 1,303,835.9357% of the Crab Nebula's Flux\n"
       ]
      },
      {
       "output_type": "stream",
       "stream": "stderr",
       "text": [
        "INFO - This will take approximately 0.0107 hours to detect at a 5 sigma level\n"
       ]
      },
      {
       "output_type": "stream",
       "stream": "stderr",
       "text": [
        "WARNING - Spectrum starts below minimum energy in EBL table.\n"
       ]
      },
      {
       "output_type": "stream",
       "stream": "stderr",
       "text": [
        "WARNING - Spectrum continues beyond maximum energy in EBL table.\n"
       ]
      },
      {
       "output_type": "stream",
       "stream": "stderr",
       "text": [
        "WARNING - Using 659.0 counts/hr as the rate from the Crab Nebula.\n"
       ]
      },
      {
       "output_type": "stream",
       "stream": "stderr",
       "text": [
        "WARNING - Time to detection assumes a Crab Nebula Spectrum.\n"
       ]
      },
      {
       "output_type": "stream",
       "stream": "stderr",
       "text": [
        "INFO - Using Effective_Areas/VERITAS/ea_Nov2010_na_ATM21_vegasv240rc1_7sam_050off_soft-1.summary.csv\n"
       ]
      },
      {
       "output_type": "stream",
       "stream": "stderr",
       "text": [
        "INFO - Using EffectiveArea_Azimuth_0_Zenith_0_Noise_4.07\n"
       ]
      },
      {
       "output_type": "stream",
       "stream": "stderr",
       "text": [
        "INFO - Safe energy range: 125.89 to 19,952.62 GeV\n"
       ]
      },
      {
       "output_type": "stream",
       "stream": "stderr",
       "text": [
        "INFO - dNdE at 1 GeV: 3.38e-04 s^-1 cm^-2 GeV^-1\n"
       ]
      },
      {
       "output_type": "stream",
       "stream": "stderr",
       "text": [
        "INFO - dNdE at 400 GeV: 2.38e-09 s^-1 cm^-2 GeV^-1\n"
       ]
      },
      {
       "output_type": "stream",
       "stream": "stderr",
       "text": [
        "INFO - dNdE at 1 TeV: 3.88e-10 s^-1 cm^-2 GeV^-1\n"
       ]
      },
      {
       "output_type": "stream",
       "stream": "stderr",
       "text": [
        "INFO - tau at min safe E: 0.18\n"
       ]
      },
      {
       "output_type": "stream",
       "stream": "stderr",
       "text": [
        "INFO - tau at max safe E: 95.82\n"
       ]
      },
      {
       "output_type": "stream",
       "stream": "stderr",
       "text": [
        "INFO - Predicted counts/hour: 1.86e+06\n"
       ]
      },
      {
       "output_type": "stream",
       "stream": "stderr",
       "text": [
        "INFO - This is approximately 282,667.6446% of the Crab Nebula's Flux\n"
       ]
      },
      {
       "output_type": "stream",
       "stream": "stderr",
       "text": [
        "INFO - This will take approximately 0.0107 hours to detect at a 5 sigma level\n"
       ]
      },
      {
       "output_type": "stream",
       "stream": "stderr",
       "text": [
        "WARNING - Spectrum starts below minimum energy in EBL table.\n"
       ]
      },
      {
       "output_type": "stream",
       "stream": "stderr",
       "text": [
        "WARNING - Spectrum continues beyond maximum energy in EBL table.\n"
       ]
      },
      {
       "output_type": "stream",
       "stream": "stderr",
       "text": [
        "WARNING - Using 659.0 counts/hr as the rate from the Crab Nebula.\n"
       ]
      },
      {
       "output_type": "stream",
       "stream": "stderr",
       "text": [
        "WARNING - Time to detection assumes a Crab Nebula Spectrum.\n"
       ]
      },
      {
       "output_type": "stream",
       "stream": "stderr",
       "text": [
        "INFO - Using Effective_Areas/VERITAS/ea_Nov2010_na_ATM21_vegasv240rc1_7sam_050off_soft-1.summary.csv\n"
       ]
      },
      {
       "output_type": "stream",
       "stream": "stderr",
       "text": [
        "INFO - Using EffectiveArea_Azimuth_0_Zenith_0_Noise_4.07\n"
       ]
      },
      {
       "output_type": "stream",
       "stream": "stderr",
       "text": [
        "INFO - Safe energy range: 125.89 to 19,952.62 GeV\n"
       ]
      },
      {
       "output_type": "stream",
       "stream": "stderr",
       "text": [
        "INFO - dNdE at 1 GeV: 2.93e-04 s^-1 cm^-2 GeV^-1\n"
       ]
      },
      {
       "output_type": "stream",
       "stream": "stderr",
       "text": [
        "INFO - dNdE at 400 GeV: 1.53e-09 s^-1 cm^-2 GeV^-1\n"
       ]
      },
      {
       "output_type": "stream",
       "stream": "stderr",
       "text": [
        "INFO - dNdE at 1 TeV: 2.38e-10 s^-1 cm^-2 GeV^-1\n"
       ]
      },
      {
       "output_type": "stream",
       "stream": "stderr",
       "text": [
        "INFO - tau at min safe E: 0.18\n"
       ]
      },
      {
       "output_type": "stream",
       "stream": "stderr",
       "text": [
        "INFO - tau at max safe E: 95.82\n"
       ]
      },
      {
       "output_type": "stream",
       "stream": "stderr",
       "text": [
        "INFO - Predicted counts/hour: 1.24e+06\n"
       ]
      },
      {
       "output_type": "stream",
       "stream": "stderr",
       "text": [
        "INFO - This is approximately 187,681.5309% of the Crab Nebula's Flux\n"
       ]
      },
      {
       "output_type": "stream",
       "stream": "stderr",
       "text": [
        "INFO - This will take approximately 0.0107 hours to detect at a 5 sigma level\n"
       ]
      },
      {
       "output_type": "stream",
       "stream": "stderr",
       "text": [
        "WARNING - Spectrum starts below minimum energy in EBL table.\n"
       ]
      },
      {
       "output_type": "stream",
       "stream": "stderr",
       "text": [
        "WARNING - Spectrum continues beyond maximum energy in EBL table.\n"
       ]
      },
      {
       "output_type": "stream",
       "stream": "stderr",
       "text": [
        "WARNING - Using 659.0 counts/hr as the rate from the Crab Nebula.\n"
       ]
      },
      {
       "output_type": "stream",
       "stream": "stderr",
       "text": [
        "WARNING - Time to detection assumes a Crab Nebula Spectrum.\n"
       ]
      },
      {
       "output_type": "stream",
       "stream": "stderr",
       "text": [
        "INFO - Using Effective_Areas/VERITAS/ea_Nov2010_na_ATM21_vegasv240rc1_7sam_050off_soft-1.summary.csv\n"
       ]
      },
      {
       "output_type": "stream",
       "stream": "stderr",
       "text": [
        "INFO - Using EffectiveArea_Azimuth_0_Zenith_0_Noise_4.07\n"
       ]
      },
      {
       "output_type": "stream",
       "stream": "stderr",
       "text": [
        "INFO - Safe energy range: 125.89 to 19,952.62 GeV\n"
       ]
      },
      {
       "output_type": "stream",
       "stream": "stderr",
       "text": [
        "INFO - dNdE at 1 GeV: 1.14e-04 s^-1 cm^-2 GeV^-1\n"
       ]
      },
      {
       "output_type": "stream",
       "stream": "stderr",
       "text": [
        "INFO - dNdE at 400 GeV: 3.34e-11 s^-1 cm^-2 GeV^-1\n"
       ]
      },
      {
       "output_type": "stream",
       "stream": "stderr",
       "text": [
        "INFO - dNdE at 1 TeV: 3.35e-12 s^-1 cm^-2 GeV^-1\n"
       ]
      },
      {
       "output_type": "stream",
       "stream": "stderr",
       "text": [
        "INFO - tau at min safe E: 0.18\n"
       ]
      },
      {
       "output_type": "stream",
       "stream": "stderr",
       "text": [
        "INFO - tau at max safe E: 95.82\n"
       ]
      },
      {
       "output_type": "stream",
       "stream": "stderr",
       "text": [
        "INFO - Predicted counts/hour: 3.78e+04\n"
       ]
      },
      {
       "output_type": "stream",
       "stream": "stderr",
       "text": [
        "INFO - This is approximately 5,732.9970% of the Crab Nebula's Flux\n"
       ]
      },
      {
       "output_type": "stream",
       "stream": "stderr",
       "text": [
        "INFO - This will take approximately 0.0107 hours to detect at a 5 sigma level\n"
       ]
      },
      {
       "output_type": "stream",
       "stream": "stderr",
       "text": [
        "WARNING - Spectrum starts below minimum energy in EBL table.\n"
       ]
      },
      {
       "output_type": "stream",
       "stream": "stderr",
       "text": [
        "WARNING - Spectrum continues beyond maximum energy in EBL table.\n"
       ]
      },
      {
       "output_type": "stream",
       "stream": "stderr",
       "text": [
        "WARNING - Using 659.0 counts/hr as the rate from the Crab Nebula.\n"
       ]
      },
      {
       "output_type": "stream",
       "stream": "stderr",
       "text": [
        "WARNING - Time to detection assumes a Crab Nebula Spectrum.\n"
       ]
      },
      {
       "output_type": "stream",
       "stream": "stderr",
       "text": [
        "INFO - Using Effective_Areas/VERITAS/ea_Nov2010_na_ATM21_vegasv240rc1_7sam_050off_soft-1.summary.csv\n"
       ]
      },
      {
       "output_type": "stream",
       "stream": "stderr",
       "text": [
        "INFO - Using EffectiveArea_Azimuth_0_Zenith_0_Noise_4.07\n"
       ]
      },
      {
       "output_type": "stream",
       "stream": "stderr",
       "text": [
        "INFO - Safe energy range: 125.89 to 19,952.62 GeV\n"
       ]
      },
      {
       "output_type": "stream",
       "stream": "stderr",
       "text": [
        "INFO - dNdE at 1 GeV: 4.01e-04 s^-1 cm^-2 GeV^-1\n"
       ]
      },
      {
       "output_type": "stream",
       "stream": "stderr",
       "text": [
        "INFO - dNdE at 400 GeV: 8.31e-09 s^-1 cm^-2 GeV^-1\n"
       ]
      },
      {
       "output_type": "stream",
       "stream": "stderr",
       "text": [
        "INFO - dNdE at 1 TeV: 1.60e-09 s^-1 cm^-2 GeV^-1\n"
       ]
      },
      {
       "output_type": "stream",
       "stream": "stderr",
       "text": [
        "INFO - tau at min safe E: 0.18\n"
       ]
      },
      {
       "output_type": "stream",
       "stream": "stderr",
       "text": [
        "INFO - tau at max safe E: 95.82\n"
       ]
      },
      {
       "output_type": "stream",
       "stream": "stderr",
       "text": [
        "INFO - Predicted counts/hour: 5.80e+06\n"
       ]
      },
      {
       "output_type": "stream",
       "stream": "stderr",
       "text": [
        "INFO - This is approximately 880,537.9167% of the Crab Nebula's Flux\n"
       ]
      },
      {
       "output_type": "stream",
       "stream": "stderr",
       "text": [
        "INFO - This will take approximately 0.0107 hours to detect at a 5 sigma level\n"
       ]
      },
      {
       "output_type": "stream",
       "stream": "stderr",
       "text": [
        "WARNING - Spectrum starts below minimum energy in EBL table.\n"
       ]
      },
      {
       "output_type": "stream",
       "stream": "stderr",
       "text": [
        "WARNING - Spectrum continues beyond maximum energy in EBL table.\n"
       ]
      },
      {
       "output_type": "stream",
       "stream": "stderr",
       "text": [
        "WARNING - Using 659.0 counts/hr as the rate from the Crab Nebula.\n"
       ]
      },
      {
       "output_type": "stream",
       "stream": "stderr",
       "text": [
        "WARNING - Time to detection assumes a Crab Nebula Spectrum.\n"
       ]
      },
      {
       "output_type": "stream",
       "stream": "stderr",
       "text": [
        "INFO - Using Effective_Areas/VERITAS/ea_Nov2010_na_ATM21_vegasv240rc1_7sam_050off_soft-1.summary.csv\n"
       ]
      },
      {
       "output_type": "stream",
       "stream": "stderr",
       "text": [
        "INFO - Using EffectiveArea_Azimuth_0_Zenith_0_Noise_4.07\n"
       ]
      },
      {
       "output_type": "stream",
       "stream": "stderr",
       "text": [
        "INFO - Safe energy range: 125.89 to 19,952.62 GeV\n"
       ]
      },
      {
       "output_type": "stream",
       "stream": "stderr",
       "text": [
        "INFO - dNdE at 1 GeV: 1.80e-04 s^-1 cm^-2 GeV^-1\n"
       ]
      },
      {
       "output_type": "stream",
       "stream": "stderr",
       "text": [
        "INFO - dNdE at 400 GeV: 8.84e-10 s^-1 cm^-2 GeV^-1\n"
       ]
      },
      {
       "output_type": "stream",
       "stream": "stderr",
       "text": [
        "INFO - dNdE at 1 TeV: 1.36e-10 s^-1 cm^-2 GeV^-1\n"
       ]
      },
      {
       "output_type": "stream",
       "stream": "stderr",
       "text": [
        "INFO - tau at min safe E: 0.18\n"
       ]
      },
      {
       "output_type": "stream",
       "stream": "stderr",
       "text": [
        "INFO - tau at max safe E: 95.82\n"
       ]
      },
      {
       "output_type": "stream",
       "stream": "stderr",
       "text": [
        "INFO - Predicted counts/hour: 7.20e+05\n"
       ]
      },
      {
       "output_type": "stream",
       "stream": "stderr",
       "text": [
        "INFO - This is approximately 109,268.6535% of the Crab Nebula's Flux\n"
       ]
      },
      {
       "output_type": "stream",
       "stream": "stderr",
       "text": [
        "INFO - This will take approximately 0.0107 hours to detect at a 5 sigma level\n"
       ]
      },
      {
       "output_type": "stream",
       "stream": "stderr",
       "text": [
        "WARNING - Spectrum starts below minimum energy in EBL table.\n"
       ]
      },
      {
       "output_type": "stream",
       "stream": "stderr",
       "text": [
        "WARNING - Spectrum continues beyond maximum energy in EBL table.\n"
       ]
      },
      {
       "output_type": "stream",
       "stream": "stderr",
       "text": [
        "WARNING - Using 659.0 counts/hr as the rate from the Crab Nebula.\n"
       ]
      },
      {
       "output_type": "stream",
       "stream": "stderr",
       "text": [
        "WARNING - Time to detection assumes a Crab Nebula Spectrum.\n"
       ]
      },
      {
       "output_type": "stream",
       "stream": "stderr",
       "text": [
        "INFO - Using Effective_Areas/VERITAS/ea_Nov2010_na_ATM21_vegasv240rc1_7sam_050off_soft-1.summary.csv\n"
       ]
      },
      {
       "output_type": "stream",
       "stream": "stderr",
       "text": [
        "INFO - Using EffectiveArea_Azimuth_0_Zenith_0_Noise_4.07\n"
       ]
      },
      {
       "output_type": "stream",
       "stream": "stderr",
       "text": [
        "INFO - Safe energy range: 125.89 to 19,952.62 GeV\n"
       ]
      },
      {
       "output_type": "stream",
       "stream": "stderr",
       "text": [
        "INFO - dNdE at 1 GeV: 9.36e-05 s^-1 cm^-2 GeV^-1\n"
       ]
      },
      {
       "output_type": "stream",
       "stream": "stderr",
       "text": [
        "INFO - dNdE at 400 GeV: 9.13e-11 s^-1 cm^-2 GeV^-1\n"
       ]
      },
      {
       "output_type": "stream",
       "stream": "stderr",
       "text": [
        "INFO - dNdE at 1 TeV: 1.10e-11 s^-1 cm^-2 GeV^-1\n"
       ]
      },
      {
       "output_type": "stream",
       "stream": "stderr",
       "text": [
        "INFO - tau at min safe E: 0.18\n"
       ]
      },
      {
       "output_type": "stream",
       "stream": "stderr",
       "text": [
        "INFO - tau at max safe E: 95.82\n"
       ]
      },
      {
       "output_type": "stream",
       "stream": "stderr",
       "text": [
        "INFO - Predicted counts/hour: 8.95e+04\n"
       ]
      },
      {
       "output_type": "stream",
       "stream": "stderr",
       "text": [
        "INFO - This is approximately 13,573.8078% of the Crab Nebula's Flux\n"
       ]
      },
      {
       "output_type": "stream",
       "stream": "stderr",
       "text": [
        "INFO - This will take approximately 0.0107 hours to detect at a 5 sigma level\n"
       ]
      },
      {
       "output_type": "stream",
       "stream": "stderr",
       "text": [
        "WARNING - Spectrum starts below minimum energy in EBL table.\n"
       ]
      },
      {
       "output_type": "stream",
       "stream": "stderr",
       "text": [
        "WARNING - Spectrum continues beyond maximum energy in EBL table.\n"
       ]
      },
      {
       "output_type": "stream",
       "stream": "stderr",
       "text": [
        "WARNING - Using 659.0 counts/hr as the rate from the Crab Nebula.\n"
       ]
      },
      {
       "output_type": "stream",
       "stream": "stderr",
       "text": [
        "WARNING - Time to detection assumes a Crab Nebula Spectrum.\n"
       ]
      },
      {
       "output_type": "stream",
       "stream": "stderr",
       "text": [
        "INFO - Using Effective_Areas/VERITAS/ea_Nov2010_na_ATM21_vegasv240rc1_7sam_050off_soft-1.summary.csv\n"
       ]
      },
      {
       "output_type": "stream",
       "stream": "stderr",
       "text": [
        "INFO - Using EffectiveArea_Azimuth_0_Zenith_0_Noise_4.07\n"
       ]
      },
      {
       "output_type": "stream",
       "stream": "stderr",
       "text": [
        "INFO - Safe energy range: 125.89 to 19,952.62 GeV\n"
       ]
      },
      {
       "output_type": "stream",
       "stream": "stderr",
       "text": [
        "INFO - dNdE at 1 GeV: 5.99e-05 s^-1 cm^-2 GeV^-1\n"
       ]
      },
      {
       "output_type": "stream",
       "stream": "stderr",
       "text": [
        "INFO - dNdE at 400 GeV: 4.59e-11 s^-1 cm^-2 GeV^-1\n"
       ]
      },
      {
       "output_type": "stream",
       "stream": "stderr",
       "text": [
        "INFO - dNdE at 1 TeV: 5.33e-12 s^-1 cm^-2 GeV^-1\n"
       ]
      },
      {
       "output_type": "stream",
       "stream": "stderr",
       "text": [
        "INFO - tau at min safe E: 0.18\n"
       ]
      },
      {
       "output_type": "stream",
       "stream": "stderr",
       "text": [
        "INFO - tau at max safe E: 95.82\n"
       ]
      },
      {
       "output_type": "stream",
       "stream": "stderr",
       "text": [
        "INFO - Predicted counts/hour: 4.63e+04\n"
       ]
      },
      {
       "output_type": "stream",
       "stream": "stderr",
       "text": [
        "INFO - This is approximately 7,024.0473% of the Crab Nebula's Flux\n"
       ]
      },
      {
       "output_type": "stream",
       "stream": "stderr",
       "text": [
        "INFO - This will take approximately 0.0107 hours to detect at a 5 sigma level\n"
       ]
      },
      {
       "output_type": "stream",
       "stream": "stderr",
       "text": [
        "WARNING - Spectrum starts below minimum energy in EBL table.\n"
       ]
      },
      {
       "output_type": "stream",
       "stream": "stderr",
       "text": [
        "WARNING - Spectrum continues beyond maximum energy in EBL table.\n"
       ]
      },
      {
       "output_type": "stream",
       "stream": "stderr",
       "text": [
        "WARNING - Using 659.0 counts/hr as the rate from the Crab Nebula.\n"
       ]
      },
      {
       "output_type": "stream",
       "stream": "stderr",
       "text": [
        "WARNING - Time to detection assumes a Crab Nebula Spectrum.\n"
       ]
      },
      {
       "output_type": "stream",
       "stream": "stderr",
       "text": [
        "INFO - Using Effective_Areas/VERITAS/ea_Nov2010_na_ATM21_vegasv240rc1_7sam_050off_soft-1.summary.csv\n"
       ]
      },
      {
       "output_type": "stream",
       "stream": "stderr",
       "text": [
        "INFO - Using EffectiveArea_Azimuth_0_Zenith_0_Noise_4.07\n"
       ]
      },
      {
       "output_type": "stream",
       "stream": "stderr",
       "text": [
        "INFO - Safe energy range: 125.89 to 19,952.62 GeV\n"
       ]
      },
      {
       "output_type": "stream",
       "stream": "stderr",
       "text": [
        "INFO - dNdE at 1 GeV: 6.99e-05 s^-1 cm^-2 GeV^-1\n"
       ]
      },
      {
       "output_type": "stream",
       "stream": "stderr",
       "text": [
        "INFO - dNdE at 400 GeV: 2.87e-10 s^-1 cm^-2 GeV^-1\n"
       ]
      },
      {
       "output_type": "stream",
       "stream": "stderr",
       "text": [
        "INFO - dNdE at 1 TeV: 4.31e-11 s^-1 cm^-2 GeV^-1\n"
       ]
      },
      {
       "output_type": "stream",
       "stream": "stderr",
       "text": [
        "INFO - tau at min safe E: 0.18\n"
       ]
      },
      {
       "output_type": "stream",
       "stream": "stderr",
       "text": [
        "INFO - tau at max safe E: 95.82\n"
       ]
      },
      {
       "output_type": "stream",
       "stream": "stderr",
       "text": [
        "INFO - Predicted counts/hour: 2.39e+05\n"
       ]
      },
      {
       "output_type": "stream",
       "stream": "stderr",
       "text": [
        "INFO - This is approximately 36,218.0121% of the Crab Nebula's Flux\n"
       ]
      },
      {
       "output_type": "stream",
       "stream": "stderr",
       "text": [
        "INFO - This will take approximately 0.0107 hours to detect at a 5 sigma level\n"
       ]
      },
      {
       "output_type": "stream",
       "stream": "stderr",
       "text": [
        "WARNING - Spectrum starts below minimum energy in EBL table.\n"
       ]
      },
      {
       "output_type": "stream",
       "stream": "stderr",
       "text": [
        "WARNING - Spectrum continues beyond maximum energy in EBL table.\n"
       ]
      },
      {
       "output_type": "stream",
       "stream": "stderr",
       "text": [
        "WARNING - Using 659.0 counts/hr as the rate from the Crab Nebula.\n"
       ]
      },
      {
       "output_type": "stream",
       "stream": "stderr",
       "text": [
        "WARNING - Time to detection assumes a Crab Nebula Spectrum.\n"
       ]
      },
      {
       "output_type": "stream",
       "stream": "stderr",
       "text": [
        "INFO - Using Effective_Areas/VERITAS/ea_Nov2010_na_ATM21_vegasv240rc1_7sam_050off_soft-1.summary.csv\n"
       ]
      },
      {
       "output_type": "stream",
       "stream": "stderr",
       "text": [
        "INFO - Using EffectiveArea_Azimuth_0_Zenith_0_Noise_4.07\n"
       ]
      },
      {
       "output_type": "stream",
       "stream": "stderr",
       "text": [
        "INFO - Safe energy range: 125.89 to 19,952.62 GeV\n"
       ]
      },
      {
       "output_type": "stream",
       "stream": "stderr",
       "text": [
        "INFO - dNdE at 1 GeV: 2.54e-05 s^-1 cm^-2 GeV^-1\n"
       ]
      },
      {
       "output_type": "stream",
       "stream": "stderr",
       "text": [
        "INFO - dNdE at 400 GeV: 6.41e-13 s^-1 cm^-2 GeV^-1\n"
       ]
      },
      {
       "output_type": "stream",
       "stream": "stderr",
       "text": [
        "INFO - dNdE at 1 TeV: 4.41e-14 s^-1 cm^-2 GeV^-1\n"
       ]
      },
      {
       "output_type": "stream",
       "stream": "stderr",
       "text": [
        "INFO - tau at min safe E: 0.18\n"
       ]
      },
      {
       "output_type": "stream",
       "stream": "stderr",
       "text": [
        "INFO - tau at max safe E: 95.82\n"
       ]
      },
      {
       "output_type": "stream",
       "stream": "stderr",
       "text": [
        "INFO - Predicted counts/hour: 9.86e+02\n"
       ]
      },
      {
       "output_type": "stream",
       "stream": "stderr",
       "text": [
        "INFO - This is approximately 149.5881% of the Crab Nebula's Flux\n"
       ]
      },
      {
       "output_type": "stream",
       "stream": "stderr",
       "text": [
        "INFO - This will take approximately 0.0224 hours to detect at a 5 sigma level\n"
       ]
      },
      {
       "output_type": "stream",
       "stream": "stderr",
       "text": [
        "WARNING - Spectrum starts below minimum energy in EBL table.\n"
       ]
      },
      {
       "output_type": "stream",
       "stream": "stderr",
       "text": [
        "WARNING - Spectrum continues beyond maximum energy in EBL table.\n"
       ]
      },
      {
       "output_type": "stream",
       "stream": "stderr",
       "text": [
        "WARNING - Using 659.0 counts/hr as the rate from the Crab Nebula.\n"
       ]
      },
      {
       "output_type": "stream",
       "stream": "stderr",
       "text": [
        "WARNING - Time to detection assumes a Crab Nebula Spectrum.\n"
       ]
      },
      {
       "output_type": "stream",
       "stream": "stderr",
       "text": [
        "INFO - Using Effective_Areas/VERITAS/ea_Nov2010_na_ATM21_vegasv240rc1_7sam_050off_soft-1.summary.csv\n"
       ]
      },
      {
       "output_type": "stream",
       "stream": "stderr",
       "text": [
        "INFO - Using EffectiveArea_Azimuth_0_Zenith_0_Noise_4.07\n"
       ]
      },
      {
       "output_type": "stream",
       "stream": "stderr",
       "text": [
        "INFO - Safe energy range: 125.89 to 19,952.62 GeV\n"
       ]
      },
      {
       "output_type": "stream",
       "stream": "stderr",
       "text": [
        "INFO - dNdE at 1 GeV: 6.93e-05 s^-1 cm^-2 GeV^-1\n"
       ]
      },
      {
       "output_type": "stream",
       "stream": "stderr",
       "text": [
        "INFO - dNdE at 400 GeV: 1.66e-10 s^-1 cm^-2 GeV^-1\n"
       ]
      },
      {
       "output_type": "stream",
       "stream": "stderr",
       "text": [
        "INFO - dNdE at 1 TeV: 2.29e-11 s^-1 cm^-2 GeV^-1\n"
       ]
      },
      {
       "output_type": "stream",
       "stream": "stderr",
       "text": [
        "INFO - tau at min safe E: 0.18\n"
       ]
      },
      {
       "output_type": "stream",
       "stream": "stderr",
       "text": [
        "INFO - tau at max safe E: 95.82\n"
       ]
      },
      {
       "output_type": "stream",
       "stream": "stderr",
       "text": [
        "INFO - Predicted counts/hour: 1.47e+05\n"
       ]
      },
      {
       "output_type": "stream",
       "stream": "stderr",
       "text": [
        "INFO - This is approximately 22,243.0612% of the Crab Nebula's Flux\n"
       ]
      },
      {
       "output_type": "stream",
       "stream": "stderr",
       "text": [
        "INFO - This will take approximately 0.0107 hours to detect at a 5 sigma level\n"
       ]
      },
      {
       "output_type": "stream",
       "stream": "stderr",
       "text": [
        "WARNING - Spectrum starts below minimum energy in EBL table.\n"
       ]
      },
      {
       "output_type": "stream",
       "stream": "stderr",
       "text": [
        "WARNING - Spectrum continues beyond maximum energy in EBL table.\n"
       ]
      },
      {
       "output_type": "stream",
       "stream": "stderr",
       "text": [
        "WARNING - Using 659.0 counts/hr as the rate from the Crab Nebula.\n"
       ]
      },
      {
       "output_type": "stream",
       "stream": "stderr",
       "text": [
        "WARNING - Time to detection assumes a Crab Nebula Spectrum.\n"
       ]
      },
      {
       "output_type": "stream",
       "stream": "stderr",
       "text": [
        "INFO - Using Effective_Areas/VERITAS/ea_Nov2010_na_ATM21_vegasv240rc1_7sam_050off_soft-1.summary.csv\n"
       ]
      },
      {
       "output_type": "stream",
       "stream": "stderr",
       "text": [
        "INFO - Using EffectiveArea_Azimuth_0_Zenith_0_Noise_4.07\n"
       ]
      },
      {
       "output_type": "stream",
       "stream": "stderr",
       "text": [
        "INFO - Safe energy range: 125.89 to 19,952.62 GeV\n"
       ]
      },
      {
       "output_type": "stream",
       "stream": "stderr",
       "text": [
        "INFO - dNdE at 1 GeV: 1.47e-05 s^-1 cm^-2 GeV^-1\n"
       ]
      },
      {
       "output_type": "stream",
       "stream": "stderr",
       "text": [
        "INFO - dNdE at 400 GeV: 1.24e-10 s^-1 cm^-2 GeV^-1\n"
       ]
      },
      {
       "output_type": "stream",
       "stream": "stderr",
       "text": [
        "INFO - dNdE at 1 TeV: 2.07e-11 s^-1 cm^-2 GeV^-1\n"
       ]
      },
      {
       "output_type": "stream",
       "stream": "stderr",
       "text": [
        "INFO - tau at min safe E: 0.18\n"
       ]
      },
      {
       "output_type": "stream",
       "stream": "stderr",
       "text": [
        "INFO - tau at max safe E: 95.82\n"
       ]
      },
      {
       "output_type": "stream",
       "stream": "stderr",
       "text": [
        "INFO - Predicted counts/hour: 9.50e+04\n"
       ]
      },
      {
       "output_type": "stream",
       "stream": "stderr",
       "text": [
        "INFO - This is approximately 14,412.1173% of the Crab Nebula's Flux\n"
       ]
      },
      {
       "output_type": "stream",
       "stream": "stderr",
       "text": [
        "INFO - This will take approximately 0.0107 hours to detect at a 5 sigma level\n"
       ]
      },
      {
       "output_type": "stream",
       "stream": "stderr",
       "text": [
        "WARNING - Spectrum starts below minimum energy in EBL table.\n"
       ]
      },
      {
       "output_type": "stream",
       "stream": "stderr",
       "text": [
        "WARNING - Spectrum continues beyond maximum energy in EBL table.\n"
       ]
      },
      {
       "output_type": "stream",
       "stream": "stderr",
       "text": [
        "WARNING - Using 659.0 counts/hr as the rate from the Crab Nebula.\n"
       ]
      },
      {
       "output_type": "stream",
       "stream": "stderr",
       "text": [
        "WARNING - Time to detection assumes a Crab Nebula Spectrum.\n"
       ]
      },
      {
       "output_type": "stream",
       "stream": "stderr",
       "text": [
        "INFO - Using Effective_Areas/VERITAS/ea_Nov2010_na_ATM21_vegasv240rc1_7sam_050off_soft-1.summary.csv\n"
       ]
      },
      {
       "output_type": "stream",
       "stream": "stderr",
       "text": [
        "INFO - Using EffectiveArea_Azimuth_0_Zenith_0_Noise_4.07\n"
       ]
      },
      {
       "output_type": "stream",
       "stream": "stderr",
       "text": [
        "INFO - Safe energy range: 125.89 to 19,952.62 GeV\n"
       ]
      },
      {
       "output_type": "stream",
       "stream": "stderr",
       "text": [
        "INFO - dNdE at 1 GeV: 7.93e-06 s^-1 cm^-2 GeV^-1\n"
       ]
      },
      {
       "output_type": "stream",
       "stream": "stderr",
       "text": [
        "INFO - dNdE at 400 GeV: 1.22e-10 s^-1 cm^-2 GeV^-1\n"
       ]
      },
      {
       "output_type": "stream",
       "stream": "stderr",
       "text": [
        "INFO - dNdE at 1 TeV: 2.23e-11 s^-1 cm^-2 GeV^-1\n"
       ]
      },
      {
       "output_type": "stream",
       "stream": "stderr",
       "text": [
        "INFO - tau at min safe E: 0.18\n"
       ]
      },
      {
       "output_type": "stream",
       "stream": "stderr",
       "text": [
        "INFO - tau at max safe E: 95.82\n"
       ]
      },
      {
       "output_type": "stream",
       "stream": "stderr",
       "text": [
        "INFO - Predicted counts/hour: 8.76e+04\n"
       ]
      },
      {
       "output_type": "stream",
       "stream": "stderr",
       "text": [
        "INFO - This is approximately 13,300.3902% of the Crab Nebula's Flux\n"
       ]
      },
      {
       "output_type": "stream",
       "stream": "stderr",
       "text": [
        "INFO - This will take approximately 0.0107 hours to detect at a 5 sigma level\n"
       ]
      },
      {
       "output_type": "stream",
       "stream": "stderr",
       "text": [
        "WARNING - Spectrum starts below minimum energy in EBL table.\n"
       ]
      },
      {
       "output_type": "stream",
       "stream": "stderr",
       "text": [
        "WARNING - Spectrum continues beyond maximum energy in EBL table.\n"
       ]
      },
      {
       "output_type": "stream",
       "stream": "stderr",
       "text": [
        "WARNING - Using 659.0 counts/hr as the rate from the Crab Nebula.\n"
       ]
      },
      {
       "output_type": "stream",
       "stream": "stderr",
       "text": [
        "WARNING - Time to detection assumes a Crab Nebula Spectrum.\n"
       ]
      },
      {
       "output_type": "stream",
       "stream": "stderr",
       "text": [
        "INFO - Using Effective_Areas/VERITAS/ea_Nov2010_na_ATM21_vegasv240rc1_7sam_050off_soft-1.summary.csv\n"
       ]
      },
      {
       "output_type": "stream",
       "stream": "stderr",
       "text": [
        "INFO - Using EffectiveArea_Azimuth_0_Zenith_0_Noise_4.07\n"
       ]
      },
      {
       "output_type": "stream",
       "stream": "stderr",
       "text": [
        "INFO - Safe energy range: 125.89 to 19,952.62 GeV\n"
       ]
      },
      {
       "output_type": "stream",
       "stream": "stderr",
       "text": [
        "INFO - dNdE at 1 GeV: 4.72e-06 s^-1 cm^-2 GeV^-1\n"
       ]
      },
      {
       "output_type": "stream",
       "stream": "stderr",
       "text": [
        "INFO - dNdE at 400 GeV: 2.19e-11 s^-1 cm^-2 GeV^-1\n"
       ]
      },
      {
       "output_type": "stream",
       "stream": "stderr",
       "text": [
        "INFO - dNdE at 1 TeV: 3.34e-12 s^-1 cm^-2 GeV^-1\n"
       ]
      },
      {
       "output_type": "stream",
       "stream": "stderr",
       "text": [
        "INFO - tau at min safe E: 0.18\n"
       ]
      },
      {
       "output_type": "stream",
       "stream": "stderr",
       "text": [
        "INFO - tau at max safe E: 95.82\n"
       ]
      },
      {
       "output_type": "stream",
       "stream": "stderr",
       "text": [
        "INFO - Predicted counts/hour: 1.79e+04\n"
       ]
      },
      {
       "output_type": "stream",
       "stream": "stderr",
       "text": [
        "INFO - This is approximately 2,719.4811% of the Crab Nebula's Flux\n"
       ]
      },
      {
       "output_type": "stream",
       "stream": "stderr",
       "text": [
        "INFO - This will take approximately 0.0107 hours to detect at a 5 sigma level\n"
       ]
      },
      {
       "output_type": "stream",
       "stream": "stderr",
       "text": [
        "WARNING - Spectrum starts below minimum energy in EBL table.\n"
       ]
      },
      {
       "output_type": "stream",
       "stream": "stderr",
       "text": [
        "WARNING - Spectrum continues beyond maximum energy in EBL table.\n"
       ]
      },
      {
       "output_type": "stream",
       "stream": "stderr",
       "text": [
        "WARNING - Using 659.0 counts/hr as the rate from the Crab Nebula.\n"
       ]
      },
      {
       "output_type": "stream",
       "stream": "stderr",
       "text": [
        "WARNING - Time to detection assumes a Crab Nebula Spectrum.\n"
       ]
      },
      {
       "output_type": "stream",
       "stream": "stderr",
       "text": [
        "INFO - Using Effective_Areas/VERITAS/ea_Nov2010_na_ATM21_vegasv240rc1_7sam_050off_soft-1.summary.csv\n"
       ]
      },
      {
       "output_type": "stream",
       "stream": "stderr",
       "text": [
        "INFO - Using EffectiveArea_Azimuth_0_Zenith_0_Noise_4.07\n"
       ]
      },
      {
       "output_type": "stream",
       "stream": "stderr",
       "text": [
        "INFO - Safe energy range: 125.89 to 19,952.62 GeV\n"
       ]
      },
      {
       "output_type": "stream",
       "stream": "stderr",
       "text": [
        "INFO - dNdE at 1 GeV: 7.61e-07 s^-1 cm^-2 GeV^-1\n"
       ]
      },
      {
       "output_type": "stream",
       "stream": "stderr",
       "text": [
        "INFO - dNdE at 400 GeV: 7.00e-13 s^-1 cm^-2 GeV^-1\n"
       ]
      },
      {
       "output_type": "stream",
       "stream": "stderr",
       "text": [
        "INFO - dNdE at 1 TeV: 8.35e-14 s^-1 cm^-2 GeV^-1\n"
       ]
      },
      {
       "output_type": "stream",
       "stream": "stderr",
       "text": [
        "INFO - tau at min safe E: 0.18\n"
       ]
      },
      {
       "output_type": "stream",
       "stream": "stderr",
       "text": [
        "INFO - tau at max safe E: 95.82\n"
       ]
      },
      {
       "output_type": "stream",
       "stream": "stderr",
       "text": [
        "INFO - Predicted counts/hour: 6.90e+02\n"
       ]
      },
      {
       "output_type": "stream",
       "stream": "stderr",
       "text": [
        "INFO - This is approximately 104.7131% of the Crab Nebula's Flux\n"
       ]
      },
      {
       "output_type": "stream",
       "stream": "stderr",
       "text": [
        "INFO - This will take approximately 0.0322 hours to detect at a 5 sigma level\n"
       ]
      },
      {
       "output_type": "stream",
       "stream": "stderr",
       "text": [
        "WARNING - Spectrum starts below minimum energy in EBL table.\n"
       ]
      },
      {
       "output_type": "stream",
       "stream": "stderr",
       "text": [
        "WARNING - Spectrum continues beyond maximum energy in EBL table.\n"
       ]
      },
      {
       "output_type": "stream",
       "stream": "stderr",
       "text": [
        "WARNING - Using 659.0 counts/hr as the rate from the Crab Nebula.\n"
       ]
      },
      {
       "output_type": "stream",
       "stream": "stderr",
       "text": [
        "WARNING - Time to detection assumes a Crab Nebula Spectrum.\n"
       ]
      },
      {
       "output_type": "stream",
       "stream": "stderr",
       "text": [
        "INFO - Using Effective_Areas/VERITAS/ea_Nov2010_na_ATM21_vegasv240rc1_7sam_050off_soft-1.summary.csv\n"
       ]
      },
      {
       "output_type": "stream",
       "stream": "stderr",
       "text": [
        "INFO - Using EffectiveArea_Azimuth_0_Zenith_0_Noise_4.07\n"
       ]
      },
      {
       "output_type": "stream",
       "stream": "stderr",
       "text": [
        "INFO - Safe energy range: 125.89 to 19,952.62 GeV\n"
       ]
      },
      {
       "output_type": "stream",
       "stream": "stderr",
       "text": [
        "INFO - dNdE at 1 GeV: 4.28e-07 s^-1 cm^-2 GeV^-1\n"
       ]
      },
      {
       "output_type": "stream",
       "stream": "stderr",
       "text": [
        "INFO - dNdE at 400 GeV: 1.13e-11 s^-1 cm^-2 GeV^-1\n"
       ]
      },
      {
       "output_type": "stream",
       "stream": "stderr",
       "text": [
        "INFO - dNdE at 1 TeV: 2.25e-12 s^-1 cm^-2 GeV^-1\n"
       ]
      },
      {
       "output_type": "stream",
       "stream": "stderr",
       "text": [
        "INFO - tau at min safe E: 0.18\n"
       ]
      },
      {
       "output_type": "stream",
       "stream": "stderr",
       "text": [
        "INFO - tau at max safe E: 95.82\n"
       ]
      },
      {
       "output_type": "stream",
       "stream": "stderr",
       "text": [
        "INFO - Predicted counts/hour: 7.67e+03\n"
       ]
      },
      {
       "output_type": "stream",
       "stream": "stderr",
       "text": [
        "INFO - This is approximately 1,164.6069% of the Crab Nebula's Flux\n"
       ]
      },
      {
       "output_type": "stream",
       "stream": "stderr",
       "text": [
        "INFO - This will take approximately 0.0107 hours to detect at a 5 sigma level\n"
       ]
      }
     ],
     "prompt_number": 3
    },
    {
     "cell_type": "code",
     "collapsed": false,
     "input": [
      "fig2 = pyplot.figure(figsize=(16,8))\n",
      "fig2ax1 = fig2.add_subplot(111)\n",
      "fig2ax1.set_ylabel(r'Integral Flux [cm$^{-2}$ s$^{-1}$ GeV$^{-1}$]')\n",
      "fig2ax1.set_xlabel('Time [s]')\n",
      "# sets the errorbars\n",
      "#l1 = fig2ax1.errorbar(GRB.time, GRB.int_flux, xerr = GRB.time_err, yerr = GRB.error, fmt='_', color = 'g')\n",
      "l1 = fig2ax1.errorbar(GRB.time, GRB.int_flux, xerr = GRB.time_err, fmt='_', color = 'g')\n",
      "# plots the points\n",
      "l2 = fig2ax1.loglog(GRB.time, GRB.int_flux)\n",
      "#l21 = fig2ax1.loglog(GRB.time, GRB.int_flux_error)\n",
      "#l22 = fig2ax1.loglog(GRB.time, GRB.int.flux_error)\n",
      "#l22 = fig2ax1.loglog(GRB.time, GRB.error_1)\n",
      "fig2ax2 = fig2ax1.twinx()\n",
      "fig2ax2.set_ylabel(r'Photon indices')\n",
      "#l3 = fig2ax2.errorbar(GRB.time, GRB.Photon_index, xerr = GRB.time_err, yerr = GRB.Photon_index_error, fmt='_', color = 'r')\n",
      "#l4 = fig2ax2.plot(GRB.time, GRB.Photon_index)\n",
      "fig2.legend([l1[1],l2[0]], ['time bins', '0.1 to 100 GeV','photon indices '], 1)\n",
      "\n",
      "fig2ax1.set_xlim(1e-2,1e6)\n",
      "fig2ax1.axvline(100, color = 'k')\n",
      "pyplot.show()"
     ],
     "language": "python",
     "metadata": {},
     "outputs": [
      {
       "output_type": "display_data",
       "png": "[encoded data removed]",
       "text": [
        "<matplotlib.figure.Figure at 0x10c5c3d10>"
       ]
      }
     ],
     "prompt_number": 4
    },
    {
     "cell_type": "code",
     "collapsed": false,
     "input": [],
     "language": "python",
     "metadata": {},
     "outputs": [
      {
       "ename": "ImportError",
       "evalue": "cannot import name ScatterPlot",
       "output_type": "pyerr",
       "traceback": [
        "\u001b[0;31m---------------------------------------------------------------------------\u001b[0m\n\u001b[0;31mImportError\u001b[0m                               Traceback (most recent call last)",
        "\u001b[0;32m<ipython-input-18-c9696f61ea45>\u001b[0m in \u001b[0;36m<module>\u001b[0;34m()\u001b[0m\n\u001b[0;32m----> 1\u001b[0;31m \u001b[0;32mfrom\u001b[0m \u001b[0mchaco\u001b[0m \u001b[0;32mimport\u001b[0m \u001b[0mScatterPlot\u001b[0m\u001b[0;34m\u001b[0m\u001b[0m\n\u001b[0m",
        "\u001b[0;31mImportError\u001b[0m: cannot import name ScatterPlot"
       ]
      }
     ],
     "prompt_number": 18
    },
    {
     "cell_type": "code",
     "collapsed": false,
     "input": [],
     "language": "python",
     "metadata": {},
     "outputs": []
    }
   ],
   "metadata": {}
  }
 ]
}