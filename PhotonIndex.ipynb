{
 "metadata": {
  "name": "PhotonIndex"
 },
 "nbformat": 3,
 "nbformat_minor": 0,
 "worksheets": [
  {
   "cells": [
    {
     "cell_type": "code",
     "collapsed": false,
     "input": [
      "%pylab inline"
     ],
     "language": "python",
     "metadata": {},
     "outputs": [
      {
       "output_type": "stream",
       "stream": "stdout",
       "text": [
        "\n",
        "Welcome to pylab, a matplotlib-based Python environment [backend: module://IPython.kernel.zmq.pylab.backend_inline].\n",
        "For more information, type 'help(pylab)'.\n"
       ]
      }
     ],
     "prompt_number": 1
    },
    {
     "cell_type": "code",
     "collapsed": false,
     "input": [
      "from LC_VHE_integrate import *"
     ],
     "language": "python",
     "metadata": {},
     "outputs": [],
     "prompt_number": 2
    },
    {
     "cell_type": "code",
     "collapsed": false,
     "input": [
      "baseline_1 = flux(redshift = 0.34, eblModel = 'Dominguez', instrument = 'VERITAS', zenith = 40, index = -2.61, index_err = 0.704, N0 = 0.000244, start_time = 0.1, stop_time = 7)"
     ],
     "language": "python",
     "metadata": {},
     "outputs": [
      {
       "output_type": "stream",
       "stream": "stderr",
       "text": [
        "WARNING - Spectrum starts below minimum energy in EBL table.\n"
       ]
      },
      {
       "output_type": "stream",
       "stream": "stderr",
       "text": [
        "WARNING - Spectrum continues beyond maximum energy in EBL table.\n"
       ]
      },
      {
       "output_type": "stream",
       "stream": "stderr",
       "text": [
        "WARNING - Using 659.0 counts/hr as the rate from the Crab Nebula.\n"
       ]
      },
      {
       "output_type": "stream",
       "stream": "stderr",
       "text": [
        "WARNING - Time to detection assumes a Crab Nebula Spectrum.\n"
       ]
      },
      {
       "output_type": "stream",
       "stream": "stderr",
       "text": [
        "INFO - Using Effective_Areas/VERITAS/ea_Nov2010_na_ATM21_vegasv240rc1_7sam_050off_soft-1.summary.csv\n"
       ]
      },
      {
       "output_type": "stream",
       "stream": "stderr",
       "text": [
        "INFO - Using EffectiveArea_Azimuth_0_Zenith_40_Noise_4.07\n"
       ]
      },
      {
       "output_type": "stream",
       "stream": "stderr",
       "text": [
        "INFO - Safe energy range: 316.23 to 39,810.72 GeV\n"
       ]
      },
      {
       "output_type": "stream",
       "stream": "stderr",
       "text": [
        "INFO - dNdE at 1 GeV: 2.44e-04 s^-1 cm^-2 GeV^-1\n"
       ]
      },
      {
       "output_type": "stream",
       "stream": "stderr",
       "text": [
        "INFO - dNdE at 400 GeV: 3.94e-11 s^-1 cm^-2 GeV^-1\n"
       ]
      },
      {
       "output_type": "stream",
       "stream": "stderr",
       "text": [
        "INFO - dNdE at 1 TeV: 3.61e-12 s^-1 cm^-2 GeV^-1\n"
       ]
      },
      {
       "output_type": "stream",
       "stream": "stderr",
       "text": [
        "INFO - tau at min safe E: 1.16\n"
       ]
      },
      {
       "output_type": "stream",
       "stream": "stderr",
       "text": [
        "INFO - tau at max safe E: 232.44\n"
       ]
      },
      {
       "output_type": "stream",
       "stream": "stderr",
       "text": [
        "INFO - Predicted counts/hour: 4.79e+03\n"
       ]
      },
      {
       "output_type": "stream",
       "stream": "stderr",
       "text": [
        "INFO - This is approximately 727.0460% of the Crab Nebula's Flux\n"
       ]
      },
      {
       "output_type": "stream",
       "stream": "stderr",
       "text": [
        "INFO - This will take approximately 0.0107 hours to detect at a 5 sigma level\n"
       ]
      },
      {
       "output_type": "stream",
       "stream": "stderr",
       "text": [
        "WARNING - Spectrum starts below minimum energy in EBL table.\n"
       ]
      },
      {
       "output_type": "stream",
       "stream": "stderr",
       "text": [
        "WARNING - Spectrum continues beyond maximum energy in EBL table.\n"
       ]
      },
      {
       "output_type": "stream",
       "stream": "stderr",
       "text": [
        "WARNING - Using 659.0 counts/hr as the rate from the Crab Nebula.\n"
       ]
      },
      {
       "output_type": "stream",
       "stream": "stderr",
       "text": [
        "WARNING - Time to detection assumes a Crab Nebula Spectrum.\n"
       ]
      },
      {
       "output_type": "stream",
       "stream": "stderr",
       "text": [
        "INFO - Using Effective_Areas/VERITAS/ea_Nov2010_na_ATM21_vegasv240rc1_7sam_050off_soft-1.summary.csv\n"
       ]
      },
      {
       "output_type": "stream",
       "stream": "stderr",
       "text": [
        "INFO - Using EffectiveArea_Azimuth_0_Zenith_40_Noise_4.07\n"
       ]
      },
      {
       "output_type": "stream",
       "stream": "stderr",
       "text": [
        "INFO - Safe energy range: 316.23 to 39,810.72 GeV\n"
       ]
      },
      {
       "output_type": "stream",
       "stream": "stderr",
       "text": [
        "INFO - dNdE at 1 GeV: 2.44e-04 s^-1 cm^-2 GeV^-1\n"
       ]
      },
      {
       "output_type": "stream",
       "stream": "stderr",
       "text": [
        "INFO - dNdE at 400 GeV: 2.68e-09 s^-1 cm^-2 GeV^-1\n"
       ]
      },
      {
       "output_type": "stream",
       "stream": "stderr",
       "text": [
        "INFO - dNdE at 1 TeV: 4.67e-10 s^-1 cm^-2 GeV^-1\n"
       ]
      },
      {
       "output_type": "stream",
       "stream": "stderr",
       "text": [
        "INFO - tau at min safe E: 1.16\n"
       ]
      },
      {
       "output_type": "stream",
       "stream": "stderr",
       "text": [
        "INFO - tau at max safe E: 232.44\n"
       ]
      },
      {
       "output_type": "stream",
       "stream": "stderr",
       "text": [
        "INFO - Predicted counts/hour: 3.45e+05\n"
       ]
      },
      {
       "output_type": "stream",
       "stream": "stderr",
       "text": [
        "INFO - This is approximately 52,413.0687% of the Crab Nebula's Flux\n"
       ]
      },
      {
       "output_type": "stream",
       "stream": "stderr",
       "text": [
        "INFO - This will take approximately 0.0107 hours to detect at a 5 sigma level\n"
       ]
      },
      {
       "output_type": "stream",
       "stream": "stderr",
       "text": [
        "WARNING - Spectrum starts below minimum energy in EBL table.\n"
       ]
      },
      {
       "output_type": "stream",
       "stream": "stderr",
       "text": [
        "WARNING - Spectrum continues beyond maximum energy in EBL table.\n"
       ]
      },
      {
       "output_type": "stream",
       "stream": "stderr",
       "text": [
        "WARNING - Using 659.0 counts/hr as the rate from the Crab Nebula.\n"
       ]
      },
      {
       "output_type": "stream",
       "stream": "stderr",
       "text": [
        "WARNING - Time to detection assumes a Crab Nebula Spectrum.\n"
       ]
      },
      {
       "output_type": "stream",
       "stream": "stderr",
       "text": [
        "INFO - Using Effective_Areas/VERITAS/ea_Nov2010_na_ATM21_vegasv240rc1_7sam_050off_soft-1.summary.csv\n"
       ]
      },
      {
       "output_type": "stream",
       "stream": "stderr",
       "text": [
        "INFO - Using EffectiveArea_Azimuth_0_Zenith_40_Noise_4.07\n"
       ]
      },
      {
       "output_type": "stream",
       "stream": "stderr",
       "text": [
        "INFO - Safe energy range: 316.23 to 39,810.72 GeV\n"
       ]
      },
      {
       "output_type": "stream",
       "stream": "stderr",
       "text": [
        "INFO - dNdE at 1 GeV: 2.44e-04 s^-1 cm^-2 GeV^-1\n"
       ]
      },
      {
       "output_type": "stream",
       "stream": "stderr",
       "text": [
        "INFO - dNdE at 400 GeV: 5.81e-13 s^-1 cm^-2 GeV^-1\n"
       ]
      },
      {
       "output_type": "stream",
       "stream": "stderr",
       "text": [
        "INFO - dNdE at 1 TeV: 2.79e-14 s^-1 cm^-2 GeV^-1\n"
       ]
      },
      {
       "output_type": "stream",
       "stream": "stderr",
       "text": [
        "INFO - tau at min safe E: 1.16\n"
       ]
      },
      {
       "output_type": "stream",
       "stream": "stderr",
       "text": [
        "INFO - tau at max safe E: 232.44\n"
       ]
      },
      {
       "output_type": "stream",
       "stream": "stderr",
       "text": [
        "INFO - Predicted counts/hour: 6.91e+01\n"
       ]
      },
      {
       "output_type": "stream",
       "stream": "stderr",
       "text": [
        "INFO - This is approximately 10.4872% of the Crab Nebula's Flux\n"
       ]
      },
      {
       "output_type": "stream",
       "stream": "stderr",
       "text": [
        "INFO - This will take approximately 0.4568 hours to detect at a 5 sigma level\n"
       ]
      }
     ],
     "prompt_number": 19
    },
    {
     "cell_type": "code",
     "collapsed": false,
     "input": [
      "fig2 = pyplot.figure(figsize=(16,8))\n",
      "fig2ax1 = fig2.add_subplot(111)\n",
      "fig2ax1.set_ylabel(r'Differential Flux [cm$^{-2}$ s$^{-1}$ GeV$^{-1}$]')\n",
      "fig2ax1.set_xlabel('Energy [GeV]')\n",
      "l1 = fig2ax1.loglog(baseline_1.myVOT.VS.EBins, baseline_1.myVOT.VS.dNdE, 'b')\n",
      "l2 = fig2ax1.loglog(baseline_1.myVOT_P.VS.EBins, baseline_1.myVOT_P.VS.dNdE, 'g')\n",
      "l3 = fig2ax1.loglog(baseline_1.myVOT_M.VS.EBins, baseline_1.myVOT_M.VS.dNdE, 'r')\n",
      "fig2ax1.set_ylim((1e-16,1e-6))\n",
      "fig2ax1.set_xlim([0,1000])\n",
      "fig2ax2 = fig2ax1.twinx()\n",
      "l0 = fig2ax2.loglog((10**baseline_1.myVOT.VR.EACurve[0:,0])[::2],(baseline_1.myVOT.VR.EACurve[0:,1])[::2],'ko')\n",
      "fig2ax2.set_ylabel(r'Effective Area [cm$^2$]')\n",
      "fig2ax2.axvline(10**baseline_1.myVOT.VR.EASummary['minSafeE'],color='k')\n",
      "fig2ax2.axvline(10**baseline_1.myVOT.VR.EASummary['maxSafeE'],color='k')\n",
      "fig2.legend([l1[0], l2[0], l3[0], l0[0]], [\"$\\Gamma =$\" + str(baseline_1.index),\"$\\Gamma =$\" + str(baseline_1.index + baseline_1.index_err),\"$\\Gamma =$\" + str(baseline_1.index - baseline_1.index_err), 'EA'], 1)\n",
      "pyplot.show()"
     ],
     "language": "python",
     "metadata": {},
     "outputs": [
      {
       "output_type": "display_data",
       "png": "[encoded data removed]",
       "text": [
        "<matplotlib.figure.Figure at 0x1111bdb90>"
       ]
      }
     ],
     "prompt_number": 20
    },
    {
     "cell_type": "code",
     "collapsed": false,
     "input": [
      "from prettytable import *\n",
      "t = PrettyTable([\"Photon Index\",\"Integrated Flux\",\"Percent Error\", \"detection\"])\n",
      "#t.align[\"Photon Index\"] = \"l\" #left align photon indicies  \n",
      "t.add_row([baseline_1.index, baseline_1.int_flux, 'N/A', baseline_1.detection])\n",
      "t.add_row([baseline_1.index + baseline_1.index_err, baseline_1.int_flux_p, str(baseline_1.pp_error)+'%', baseline_1.detection_p])\n",
      "t.add_row([baseline_1.index - baseline_1.index_err, baseline_1.int_flux_m, str(baseline_1.pm_error)+'%', baseline_1.detection_m])\n",
      "print t\n"
     ],
     "language": "python",
     "metadata": {},
     "outputs": [
      {
       "output_type": "stream",
       "stream": "stdout",
       "text": [
        "+--------------+-------------------+----------------+--------------+\n",
        "| Photon Index |  Integrated Flux  | Percent Error  |  detection   |\n",
        "+--------------+-------------------+----------------+--------------+\n",
        "|    -2.61     | 2.40642347302e-05 |      N/A       |   Observed   |\n",
        "|    -1.906    |  0.00100395230316 | 4071.96854342% |   Observed   |\n",
        "|    -3.314    |  5.7714199864e-07 | 97.6016607006% | Not Observed |\n",
        "+--------------+-------------------+----------------+--------------+\n"
       ]
      }
     ],
     "prompt_number": 21
    },
    {
     "cell_type": "code",
     "collapsed": false,
     "input": [
      "print baseline_1.detTime\n",
      "print baseline_1.detTime_p\n",
      "print baseline_1.detTime_m"
     ],
     "language": "python",
     "metadata": {},
     "outputs": [
      {
       "output_type": "stream",
       "stream": "stdout",
       "text": [
        "[ 3.48930264]\n",
        "[ 0.64001276]\n",
        "[ 5501.63308507]\n"
       ]
      }
     ],
     "prompt_number": 18
    },
    {
     "cell_type": "code",
     "collapsed": false,
     "input": [
      "print baseline_1.crabFlux"
     ],
     "language": "python",
     "metadata": {},
     "outputs": [
      {
       "output_type": "stream",
       "stream": "stdout",
       "text": [
        "3369.41127517\n"
       ]
      }
     ],
     "prompt_number": 5
    },
    {
     "cell_type": "code",
     "collapsed": false,
     "input": [],
     "language": "python",
     "metadata": {},
     "outputs": []
    }
   ],
   "metadata": {}
  }
 ]
}