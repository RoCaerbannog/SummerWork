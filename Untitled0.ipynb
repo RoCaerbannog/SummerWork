{
 "metadata": {
  "name": "Untitled0"
 },
 "nbformat": 3,
 "nbformat_minor": 0,
 "worksheets": [
  {
   "cells": [
    {
     "cell_type": "code",
     "collapsed": false,
     "input": [
      "%pylab inline"
     ],
     "language": "python",
     "metadata": {},
     "outputs": [
      {
       "output_type": "stream",
       "stream": "stdout",
       "text": [
        "\n",
        "Welcome to pylab, a matplotlib-based Python environment [backend: module://IPython.kernel.zmq.pylab.backend_inline].\n",
        "For more information, type 'help(pylab)'.\n"
       ]
      }
     ],
     "prompt_number": 7
    },
    {
     "cell_type": "code",
     "collapsed": false,
     "input": [
      "from observatories import *"
     ],
     "language": "python",
     "metadata": {},
     "outputs": [],
     "prompt_number": 8
    },
    {
     "cell_type": "code",
     "collapsed": false,
     "input": [
      "import matplotlib.pyplot as plt\n",
      "from scipy import interpolate"
     ],
     "language": "python",
     "metadata": {},
     "outputs": [],
     "prompt_number": 51
    },
    {
     "cell_type": "code",
     "collapsed": false,
     "input": [
      "GRB_1 = VHEtelescope(instrument = 'VERITAS', time = range(2000), GC = [173.1370800,27.6990200], date = '2013/4/25 08:05:12')"
     ],
     "language": "python",
     "metadata": {},
     "outputs": [],
     "prompt_number": 29
    },
    {
     "cell_type": "code",
     "collapsed": false,
     "input": [
      "dates = np.array([])\n",
      "zenith = np.array([])\n",
      "moon = np.array([])\n",
      "GRB_1.myinstrument.date = GRB_1.date \n",
      "for t in GRB_1.time: \n",
      "    GRB_1.grb.compute(GRB_1.myinstrument)\n",
      "    m = ephem.Moon(GRB_1.myinstrument)\n",
      "    #print veritas.date,grb.alt\n",
      "    dates = np.append(dates, GRB_1.myinstrument.date)\n",
      "    zenith = np.append(zenith, 90 + np.degrees(GRB_1.grb.alt))\t\t\n",
      "    moon = np.append(moon, 90 + np.degrees(m.alt))\n",
      "    GRB_1.myinstrument.date += 1./(24.*60.)"
     ],
     "language": "python",
     "metadata": {},
     "outputs": [],
     "prompt_number": 30
    },
    {
     "cell_type": "code",
     "collapsed": false,
     "input": [
      "print dates\n",
      "print zenith"
     ],
     "language": "python",
     "metadata": {},
     "outputs": [
      {
       "output_type": "stream",
       "stream": "stdout",
       "text": [
        "[ 41387.83694444  41387.83763889  41387.83833333 ...,  41389.22375\n",
        "  41389.22444445  41389.22513889]\n",
        "[  52.06574065   52.25275806   52.44015113 ...,  148.14718991  148.11602376\n",
        "  148.08312274]\n"
       ]
      }
     ],
     "prompt_number": 31
    },
    {
     "cell_type": "code",
     "collapsed": false,
     "input": [
      "print np.interp(30, zenith, dates)\n",
      "print np.interp(35, zenith, dates)\n",
      "print np.interp(40, zenith, dates)\n",
      "print np.interp(45, zenith, dates)\n",
      "print np.interp(50, zenith, dates)\n",
      "print np.interp(55, zenith, dates)\n",
      "print np.interp(60, zenith, dates)\n",
      "print np.interp(65, zenith, dates)"
     ],
     "language": "python",
     "metadata": {},
     "outputs": [
      {
       "output_type": "stream",
       "stream": "stdout",
       "text": [
        "41387.8369444\n",
        "41387.8369444\n",
        "41387.8369444\n",
        "41387.8369444\n",
        "41387.8369444\n",
        "41387.8476914\n",
        "41387.8654172\n",
        "41387.8826203\n"
       ]
      }
     ],
     "prompt_number": 32
    },
    {
     "cell_type": "code",
     "collapsed": false,
     "input": [
      "plot(dates, zenith)"
     ],
     "language": "python",
     "metadata": {},
     "outputs": [
      {
       "output_type": "pyout",
       "prompt_number": 33,
       "text": [
        "[<matplotlib.lines.Line2D at 0x10bccac10>]"
       ]
      },
      {
       "output_type": "display_data",
       "png": "[encoded data removed]",
       "text": [
        "<matplotlib.figure.Figure at 0x10bc8d850>"
       ]
      }
     ],
     "prompt_number": 33
    },
    {
     "cell_type": "code",
     "collapsed": false,
     "input": [
      "smooth = interpolate.InterpolatedUnivariateSpline(zenith, dates)"
     ],
     "language": "python",
     "metadata": {},
     "outputs": [],
     "prompt_number": 53
    },
    {
     "cell_type": "code",
     "collapsed": false,
     "input": [
      "x=np.linspace(35, 65, 7)\n",
      "print x"
     ],
     "language": "python",
     "metadata": {},
     "outputs": [
      {
       "output_type": "stream",
       "stream": "stdout",
       "text": [
        "[ 35.  40.  45.  50.  55.  60.  65.]\n"
       ]
      }
     ],
     "prompt_number": 59
    },
    {
     "cell_type": "code",
     "collapsed": false,
     "input": [
      "x = np.linspace(35, 65, 7)\n",
      "yi = smooth(x)"
     ],
     "language": "python",
     "metadata": {},
     "outputs": [],
     "prompt_number": 61
    },
    {
     "cell_type": "code",
     "collapsed": false,
     "input": [
      "plt.plot(x, yi)"
     ],
     "language": "python",
     "metadata": {},
     "outputs": [
      {
       "output_type": "pyout",
       "prompt_number": 62,
       "text": [
        "[<matplotlib.lines.Line2D at 0x10cdcdd90>]"
       ]
      },
      {
       "output_type": "display_data",
       "png": "[encoded data removed]",
       "text": [
        "<matplotlib.figure.Figure at 0x10cdb7290>"
       ]
      }
     ],
     "prompt_number": 62
    },
    {
     "cell_type": "code",
     "collapsed": false,
     "input": [],
     "language": "python",
     "metadata": {},
     "outputs": []
    }
   ],
   "metadata": {}
  }
 ]
}